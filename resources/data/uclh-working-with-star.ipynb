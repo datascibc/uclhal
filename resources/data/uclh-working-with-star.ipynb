{
 "cells": [
  {
   "cell_type": "markdown",
   "id": "73201884-5561-4b6c-8e7a-94c25f169d67",
   "metadata": {},
   "source": [
    "# Working with EMAP star"
   ]
  },
  {
   "cell_type": "markdown",
   "id": "6bfc003f-b6d4-4506-87c7-f95483063da6",
   "metadata": {},
   "source": [
    "A template JupyterNotebook for working with EMAP. The following features of this notebook, and associated files are documented here to minimise the risk of data leaks or other incidents.\n",
    "\n",
    "- Usernames and passwords are stored in a .env file that is excluded from version control. The example `env` file at `./config/env` should be edited and saved as `./config/.env`. A utility function `load_env_vars()` is provided that will confirm this file exists and load the configuration into the working environment.\n",
    "- .gitattributes are set to strip JupyterNotebook cells when pushing to GitHub"
   ]
  },
  {
   "cell_type": "markdown",
   "id": "4855cc63-3c75-4c19-9577-9ce1775e83cc",
   "metadata": {},
   "source": [
    "## Basic set-up"
   ]
  },
  {
   "cell_type": "markdown",
   "id": "6ad06f26-b33a-4798-bc83-a3970319535b",
   "metadata": {},
   "source": [
    "Load libraries"
   ]
  },
  {
   "cell_type": "code",
   "execution_count": null,
   "id": "b66a7c55-fe17-45e7-ba6a-b29efc241932",
   "metadata": {
    "execution": {
     "iopub.execute_input": "2021-11-11T11:32:23.213553Z",
     "iopub.status.busy": "2021-11-11T11:32:23.213258Z",
     "iopub.status.idle": "2021-11-11T11:32:23.947874Z",
     "shell.execute_reply": "2021-11-11T11:32:23.947279Z",
     "shell.execute_reply.started": "2021-11-11T11:32:23.213489Z"
    },
    "tags": []
   },
   "outputs": [],
   "source": [
    "import os\n",
    "import matplotlib.pyplot as plt\n",
    "import numpy as np\n",
    "import pandas as pd\n",
    "\n",
    "from pathlib import Path\n",
    "from sqlalchemy import create_engine"
   ]
  },
  {
   "cell_type": "code",
   "execution_count": null,
   "id": "f660dcda-1784-4b34-9a85-deef78c6997a",
   "metadata": {
    "execution": {
     "iopub.execute_input": "2021-11-11T11:32:23.948757Z",
     "iopub.status.busy": "2021-11-11T11:32:23.948576Z",
     "iopub.status.idle": "2021-11-11T11:32:23.957610Z",
     "shell.execute_reply": "2021-11-11T11:32:23.957080Z",
     "shell.execute_reply.started": "2021-11-11T11:32:23.948732Z"
    },
    "tags": []
   },
   "outputs": [],
   "source": [
    "from utils.setup import load_env_vars"
   ]
  },
  {
   "cell_type": "markdown",
   "id": "fd187f27-949f-4d33-8051-388ec3a45953",
   "metadata": {
    "execution": {
     "iopub.execute_input": "2021-09-22T21:58:10.979482Z",
     "iopub.status.busy": "2021-09-22T21:58:10.979109Z",
     "iopub.status.idle": "2021-09-22T21:58:10.984761Z",
     "shell.execute_reply": "2021-09-22T21:58:10.983337Z",
     "shell.execute_reply.started": "2021-09-22T21:58:10.979452Z"
    }
   },
   "source": [
    "## Load environment variables\n",
    "\n",
    "Load environment variables and set-up SQLAlchemy connection engine for the EMAP Star"
   ]
  },
  {
   "cell_type": "code",
   "execution_count": null,
   "id": "8a484ab1-3f8b-4111-b5df-6e29fc1d4a45",
   "metadata": {
    "execution": {
     "iopub.execute_input": "2021-11-11T11:32:23.959762Z",
     "iopub.status.busy": "2021-11-11T11:32:23.959496Z",
     "iopub.status.idle": "2021-11-11T11:32:23.994739Z",
     "shell.execute_reply": "2021-11-11T11:32:23.993988Z",
     "shell.execute_reply.started": "2021-11-11T11:32:23.959735Z"
    },
    "tags": []
   },
   "outputs": [],
   "source": [
    "# Load environment variables\n",
    "load_env_vars()\n",
    "\n",
    "# Construct the PostgreSQL connection\n",
    "uds_host = os.getenv('EMAP_DB_HOST')\n",
    "uds_name = os.getenv('EMAP_DB_NAME')\n",
    "uds_port = os.getenv('EMAP_DB_PORT')\n",
    "uds_user = os.getenv('EMAP_DB_USER')\n",
    "uds_passwd = os.getenv('EMAP_DB_PASSWORD')\n",
    "\n",
    "emapdb_engine = create_engine(f'postgresql://{uds_user}:{uds_passwd}@{uds_host}:{uds_port}/{uds_name}')"
   ]
  },
  {
   "cell_type": "markdown",
   "id": "f72d3648-7639-4cfb-a372-b0f569c873ac",
   "metadata": {
    "execution": {
     "iopub.execute_input": "2021-09-22T22:14:06.698843Z",
     "iopub.status.busy": "2021-09-22T22:14:06.698503Z",
     "iopub.status.idle": "2021-09-22T22:14:06.702450Z",
     "shell.execute_reply": "2021-09-22T22:14:06.701820Z",
     "shell.execute_reply.started": "2021-09-22T22:14:06.698814Z"
    },
    "tags": []
   },
   "source": [
    "The above code is also abstracted into a function (below) but shown in long form above to make clear what we are doing.\n",
    "```python\n",
    "from utils.setup import make_emap_engine\n",
    "emapdb_engine = make_emap_engine\n",
    "```"
   ]
  },
  {
   "cell_type": "markdown",
   "id": "30ce5471-7e0e-45d8-a32d-ae04cc1a4f28",
   "metadata": {
    "tags": []
   },
   "source": [
    "## A first example script\n",
    "\n",
    "Now use the connection to work with EMAP.\n",
    "\n",
    "For example, let's inspect patients currently in ED or Resus.\n",
    "\n",
    "Here's the SQL:\n",
    "\n",
    "```sql\n",
    "-- Example script \n",
    "-- to pick out patients currently in A&E resus or majors\n",
    "\n",
    "SELECT\n",
    "   vd.location_visit_id\n",
    "  ,vd.hospital_visit_id\n",
    "  ,vd.location_id\n",
    "  -- ugly HL7 location string \n",
    "  ,lo.location_string\n",
    "  -- time admitted to that bed/theatre/scan etc.\n",
    "  ,vd.admission_time\n",
    "  -- time discharged from that bed\n",
    "  ,vd.discharge_time\n",
    "\n",
    "FROM star.location_visit vd\n",
    "-- location label\n",
    "INNER JOIN star.location lo ON vd.location_id = lo.location_id\n",
    "WHERE \n",
    "-- last few hours\n",
    "vd.admission_time > NOW() - '12 HOURS'::INTERVAL\t\n",
    "-- just CURRENT patients\n",
    "AND\n",
    "vd.discharge_time IS NULL\n",
    "-- filter out just ED and Resus or Majors\n",
    "AND\n",
    "-- unpacking the HL7 string formatted as \n",
    "-- Department^Ward^Bed string\n",
    "SPLIT_PART(lo.location_string,'^',1) = 'ED'\n",
    "AND\n",
    "SPLIT_PART(lo.location_string,'^',2) ~ '(RESUS|MAJORS)'\n",
    "-- sort\n",
    "ORDER BY lo.location_string\n",
    ";\n",
    "\n",
    "```\n"
   ]
  },
  {
   "cell_type": "markdown",
   "id": "835a5624-d5eb-4425-8c47-1451723f0c2a",
   "metadata": {},
   "source": [
    "The SQL script is stored at `../snippets/sql-vignettes/current_bed.sql`.\\\n",
    "We can load the script, and read the results into a Pandas dataframe.\n"
   ]
  },
  {
   "cell_type": "code",
   "execution_count": null,
   "id": "f948b8d7-749b-4ce4-85f6-685bd04b76db",
   "metadata": {
    "execution": {
     "iopub.execute_input": "2021-11-11T11:32:23.996000Z",
     "iopub.status.busy": "2021-11-11T11:32:23.995792Z",
     "iopub.status.idle": "2021-11-11T11:32:24.428951Z",
     "shell.execute_reply": "2021-11-11T11:32:24.428027Z",
     "shell.execute_reply.started": "2021-11-11T11:32:23.995974Z"
    },
    "tags": []
   },
   "outputs": [],
   "source": [
    "# Read the sql file into a query 'q' and the query into a dataframe\n",
    "q = Path('../snippets/sql-vignettes/current_bed.sql').read_text()\n",
    "df = pd.read_sql_query(q, emapdb_engine)"
   ]
  },
  {
   "cell_type": "code",
   "execution_count": null,
   "id": "1e75965b-a1ca-47b7-8f86-cca7e71b26bf",
   "metadata": {
    "execution": {
     "iopub.execute_input": "2021-11-11T11:32:24.430589Z",
     "iopub.status.busy": "2021-11-11T11:32:24.430307Z",
     "iopub.status.idle": "2021-11-11T11:32:24.444029Z",
     "shell.execute_reply": "2021-11-11T11:32:24.443505Z",
     "shell.execute_reply.started": "2021-11-11T11:32:24.430563Z"
    },
    "tags": []
   },
   "outputs": [],
   "source": [
    "df.head()"
   ]
  },
  {
   "cell_type": "markdown",
   "id": "38d941c9-8af6-4905-9f5b-e6949304b54a",
   "metadata": {},
   "source": [
    "## Working with hospital visits\n",
    "\n",
    "A series of three scripts\n",
    "\n",
    "1. Simply pull hospital visits\n",
    "2. Add in hospital numbers (MRN) and handle patient merges\n",
    "3. Add in patient demographics"
   ]
  },
  {
   "cell_type": "markdown",
   "id": "638cd171-4731-44a4-9334-96e17ce88044",
   "metadata": {
    "execution": {
     "iopub.execute_input": "2021-09-23T21:53:20.890749Z",
     "iopub.status.busy": "2021-09-23T21:53:20.890384Z",
     "iopub.status.idle": "2021-09-23T21:53:20.897313Z",
     "shell.execute_reply": "2021-09-23T21:53:20.896540Z",
     "shell.execute_reply.started": "2021-09-23T21:53:20.890716Z"
    }
   },
   "source": [
    "### Simply pull hospital visits\n",
    "\n",
    "```sql\n",
    "SELECT\n",
    "   vo.hospital_visit_id\n",
    "  ,vo.encounter\n",
    "  -- admission to hospital\n",
    "  ,vo.admission_time\n",
    "  ,vo.arrival_method\n",
    "  ,vo.presentation_time\n",
    "  -- discharge from hospital\n",
    "  -- NB: Outpatients have admission events but not discharge events\n",
    "  ,vo.discharge_time\n",
    "  ,vo.discharge_disposition\n",
    "\n",
    "-- start from hospital visits\n",
    "FROM star.hospital_visit vo\n",
    "WHERE \n",
    "      -- hospital visits within the last 12 hours\n",
    "      vo.presentation_time > NOW() - '12 HOURS'::INTERVAL\t\n",
    "      -- emergencies\n",
    "  AND vo.patient_class = 'EMERGENCY'\n",
    "      -- attending via ambulance\n",
    "  AND vo.arrival_method = 'Ambulance'\n",
    "      -- sort descending\n",
    "ORDER BY vo.presentation_time DESC\n",
    "; \n",
    "```"
   ]
  },
  {
   "cell_type": "code",
   "execution_count": null,
   "id": "28c3ecf1-89d2-4f65-8831-135fd4de24de",
   "metadata": {
    "execution": {
     "iopub.execute_input": "2021-11-11T11:32:24.445864Z",
     "iopub.status.busy": "2021-11-11T11:32:24.445274Z",
     "iopub.status.idle": "2021-11-11T11:32:26.602611Z",
     "shell.execute_reply": "2021-11-11T11:32:26.601741Z",
     "shell.execute_reply.started": "2021-11-11T11:32:24.445835Z"
    },
    "tags": []
   },
   "outputs": [],
   "source": [
    "# Read the sql file into a query 'q' and the query into a dataframe\n",
    "q = Path('../snippets/sql-vignettes/hospital_visit_1.sql').read_text()\n",
    "df = pd.read_sql_query(q, emapdb_engine)\n",
    "\n",
    "df.head()"
   ]
  },
  {
   "cell_type": "markdown",
   "id": "75d7fcb5-09e4-4485-ba47-c02073ade631",
   "metadata": {
    "execution": {
     "iopub.execute_input": "2021-09-23T21:56:01.727402Z",
     "iopub.status.busy": "2021-09-23T21:56:01.727120Z",
     "iopub.status.idle": "2021-09-23T21:56:01.733609Z",
     "shell.execute_reply": "2021-09-23T21:56:01.732509Z",
     "shell.execute_reply.started": "2021-09-23T21:56:01.727375Z"
    }
   },
   "source": [
    "### Add in hospital numbers (MRN) and handle patient merges\n",
    "\n",
    "See the series of joins in the middle of the script that retrieve the live MRN.\n",
    "That is we recognise that patients may have had an episode of care with one MRN, and then that episode was merged with another historical MRN. One of those two MRNs will then become the 'live' MRN and can be used to trace the patient across what otherwise would be different identities.\n",
    "\n",
    "```sql\n",
    "SELECT\n",
    "   vo.hospital_visit_id\n",
    "  ,vo.encounter\n",
    "  ,vo.admission_time\n",
    "  ,vo.arrival_method\n",
    "  ,vo.presentation_time\n",
    "  ,vo.discharge_time\n",
    "  ,vo.discharge_disposition\n",
    "  -- original MRN\n",
    "  ,original_mrn.mrn AS original_mrn\n",
    "  -- live MRN\n",
    "  ,live_mrn.mrn AS live_mrn\n",
    "\n",
    "-- start from hospital visits\n",
    "FROM star.hospital_visit vo\n",
    "-- get original mrn\n",
    "INNER JOIN star.mrn original_mrn ON vo.mrn_id = original_mrn.mrn_id\n",
    "-- get mrn to live mapping \n",
    "INNER JOIN star.mrn_to_live mtl ON vo.mrn_id = mtl.mrn_id \n",
    "-- get live mrn \n",
    "INNER JOIN star.mrn live_mrn ON mtl.live_mrn_id = live_mrn.mrn_id \n",
    "\n",
    "WHERE \n",
    "      -- hospital visits within the last 12 hours\n",
    "      vo.presentation_time > NOW() - '12 HOURS'::INTERVAL\t\n",
    "      -- emergencies\n",
    "  AND vo.patient_class = 'EMERGENCY'\n",
    "      -- attending via ambulance\n",
    "  AND vo.arrival_method = 'Ambulance'\n",
    "      -- sort descending\n",
    "ORDER BY vo.presentation_time DESC\n",
    "; \n",
    "```"
   ]
  },
  {
   "cell_type": "code",
   "execution_count": null,
   "id": "382e3881-3afc-4e72-9bd8-22c7b671d7ec",
   "metadata": {
    "execution": {
     "iopub.execute_input": "2021-11-11T11:32:26.604595Z",
     "iopub.status.busy": "2021-11-11T11:32:26.603646Z",
     "iopub.status.idle": "2021-11-11T11:32:27.871324Z",
     "shell.execute_reply": "2021-11-11T11:32:27.870719Z",
     "shell.execute_reply.started": "2021-11-11T11:32:26.604555Z"
    },
    "tags": []
   },
   "outputs": [],
   "source": [
    "# Read the sql file into a query 'q' and the query into a dataframe\n",
    "q = Path('../snippets/sql-vignettes/hospital_visit_2.sql').read_text()\n",
    "df = pd.read_sql_query(q, emapdb_engine)\n",
    "\n",
    "df.head()"
   ]
  },
  {
   "cell_type": "markdown",
   "id": "62387ed9-5e4a-44d0-91be-e44727436a56",
   "metadata": {
    "execution": {
     "iopub.execute_input": "2021-09-23T21:59:36.433959Z",
     "iopub.status.busy": "2021-09-23T21:59:36.433607Z",
     "iopub.status.idle": "2021-09-23T21:59:36.438315Z",
     "shell.execute_reply": "2021-09-23T21:59:36.437435Z",
     "shell.execute_reply.started": "2021-09-23T21:59:36.433930Z"
    },
    "tags": []
   },
   "source": [
    "### Add in patient demographics \n",
    "\n",
    "```sql\n",
    "SELECT\n",
    "   vo.hospital_visit_id\n",
    "  ,vo.encounter\n",
    "  ,vo.admission_time\n",
    "  ,vo.arrival_method\n",
    "  ,vo.presentation_time\n",
    "  ,vo.discharge_time\n",
    "  ,vo.discharge_disposition\n",
    "  -- original MRN\n",
    "  ,original_mrn.mrn AS original_mrn\n",
    "  -- live MRN\n",
    "  ,live_mrn.mrn AS live_mrn\n",
    "\n",
    "  -- core demographics\n",
    "  ,cd.date_of_birth\n",
    "  -- convert dob to age in years\n",
    "  ,date_part('year', AGE(cd.date_of_birth)) AS age\n",
    "  ,cd.sex\n",
    "  ,cd.home_postcode\n",
    "  -- grab initials from first and last name\n",
    "  ,CONCAT(LEFT(cd.firstname, 1), LEFT(cd.lastname, 1)) AS initials\n",
    "\n",
    "-- start from hospital visits\n",
    "FROM star.hospital_visit vo\n",
    "INNER JOIN star.core_demographic cd ON vo.mrn_id = cd.mrn_id\n",
    "\n",
    "-- get original mrn\n",
    "INNER JOIN star.mrn original_mrn ON vo.mrn_id = original_mrn.mrn_id\n",
    "-- get mrn to live mapping \n",
    "INNER JOIN star.mrn_to_live mtl ON vo.mrn_id = mtl.mrn_id \n",
    "-- get live mrn \n",
    "INNER JOIN star.mrn live_mrn ON mtl.live_mrn_id = live_mrn.mrn_id \n",
    "\n",
    "WHERE \n",
    "      -- hospital visits within the last 12 hours\n",
    "      vo.presentation_time > NOW() - '12 HOURS'::INTERVAL\t\n",
    "      -- emergencies\n",
    "  AND vo.patient_class = 'EMERGENCY'\n",
    "      -- attending via ambulance\n",
    "  AND vo.arrival_method = 'Ambulance'\n",
    "      -- sort descending\n",
    "ORDER BY vo.presentation_time DESC\n",
    "; \n",
    "```"
   ]
  },
  {
   "cell_type": "code",
   "execution_count": null,
   "id": "cddf1392-2df8-4a12-901e-2bec1def7f2d",
   "metadata": {
    "execution": {
     "iopub.execute_input": "2021-11-11T11:32:27.872591Z",
     "iopub.status.busy": "2021-11-11T11:32:27.872296Z",
     "iopub.status.idle": "2021-11-11T11:32:29.105356Z",
     "shell.execute_reply": "2021-11-11T11:32:29.104766Z",
     "shell.execute_reply.started": "2021-11-11T11:32:27.872564Z"
    },
    "tags": []
   },
   "outputs": [],
   "source": [
    "# Read the sql file into a query 'q' and the query into a dataframe\n",
    "q = Path('../snippets/sql-vignettes/hospital_visit_3.sql').read_text()\n",
    "df = pd.read_sql_query(q, emapdb_engine)\n",
    "\n",
    "df.head()"
   ]
  },
  {
   "cell_type": "markdown",
   "id": "ae44c5b0-8c67-472d-a11f-e818c81d088e",
   "metadata": {},
   "source": [
    "## Working with observations\n",
    "\n",
    "WIP: example script to work with vitals"
   ]
  },
  {
   "cell_type": "markdown",
   "id": "e4537a7a-13a0-480f-9e84-dd437b16c24a",
   "metadata": {
    "execution": {
     "iopub.execute_input": "2021-11-11T10:47:47.060029Z",
     "iopub.status.busy": "2021-11-11T10:47:47.059790Z",
     "iopub.status.idle": "2021-11-11T10:47:47.087823Z",
     "shell.execute_reply": "2021-11-11T10:47:47.086831Z",
     "shell.execute_reply.started": "2021-11-11T10:47:47.060002Z"
    }
   },
   "source": [
    "```sql\n",
    "-- Example script showing how to work with observations\n",
    "\n",
    "-- V simple view that finds recent observations \n",
    "-- for current inpatients in the last few minutes\n",
    "\n",
    "\n",
    "SELECT\n",
    "  -- observation details\n",
    "   ob.visit_observation_id\n",
    "  ,ob.hospital_visit_id\n",
    "  ,ob.observation_datetime\n",
    "\n",
    "  --,ob.visit_observation_type_id\n",
    "  --,ot.id_in_application\n",
    "\n",
    "  -- label nicely\n",
    "  ,CASE \n",
    "    WHEN ot.id_in_application = '10' THEN 'SpO2'\n",
    "    WHEN ot.id_in_application = '5' THEN 'BP'\n",
    "    WHEN ot.id_in_application = '3040109304' THEN 'Oxygen'\n",
    "    WHEN ot.id_in_application = '6' THEN 'Temp'\n",
    "    WHEN ot.id_in_application = '8' THEN 'Pulse'\n",
    "    WHEN ot.id_in_application = '9' THEN 'Resp'\n",
    "    WHEN ot.id_in_application = '6466' THEN 'AVPU'\n",
    "\n",
    "  END AS vital\n",
    "\n",
    "  ,ob.value_as_real\n",
    "  ,ob.value_as_text\n",
    "  ,ob.unit \n",
    "  \n",
    "FROM\n",
    "  star.visit_observation ob\n",
    "-- observation look-up\n",
    "LEFT JOIN\n",
    "  star.visit_observation_type ot\n",
    "  on ob.visit_observation_type_id = ot.visit_observation_type_id\n",
    "\n",
    "WHERE\n",
    "ob.observation_datetime > NOW() - '5 MINS'::INTERVAL\t\n",
    "AND\n",
    "ot.id_in_application in \n",
    "\n",
    "  (\n",
    "  '10'            --'SpO2'                  -- 602063230\n",
    "  ,'5'            --'BP'                    -- 602063234\n",
    "  ,'3040109304'   --'Room Air or Oxygen'    -- 602063268\n",
    "  ,'6'            --'Temp'                  -- 602063248\n",
    "  ,'8'            --'Pulse'                 -- 602063237\n",
    "  ,'9'            --'Resp'                  -- 602063257\n",
    "  ,'6466'         -- Level of consciousness\n",
    ")\n",
    "ORDER BY ob.observation_datetime DESC\n",
    ";\n",
    "```"
   ]
  },
  {
   "cell_type": "code",
   "execution_count": null,
   "id": "d6fbec14-a18c-4b94-acf2-bf76ae3b5f53",
   "metadata": {
    "execution": {
     "iopub.execute_input": "2021-11-11T12:14:30.404832Z",
     "iopub.status.busy": "2021-11-11T12:14:30.404355Z",
     "iopub.status.idle": "2021-11-11T12:14:30.422318Z",
     "shell.execute_reply": "2021-11-11T12:14:30.421818Z",
     "shell.execute_reply.started": "2021-11-11T12:14:30.404803Z"
    },
    "tags": []
   },
   "outputs": [],
   "source": [
    "# Read the sql file into a query 'q' and the query into a dataframe\n",
    "q = Path('../snippets/sql-vignettes/vital_signs.sql').read_text()\n",
    "df = pd.read_sql_query(q, emapdb_engine)\n",
    "\n",
    "df.head()"
   ]
  },
  {
   "cell_type": "markdown",
   "id": "ecce4591-874c-4d9f-9ca0-2fe25ace1751",
   "metadata": {},
   "source": [
    "Now let's drill down on just heart rate"
   ]
  },
  {
   "cell_type": "code",
   "execution_count": null,
   "id": "9a332f2e-3449-42aa-9266-d80af19e1422",
   "metadata": {
    "execution": {
     "iopub.execute_input": "2021-11-11T12:14:45.312527Z",
     "iopub.status.busy": "2021-11-11T12:14:45.312206Z",
     "iopub.status.idle": "2021-11-11T12:15:04.944393Z",
     "shell.execute_reply": "2021-11-11T12:15:04.943839Z",
     "shell.execute_reply.started": "2021-11-11T12:14:45.312498Z"
    },
    "tags": []
   },
   "outputs": [],
   "source": [
    "# Read the sql file into a query 'q' and the query into a dataframe\n",
    "q = Path('../snippets/sql-vignettes/heart_rate.sql').read_text()\n",
    "df = pd.read_sql_query(q, emapdb_engine)\n",
    "\n",
    "df.head()"
   ]
  },
  {
   "cell_type": "code",
   "execution_count": null,
   "id": "7e813eb6-9cd2-4f23-9e3b-423143f3aced",
   "metadata": {
    "execution": {
     "iopub.execute_input": "2021-11-11T12:15:05.879657Z",
     "iopub.status.busy": "2021-11-11T12:15:05.878943Z",
     "iopub.status.idle": "2021-11-11T12:15:05.966696Z",
     "shell.execute_reply": "2021-11-11T12:15:05.966167Z",
     "shell.execute_reply.started": "2021-11-11T12:15:05.879612Z"
    },
    "tags": []
   },
   "outputs": [],
   "source": [
    "import plotly.express as px\n",
    "figx = px.histogram(df, \n",
    "                    x='value_as_real',\n",
    "                    title='Heart rate distribution at UCLH in the last 24 hours',\n",
    "                   labels={'value_as_real': 'Heart Rate'})\n",
    "figx.show()"
   ]
  },
  {
   "cell_type": "code",
   "execution_count": null,
   "id": "03a464b2-9cf4-4ce5-a61b-49646e4c3426",
   "metadata": {
    "execution": {
     "iopub.execute_input": "2021-11-11T12:15:31.809329Z",
     "iopub.status.busy": "2021-11-11T12:15:31.808807Z",
     "iopub.status.idle": "2021-11-11T12:15:31.812336Z",
     "shell.execute_reply": "2021-11-11T12:15:31.811593Z",
     "shell.execute_reply.started": "2021-11-11T12:15:31.809300Z"
    }
   },
   "outputs": [],
   "source": [
    "# end of notebook"
   ]
  },
  {
   "cell_type": "code",
   "execution_count": null,
   "id": "cee65534-abf7-4a37-9bde-b5fc57179421",
   "metadata": {},
   "outputs": [],
   "source": []
  }
 ],
 "metadata": {
  "kernelspec": {
   "display_name": "Python 3 (ipykernel)",
   "language": "python",
   "name": "python3"
  },
  "language_info": {
   "codemirror_mode": {
    "name": "ipython",
    "version": 3
   },
   "file_extension": ".py",
   "mimetype": "text/x-python",
   "name": "python",
   "nbconvert_exporter": "python",
   "pygments_lexer": "ipython3",
   "version": "3.8.10"
  }
 },
 "nbformat": 4,
 "nbformat_minor": 5
}
