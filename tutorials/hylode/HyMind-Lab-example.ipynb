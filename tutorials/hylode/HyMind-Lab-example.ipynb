{
 "cells": [
  {
   "cell_type": "markdown",
   "id": "9fbc6dfe-6acd-4f01-a3cc-93e8987bec68",
   "metadata": {},
   "source": [
    "# HyMind Lab Example"
   ]
  },
  {
   "cell_type": "markdown",
   "id": "015ac2b4-e477-4db0-bec5-2c13a1112791",
   "metadata": {},
   "source": [
    "<img src=\"https://upload.wikimedia.org/wikipedia/commons/1/17/Warning.svg\" width=\"20\"/> ***Please make a copy of this notebook and do not edit in place***"
   ]
  },
  {
   "cell_type": "markdown",
   "id": "2d13fd6e-648f-4130-8fe0-6888e0b00f22",
   "metadata": {},
   "source": [
    "See the [system diagram](https://github.com/HYLODE/HyLevel/blob/main/system-design/HYLODE.png?raw=True) for an overview of the HYLODE system components referenced in this notebook.  \n",
    "(_You will need to be signed into GitHub to view_)"
   ]
  },
  {
   "cell_type": "markdown",
   "id": "b7d52253-aa25-4743-acfe-ca705dc51479",
   "metadata": {},
   "source": [
    "## Packages"
   ]
  },
  {
   "cell_type": "markdown",
   "id": "1a03527c-44af-478d-88c9-0d38a3774217",
   "metadata": {},
   "source": [
    "### Available"
   ]
  },
  {
   "cell_type": "code",
   "execution_count": null,
   "id": "34e9cb3d-f6f6-4afa-803c-33b8946efee0",
   "metadata": {
    "execution": {
     "iopub.execute_input": "2021-09-18T18:39:49.154831Z",
     "iopub.status.busy": "2021-09-18T18:39:49.154694Z",
     "iopub.status.idle": "2021-09-18T18:39:49.314379Z",
     "shell.execute_reply": "2021-09-18T18:39:49.314242Z",
     "shell.execute_reply.started": "2021-09-18T18:39:49.154769Z"
    },
    "tags": []
   },
   "outputs": [],
   "source": [
    "import pkg_resources\n",
    "installed_packages = pkg_resources.working_set\n",
    "installed_packages_list = sorted([f'{i.key}=={i.version}' for i in installed_packages])"
   ]
  },
  {
   "cell_type": "code",
   "execution_count": null,
   "id": "9c5d0e96-a10b-458a-8672-962dbfaa9e9b",
   "metadata": {
    "execution": {
     "iopub.execute_input": "2021-09-18T18:39:49.335892Z",
     "iopub.status.busy": "2021-09-18T18:39:49.335757Z",
     "iopub.status.idle": "2021-09-18T18:39:49.336535Z",
     "shell.execute_reply": "2021-09-18T18:39:49.336426Z",
     "shell.execute_reply.started": "2021-09-18T18:39:49.335828Z"
    },
    "tags": []
   },
   "outputs": [],
   "source": [
    "# Uncomment to list installed packages\n",
    "# installed_packages_list"
   ]
  },
  {
   "cell_type": "markdown",
   "id": "987714f8-39c2-4ec6-99bb-37e6690be0d1",
   "metadata": {},
   "source": [
    "### Need more?"
   ]
  },
  {
   "cell_type": "markdown",
   "id": "c2e77b44-2115-41d7-b3ed-e426ed3bb3ba",
   "metadata": {},
   "source": [
    "For a quick installation, uncomment & run the command below (replace `ujson` with the package you want)"
   ]
  },
  {
   "cell_type": "code",
   "execution_count": null,
   "id": "ce3bacda-1a2d-448b-b748-6efe170bf84e",
   "metadata": {
    "execution": {
     "iopub.execute_input": "2021-09-18T18:39:49.936194Z",
     "iopub.status.busy": "2021-09-18T18:39:49.936038Z",
     "iopub.status.idle": "2021-09-18T18:39:49.937377Z",
     "shell.execute_reply": "2021-09-18T18:39:49.937256Z",
     "shell.execute_reply.started": "2021-09-18T18:39:49.936131Z"
    },
    "tags": []
   },
   "outputs": [],
   "source": [
    "# !pip install ujson"
   ]
  },
  {
   "cell_type": "code",
   "execution_count": null,
   "id": "d9b52e70-1c64-4809-bc8d-5cb05f26c245",
   "metadata": {
    "execution": {
     "iopub.execute_input": "2021-09-18T18:39:50.137912Z",
     "iopub.status.busy": "2021-09-18T18:39:50.137781Z",
     "iopub.status.idle": "2021-09-18T18:39:50.138682Z",
     "shell.execute_reply": "2021-09-18T18:39:50.138573Z",
     "shell.execute_reply.started": "2021-09-18T18:39:50.137854Z"
    },
    "tags": []
   },
   "outputs": [],
   "source": [
    "# import ujson\n",
    "# ujson.__version__"
   ]
  },
  {
   "cell_type": "markdown",
   "id": "f6f35ffb-e111-40cd-82f9-73643ec92d24",
   "metadata": {},
   "source": [
    "**Packages installed this way will disappear when the container is restarted.**"
   ]
  },
  {
   "cell_type": "markdown",
   "id": "0727093b-5b33-4157-877e-45f9566dfd91",
   "metadata": {},
   "source": [
    "To have the package permanently available, please log a ticket on [ZenHub](https://app.zenhub.com/workspaces/hysys-5fd9bdd7e234b8001e6ed46b/board?repos=321907911) requesting the package to be added to the HyMind Lab."
   ]
  },
  {
   "cell_type": "markdown",
   "id": "9d9a8264-b988-4c89-ad10-98d9e22e3e70",
   "metadata": {},
   "source": [
    "### Some imports"
   ]
  },
  {
   "cell_type": "code",
   "execution_count": null,
   "id": "dbbaf5b4-aed2-47f5-b79d-368172a4af55",
   "metadata": {
    "execution": {
     "iopub.execute_input": "2021-09-18T18:39:51.152170Z",
     "iopub.status.busy": "2021-09-18T18:39:51.150520Z",
     "iopub.status.idle": "2021-09-18T18:39:51.814354Z",
     "shell.execute_reply": "2021-09-18T18:39:51.814126Z",
     "shell.execute_reply.started": "2021-09-18T18:39:51.15133Z"
    },
    "tags": []
   },
   "outputs": [],
   "source": [
    "from datetime import datetime, timedelta\n",
    "import os\n",
    "from pathlib import Path\n",
    "from pprint import pprint\n",
    "import urllib\n",
    "\n",
    "import arrow\n",
    "import matplotlib.pyplot as plt\n",
    "import numpy as np\n",
    "import pandas as pd\n",
    "from sqlalchemy import create_engine\n",
    "\n",
    "from hylib.dt import LONDON_TZ, convert_dt_columns_to_london_tz"
   ]
  },
  {
   "cell_type": "markdown",
   "id": "a3f75a5e-ccca-4913-8854-6a9057c84089",
   "metadata": {},
   "source": [
    "### Constants"
   ]
  },
  {
   "cell_type": "code",
   "execution_count": null,
   "id": "c37f0978-d242-4801-9afa-d20dde2ff778",
   "metadata": {
    "execution": {
     "iopub.execute_input": "2021-09-18T18:39:51.814747Z",
     "iopub.status.busy": "2021-09-18T18:39:51.814609Z",
     "iopub.status.idle": "2021-09-18T18:39:51.816055Z",
     "shell.execute_reply": "2021-09-18T18:39:51.815890Z",
     "shell.execute_reply.started": "2021-09-18T18:39:51.814663Z"
    },
    "tags": []
   },
   "outputs": [],
   "source": [
    "ward = 'T03'"
   ]
  },
  {
   "cell_type": "markdown",
   "id": "f0cc9783-d1f7-42f8-be1e-b0fa4d3f7790",
   "metadata": {},
   "source": [
    "----"
   ]
  },
  {
   "cell_type": "markdown",
   "id": "59e3cca4-cf7e-473b-b5c5-33cfa641ac6a",
   "metadata": {},
   "source": [
    "# Database Connections"
   ]
  },
  {
   "cell_type": "markdown",
   "id": "9af5cead-dca2-4824-9abb-8e445bc0f80d",
   "metadata": {},
   "source": [
    "## EMAP DB"
   ]
  },
  {
   "cell_type": "markdown",
   "id": "053be68d-d492-415a-be5c-c3d7498e2cf8",
   "metadata": {},
   "source": [
    "Access to EMAP is required for multiple components of the system to function properly.  \n",
    "This includes some of the functions that are useful to run in the HyMind Lab"
   ]
  },
  {
   "cell_type": "markdown",
   "id": "edc02df0-27bd-4bf7-a5b9-de92b79ca898",
   "metadata": {},
   "source": [
    "### EMAP credentials"
   ]
  },
  {
   "cell_type": "markdown",
   "id": "3510a4a1-ad33-413d-8153-e040d9a6f19a",
   "metadata": {},
   "source": [
    "EMAP credentials are allocated per user and not stored in the environment variables.\n",
    "You do not want your credentials to leak into the source repository.\n",
    "\n",
    "One way of safeguarding is to create a file called `secret` at the top level of the **HyMind** repository (next to this notebook).   \n",
    "Do this here in Jupyter and not a local copy of the repo.  \n",
    "\n",
    "The first line should be your UDS **username** and the second line should be your UDS **password**.\n",
    "\n",
    "`secret` has been added to `.gitignore` and will be excluded from the repository."
   ]
  },
  {
   "cell_type": "markdown",
   "id": "30afb8e4-743b-4ce3-9a0c-85dc5f86b8a8",
   "metadata": {},
   "source": [
    "Read your username & password into the environment:"
   ]
  },
  {
   "cell_type": "code",
   "execution_count": null,
   "id": "9ab4b4a5-b026-4f31-a04b-4f30fb7e2341",
   "metadata": {
    "execution": {
     "iopub.execute_input": "2021-09-18T18:39:53.271859Z",
     "iopub.status.busy": "2021-09-18T18:39:53.271730Z",
     "iopub.status.idle": "2021-09-18T18:39:53.273501Z",
     "shell.execute_reply": "2021-09-18T18:39:53.273380Z",
     "shell.execute_reply.started": "2021-09-18T18:39:53.271799Z"
    },
    "tags": []
   },
   "outputs": [],
   "source": [
    "os.environ['EMAP_DB_USER'], os.environ['EMAP_DB_PASSWORD'] = Path('secret').read_text().strip().split('\\n')"
   ]
  },
  {
   "cell_type": "code",
   "execution_count": null,
   "id": "c20de051-6a5c-425f-b3b7-3182afa528a4",
   "metadata": {
    "execution": {
     "iopub.execute_input": "2021-09-18T18:39:53.471571Z",
     "iopub.status.busy": "2021-09-18T18:39:53.471424Z",
     "iopub.status.idle": "2021-09-18T18:39:53.473077Z",
     "shell.execute_reply": "2021-09-18T18:39:53.472952Z",
     "shell.execute_reply.started": "2021-09-18T18:39:53.471509Z"
    },
    "tags": []
   },
   "outputs": [],
   "source": [
    "uds_host = os.getenv('EMAP_DB_HOST')\n",
    "uds_name = os.getenv('EMAP_DB_NAME')\n",
    "uds_port = os.getenv('EMAP_DB_PORT')\n",
    "uds_user = os.getenv('EMAP_DB_USER')\n",
    "uds_passwd = os.getenv('EMAP_DB_PASSWORD')"
   ]
  },
  {
   "cell_type": "markdown",
   "id": "0e32b1ce-ef11-4d43-947c-8d91c00e94f6",
   "metadata": {},
   "source": [
    "Create a SQLAlchemy Engine for accessing the UDS:"
   ]
  },
  {
   "cell_type": "code",
   "execution_count": null,
   "id": "e70de312-914d-46ca-9563-bd5bd394171b",
   "metadata": {
    "execution": {
     "iopub.execute_input": "2021-09-18T18:39:53.938851Z",
     "iopub.status.busy": "2021-09-18T18:39:53.938721Z",
     "iopub.status.idle": "2021-09-18T18:39:53.969370Z",
     "shell.execute_reply": "2021-09-18T18:39:53.969232Z",
     "shell.execute_reply.started": "2021-09-18T18:39:53.938792Z"
    },
    "tags": []
   },
   "outputs": [],
   "source": [
    "emapdb_engine = create_engine(f'postgresql://{uds_user}:{uds_passwd}@{uds_host}:{uds_port}/{uds_name}')"
   ]
  },
  {
   "cell_type": "markdown",
   "id": "a3cadc86-124f-457a-9bb7-4bc394be7d66",
   "metadata": {
    "execution": {
     "iopub.execute_input": "2021-05-15T16:34:11.355062Z",
     "iopub.status.busy": "2021-05-15T16:34:11.354942Z",
     "iopub.status.idle": "2021-05-15T16:34:11.355926Z",
     "shell.execute_reply": "2021-05-15T16:34:11.355821Z",
     "shell.execute_reply.started": "2021-05-15T16:34:11.355006Z"
    }
   },
   "source": [
    "## HYLODE DB"
   ]
  },
  {
   "cell_type": "markdown",
   "id": "a9948335-f553-4524-a258-20f8d3dc4549",
   "metadata": {},
   "source": [
    "The `hylode` database is a containerised instance of Postgres 12 used by the various components to store data for use further down the pipeline.  \n",
    "You can think of it as the _medium of data flow_ for our system.  \n",
    "Unlike the `uds`, it is private to us.  \n",
    "You don't need individual credentials, everthing is baked into the environment variables.\n",
    "\n",
    "There are several schemas, roughly one for each subsystem (see link to system diagram above).\n",
    "\n",
    "Storing data in and retrieving data from the `hylode` database happens through the APIs provided by the `hyflow`, `hygear` & `hycastle` modules.  \n",
    "Direct interaction with the database is not an expected part of the HyMind workflow and presented here for interest only."
   ]
  },
  {
   "cell_type": "code",
   "execution_count": null,
   "id": "76a15136-07db-419e-9f9b-601d6a5550b4",
   "metadata": {
    "execution": {
     "iopub.execute_input": "2021-09-18T18:39:55.405390Z",
     "iopub.status.busy": "2021-09-18T18:39:55.404000Z",
     "iopub.status.idle": "2021-09-18T18:39:55.418940Z",
     "shell.execute_reply": "2021-09-18T18:39:55.417810Z",
     "shell.execute_reply.started": "2021-09-18T18:39:55.40480Z"
    },
    "tags": []
   },
   "outputs": [],
   "source": [
    "db_host = os.getenv('HYLODE_DB_HOST')\n",
    "db_name = os.getenv('HYLODE_DB_NAME')\n",
    "db_user = os.getenv('HYLODE_DB_USER')\n",
    "db_passwd = os.getenv('HYLODE_DB_PASSWORD')\n",
    "db_port = os.getenv('HYLODE_DB_PORT')                                                                                                       "
   ]
  },
  {
   "cell_type": "code",
   "execution_count": null,
   "id": "aa8cd908-3318-441f-859a-d2d3c5e22e34",
   "metadata": {
    "execution": {
     "iopub.execute_input": "2021-09-18T18:39:55.198013Z",
     "iopub.status.busy": "2021-09-18T18:39:55.197884Z",
     "iopub.status.idle": "2021-09-18T18:39:55.199584Z",
     "shell.execute_reply": "2021-09-18T18:39:55.199468Z",
     "shell.execute_reply.started": "2021-09-18T18:39:55.197955Z"
    },
    "tags": []
   },
   "outputs": [],
   "source": [
    "hydb_engine = create_engine(f'postgresql://{db_user}:{db_passwd}@{db_host}:{db_port}/{db_name}')"
   ]
  },
  {
   "cell_type": "markdown",
   "id": "f0c99189-2d3a-4e85-ba3c-c04133a25c13",
   "metadata": {},
   "source": [
    "### HyDef\n",
    "*The `hydef` schema in the `hylode` database contains static reference data*"
   ]
  },
  {
   "cell_type": "markdown",
   "id": "c828dc2f-70c9-410e-badd-5ad37be105cc",
   "metadata": {},
   "source": [
    "#### Locations"
   ]
  },
  {
   "cell_type": "code",
   "execution_count": null,
   "id": "e5e9c03d-58b3-40c5-b2dc-0d43da81c5ee",
   "metadata": {
    "execution": {
     "iopub.execute_input": "2021-09-18T18:39:56.290534Z",
     "iopub.status.busy": "2021-09-18T18:39:56.290409Z",
     "iopub.status.idle": "2021-09-18T18:39:56.306884Z",
     "shell.execute_reply": "2021-09-18T18:39:56.306748Z",
     "shell.execute_reply.started": "2021-09-18T18:39:56.290477Z"
    },
    "tags": []
   },
   "outputs": [],
   "source": [
    "beds_df = pd.read_sql(\n",
    "    \"\"\"\n",
    "    select \n",
    "        bed.id\n",
    "        ,bed.code\n",
    "        ,bed.source_id\n",
    "        ,bay.code\n",
    "        ,bay.type\n",
    "        ,ward.code\n",
    "        ,ward.name\n",
    "        ,ward.type\n",
    "    from\n",
    "        hydef.beds bed\n",
    "    inner join hydef.bays bay on bed.bay_id = bay.id\n",
    "    inner join hydef.wards ward on ward.code = bay.ward_code\n",
    "    order by ward.code, bay.code, bed.code\n",
    "    \"\"\",\n",
    "    hydb_engine\n",
    ")"
   ]
  },
  {
   "cell_type": "code",
   "execution_count": null,
   "id": "e150464c-c4a4-4403-aa0e-c1010f249e8d",
   "metadata": {
    "execution": {
     "iopub.execute_input": "2021-09-18T18:39:56.592779Z",
     "iopub.status.busy": "2021-09-18T18:39:56.592648Z",
     "iopub.status.idle": "2021-09-18T18:39:56.613428Z",
     "shell.execute_reply": "2021-09-18T18:39:56.613161Z",
     "shell.execute_reply.started": "2021-09-18T18:39:56.592720Z"
    },
    "tags": []
   },
   "outputs": [],
   "source": [
    "beds_df"
   ]
  },
  {
   "cell_type": "markdown",
   "id": "e9891830-182b-40b3-bfcc-7f3ac910640d",
   "metadata": {},
   "source": [
    "#### ICU Observation Types Catalogue\n",
    "\n",
    "A growing list of observation types that we are interested in for the ICU pipeline"
   ]
  },
  {
   "cell_type": "code",
   "execution_count": null,
   "id": "728156f7-f43e-4972-8b9c-f4a716740b72",
   "metadata": {
    "execution": {
     "iopub.execute_input": "2021-09-18T18:39:57.197452Z",
     "iopub.status.busy": "2021-09-18T18:39:57.197304Z",
     "iopub.status.idle": "2021-09-18T18:39:57.202750Z",
     "shell.execute_reply": "2021-09-18T18:39:57.202616Z",
     "shell.execute_reply.started": "2021-09-18T18:39:57.197384Z"
    },
    "tags": []
   },
   "outputs": [],
   "source": [
    "icu_obs_types = pd.read_sql('select * from hydef.icu_observation_types', hydb_engine)"
   ]
  },
  {
   "cell_type": "code",
   "execution_count": null,
   "id": "c9e43fea-e459-4c2c-a007-90c0ab064f0a",
   "metadata": {
    "execution": {
     "iopub.execute_input": "2021-09-18T18:39:57.403395Z",
     "iopub.status.busy": "2021-09-18T18:39:57.403269Z",
     "iopub.status.idle": "2021-09-18T18:39:57.412351Z",
     "shell.execute_reply": "2021-09-18T18:39:57.412246Z",
     "shell.execute_reply.started": "2021-09-18T18:39:57.403336Z"
    },
    "tags": []
   },
   "outputs": [],
   "source": [
    "icu_obs_types"
   ]
  },
  {
   "cell_type": "markdown",
   "id": "b0e61348-69bc-4071-af9b-7dae6aafc97c",
   "metadata": {},
   "source": [
    "----"
   ]
  },
  {
   "cell_type": "markdown",
   "id": "b62146a1-74b3-4c13-a826-d4104a021d00",
   "metadata": {},
   "source": [
    "# HyCastle"
   ]
  },
  {
   "cell_type": "markdown",
   "id": "be77f87e-455f-49a7-a52b-fcbdc86b9f7d",
   "metadata": {},
   "source": [
    "*The HyCastle component is responsible for serving features for both training and prediction.*\n",
    "\n",
    "HyCastle provides a high level interface to getting clean, transformed features & labels from the pipeline.\n",
    "\n",
    "To dig deeper, the `hyflow` & `hygear` packages are also available for use within the HyMind Lab.  \n",
    "Additionally, all the tables in the `hydef`, `hyflow` & `hygear` schemas in the `hylode` database can be accessed directly using the database connection defined above, just like the `star` schema on the `uds` 🙂."
   ]
  },
  {
   "cell_type": "code",
   "execution_count": null,
   "id": "04893a24-fb18-4d3e-86a6-42b637b59759",
   "metadata": {
    "execution": {
     "iopub.execute_input": "2021-09-18T18:39:58.313534Z",
     "iopub.status.busy": "2021-09-18T18:39:58.313402Z",
     "iopub.status.idle": "2021-09-18T18:39:58.634753Z",
     "shell.execute_reply": "2021-09-18T18:39:58.634625Z",
     "shell.execute_reply.started": "2021-09-18T18:39:58.313475Z"
    },
    "tags": []
   },
   "outputs": [],
   "source": [
    "from hycastle.icu_store import SITREP_FEATURES\n",
    "from hycastle.icu_store.retro import retro_dataset\n",
    "from hycastle.icu_store.live import live_dataset, emap_snapshot # <-- contains PII"
   ]
  },
  {
   "cell_type": "markdown",
   "id": "35eb01be-2a16-4515-913c-a44305214952",
   "metadata": {},
   "source": [
    "## Retrospective Data"
   ]
  },
  {
   "cell_type": "code",
   "execution_count": null,
   "id": "c34b72ba-f93e-452d-bc2a-6ca2499f644f",
   "metadata": {
    "execution": {
     "iopub.execute_input": "2021-09-18T18:39:59.914754Z",
     "iopub.status.busy": "2021-09-18T18:39:59.914615Z",
     "iopub.status.idle": "2021-09-18T18:39:59.987846Z",
     "shell.execute_reply": "2021-09-18T18:39:59.987672Z",
     "shell.execute_reply.started": "2021-09-18T18:39:59.914695Z"
    },
    "tags": []
   },
   "outputs": [],
   "source": [
    "training_df = retro_dataset(ward)"
   ]
  },
  {
   "cell_type": "code",
   "execution_count": null,
   "id": "6d8e01df-423d-43ac-b7cc-6aa67efa5602",
   "metadata": {
    "execution": {
     "iopub.execute_input": "2021-09-11T09:21:26.885088Z",
     "iopub.status.busy": "2021-09-11T09:21:26.884959Z",
     "iopub.status.idle": "2021-09-11T09:21:26.886838Z",
     "shell.execute_reply": "2021-09-11T09:21:26.886731Z",
     "shell.execute_reply.started": "2021-09-11T09:21:26.885030Z"
    },
    "tags": []
   },
   "outputs": [],
   "source": [
    "training_df.shape"
   ]
  },
  {
   "cell_type": "code",
   "execution_count": null,
   "id": "5592d087-ff76-4c9d-a97a-4ee60438aab1",
   "metadata": {
    "execution": {
     "iopub.execute_input": "2021-09-11T09:21:27.346380Z",
     "iopub.status.busy": "2021-09-11T09:21:27.346243Z",
     "iopub.status.idle": "2021-09-11T09:21:27.368332Z",
     "shell.execute_reply": "2021-09-11T09:21:27.368214Z",
     "shell.execute_reply.started": "2021-09-11T09:21:27.346321Z"
    },
    "tags": []
   },
   "outputs": [],
   "source": [
    "training_df.head()"
   ]
  },
  {
   "cell_type": "code",
   "execution_count": null,
   "id": "cb4df157-bc2d-48b7-b075-e171e4152abc",
   "metadata": {
    "execution": {
     "iopub.execute_input": "2021-09-11T09:21:28.867200Z",
     "iopub.status.busy": "2021-09-11T09:21:28.865890Z",
     "iopub.status.idle": "2021-09-11T09:21:28.887740Z",
     "shell.execute_reply": "2021-09-11T09:21:28.886680Z",
     "shell.execute_reply.started": "2021-09-11T09:21:28.86660Z"
    },
    "tags": []
   },
   "outputs": [],
   "source": [
    "training_df.columns"
   ]
  },
  {
   "cell_type": "code",
   "execution_count": null,
   "id": "d9459d55-84a2-433b-bd53-ba3709f07458",
   "metadata": {
    "execution": {
     "iopub.execute_input": "2021-09-11T09:21:29.497600Z",
     "iopub.status.busy": "2021-09-11T09:21:29.496370Z",
     "iopub.status.idle": "2021-09-11T09:21:29.524210Z",
     "shell.execute_reply": "2021-09-11T09:21:29.523190Z",
     "shell.execute_reply.started": "2021-09-11T09:21:29.49702Z"
    },
    "tags": []
   },
   "outputs": [],
   "source": [
    "training_df.episode_slice_id.duplicated().any()"
   ]
  },
  {
   "cell_type": "code",
   "execution_count": null,
   "id": "48eabd4a-7cf4-4f5f-99d3-dbeb8e754cde",
   "metadata": {
    "execution": {
     "iopub.execute_input": "2021-09-11T09:21:29.307953Z",
     "iopub.status.busy": "2021-09-11T09:21:29.307827Z",
     "iopub.status.idle": "2021-09-11T09:21:29.318342Z",
     "shell.execute_reply": "2021-09-11T09:21:29.318227Z",
     "shell.execute_reply.started": "2021-09-11T09:21:29.307893Z"
    },
    "tags": []
   },
   "outputs": [],
   "source": [
    "training_df.isnull().any()"
   ]
  },
  {
   "cell_type": "markdown",
   "id": "e0855b46-3fed-4f65-8119-76979835aeca",
   "metadata": {},
   "source": [
    "## Live Data\n",
    "\n",
    "**These functions return personally identifiable information**"
   ]
  },
  {
   "cell_type": "markdown",
   "id": "1fa69d85-eb2f-4405-9e26-7198a1cf3818",
   "metadata": {},
   "source": [
    "### HyLode Live Episode Slices"
   ]
  },
  {
   "cell_type": "code",
   "execution_count": null,
   "id": "b97e8ab5-3ff5-4580-bdb6-5e9c3011ad36",
   "metadata": {
    "execution": {
     "iopub.execute_input": "2021-09-18T18:40:49.801314Z",
     "iopub.status.busy": "2021-09-18T18:40:49.801095Z",
     "iopub.status.idle": "2021-09-18T18:40:49.824578Z",
     "shell.execute_reply": "2021-09-18T18:40:49.824439Z",
     "shell.execute_reply.started": "2021-09-18T18:40:49.801190Z"
    },
    "tags": []
   },
   "outputs": [],
   "source": [
    "prediction_df = live_dataset(ward)"
   ]
  },
  {
   "cell_type": "code",
   "execution_count": null,
   "id": "45732201-e6c1-4966-aa7f-55cdb2993f39",
   "metadata": {
    "execution": {
     "iopub.execute_input": "2021-09-18T18:40:50.641499Z",
     "iopub.status.busy": "2021-09-18T18:40:50.641341Z",
     "iopub.status.idle": "2021-09-18T18:40:50.643541Z",
     "shell.execute_reply": "2021-09-18T18:40:50.643379Z",
     "shell.execute_reply.started": "2021-09-18T18:40:50.641419Z"
    },
    "tags": []
   },
   "outputs": [],
   "source": [
    "prediction_df.shape"
   ]
  },
  {
   "cell_type": "code",
   "execution_count": null,
   "id": "532a11e5-513c-4474-9f1b-447ec1e6d2a8",
   "metadata": {
    "execution": {
     "iopub.execute_input": "2021-09-18T18:40:51.353408Z",
     "iopub.status.busy": "2021-09-18T18:40:51.353246Z",
     "iopub.status.idle": "2021-09-18T18:40:51.384844Z",
     "shell.execute_reply": "2021-09-18T18:40:51.384742Z",
     "shell.execute_reply.started": "2021-09-18T18:40:51.353340Z"
    },
    "tags": []
   },
   "outputs": [],
   "source": [
    "prediction_df"
   ]
  },
  {
   "cell_type": "markdown",
   "id": "26eb6af8-9166-497e-918d-f9a922283eb7",
   "metadata": {},
   "source": [
    "### EMAP Live Census Snapshot"
   ]
  },
  {
   "cell_type": "code",
   "execution_count": null,
   "id": "9ab0b350-0adc-44b0-96af-5f0c358a2ad6",
   "metadata": {
    "execution": {
     "iopub.execute_input": "2021-09-18T18:40:56.843239Z",
     "iopub.status.busy": "2021-09-18T18:40:56.843096Z",
     "iopub.status.idle": "2021-09-18T18:40:56.921009Z",
     "shell.execute_reply": "2021-09-18T18:40:56.920856Z",
     "shell.execute_reply.started": "2021-09-18T18:40:56.843168Z"
    },
    "tags": []
   },
   "outputs": [],
   "source": [
    "emap_df = emap_snapshot(ward)"
   ]
  },
  {
   "cell_type": "code",
   "execution_count": null,
   "id": "c4316555-892d-432a-9cdc-f3890ad38f16",
   "metadata": {
    "execution": {
     "iopub.execute_input": "2021-09-18T18:40:57.539177Z",
     "iopub.status.busy": "2021-09-18T18:40:57.539040Z",
     "iopub.status.idle": "2021-09-18T18:40:57.552058Z",
     "shell.execute_reply": "2021-09-18T18:40:57.551946Z",
     "shell.execute_reply.started": "2021-09-18T18:40:57.539117Z"
    },
    "tags": []
   },
   "outputs": [],
   "source": [
    "emap_df.head()"
   ]
  },
  {
   "cell_type": "markdown",
   "id": "5fda9c9f-4842-4430-8600-24b3495a69c5",
   "metadata": {
    "execution": {
     "iopub.execute_input": "2021-08-12T13:55:03.534417Z",
     "iopub.status.busy": "2021-08-12T13:55:03.534283Z",
     "iopub.status.idle": "2021-08-12T13:55:03.535354Z",
     "shell.execute_reply": "2021-08-12T13:55:03.535233Z",
     "shell.execute_reply.started": "2021-08-12T13:55:03.534363Z"
    }
   },
   "source": [
    "### Filter\n",
    "Limit episode slices used for prediction to admissions that are in the EMAP census"
   ]
  },
  {
   "cell_type": "code",
   "execution_count": null,
   "id": "3c567a20-9440-49fb-b14d-1bfd57ca585a",
   "metadata": {
    "execution": {
     "iopub.execute_input": "2021-09-18T18:41:00.467046Z",
     "iopub.status.busy": "2021-09-18T18:41:00.466919Z",
     "iopub.status.idle": "2021-09-18T18:41:00.470196Z",
     "shell.execute_reply": "2021-09-18T18:41:00.470090Z",
     "shell.execute_reply.started": "2021-09-18T18:41:00.466987Z"
    },
    "tags": []
   },
   "outputs": [],
   "source": [
    "prediction_df.csn.isin(emap_df.csn)"
   ]
  },
  {
   "cell_type": "code",
   "execution_count": null,
   "id": "6badda46-f8df-46f7-a4f9-5b6edcf69820",
   "metadata": {
    "execution": {
     "iopub.execute_input": "2021-09-18T18:41:00.652823Z",
     "iopub.status.busy": "2021-09-18T18:41:00.652646Z",
     "iopub.status.idle": "2021-09-18T18:41:00.656163Z",
     "shell.execute_reply": "2021-09-18T18:41:00.656013Z",
     "shell.execute_reply.started": "2021-09-18T18:41:00.652743Z"
    },
    "tags": []
   },
   "outputs": [],
   "source": [
    "prediction_df = prediction_df[prediction_df.csn.isin(emap_df.csn)]"
   ]
  },
  {
   "cell_type": "code",
   "execution_count": null,
   "id": "36b455e7-c74e-482f-ae5c-4006f3f0f8d7",
   "metadata": {
    "execution": {
     "iopub.execute_input": "2021-09-18T18:41:01.263744Z",
     "iopub.status.busy": "2021-09-18T18:41:01.263613Z",
     "iopub.status.idle": "2021-09-18T18:41:01.291273Z",
     "shell.execute_reply": "2021-09-18T18:41:01.291158Z",
     "shell.execute_reply.started": "2021-09-18T18:41:01.263685Z"
    },
    "tags": []
   },
   "outputs": [],
   "source": [
    "prediction_df"
   ]
  },
  {
   "cell_type": "markdown",
   "id": "5bf8a9fc-14ee-4c50-877e-1a8803a0d84d",
   "metadata": {},
   "source": [
    "----"
   ]
  },
  {
   "cell_type": "markdown",
   "id": "657ab682-0bab-40ac-a643-7cf2b130df07",
   "metadata": {},
   "source": [
    "# HyFlow\n",
    "*The HyFlow component is responsible for ingesting raw data from upstream data sources such as EMAP & Caboodle.*\n",
    "\n",
    "The idea is for HyMind Lab users to operate at the level of **HyCastle** and not to have to worry about the raw data ingress during the modelling process.  \n",
    "Access to source data is still required for exploration and feature engineer which can be done through the `hyflow` package which is available for use from within the HyMind Lab.   \n",
    "Additionally, all the tables in the `hyflow` schema in the `hylode` database can be accessed directly."
   ]
  },
  {
   "cell_type": "code",
   "execution_count": null,
   "id": "06e0a970-c0ba-429c-9a26-1055671745fc",
   "metadata": {
    "execution": {
     "iopub.execute_input": "2021-09-18T18:41:06.983640Z",
     "iopub.status.busy": "2021-09-18T18:41:06.982360Z",
     "iopub.status.idle": "2021-09-18T18:41:06.113700Z",
     "shell.execute_reply": "2021-09-18T18:41:06.113583Z",
     "shell.execute_reply.started": "2021-09-18T18:41:06.98306Z"
    },
    "tags": []
   },
   "outputs": [],
   "source": [
    "from hyflow.fetch.hydef import beds_from_hydef, icu_observation_types_from_hydef\n",
    "from hyflow.fetch.icu_episode_slices import icu_episode_slices_from_emap, icu_episode_slices_from_hyflow\n",
    "from hyflow.fetch.icu_patients import icu_patients_from_emap\n",
    "from hyflow.fetch.icu_observations import icu_observations_from_emap"
   ]
  },
  {
   "cell_type": "markdown",
   "id": "0c2a7ead-4ff9-48f9-94c4-494903f99086",
   "metadata": {},
   "source": [
    "## Minimal example using the HyFlow package"
   ]
  },
  {
   "cell_type": "markdown",
   "id": "b7df404b-efae-4e80-9d68-24aaaecf7fe4",
   "metadata": {},
   "source": [
    "#### Fetch ICU Episode Slices from EMAP"
   ]
  },
  {
   "cell_type": "code",
   "execution_count": null,
   "id": "663d783d-4130-4caa-8d90-75d8e7b77e23",
   "metadata": {
    "execution": {
     "iopub.execute_input": "2021-09-18T18:41:08.614590Z",
     "iopub.status.busy": "2021-09-18T18:41:08.614461Z",
     "iopub.status.idle": "2021-09-18T18:41:08.615736Z",
     "shell.execute_reply": "2021-09-18T18:41:08.615625Z",
     "shell.execute_reply.started": "2021-09-18T18:41:08.614531Z"
    },
    "tags": []
   },
   "outputs": [],
   "source": [
    "# the point-in-time we are interested in:  7am on 17/07/2021 BST\n",
    "horizon_dt = datetime(2021, 7, 17, 7, 0, 0).astimezone(LONDON_TZ)"
   ]
  },
  {
   "cell_type": "code",
   "execution_count": null,
   "id": "7a5519e1-ea67-4634-a20d-d3595807faa7",
   "metadata": {
    "execution": {
     "iopub.execute_input": "2021-09-18T18:41:09.319340Z",
     "iopub.status.busy": "2021-09-18T18:41:09.319106Z",
     "iopub.status.idle": "2021-09-18T18:41:09.334582Z",
     "shell.execute_reply": "2021-09-18T18:41:09.334447Z",
     "shell.execute_reply.started": "2021-09-18T18:41:09.319196Z"
    },
    "tags": []
   },
   "outputs": [],
   "source": [
    "beds_df = beds_from_hydef(ward)"
   ]
  },
  {
   "cell_type": "code",
   "execution_count": null,
   "id": "20ab8b50-b06f-4e04-a92b-5c7e43f38709",
   "metadata": {
    "execution": {
     "iopub.execute_input": "2021-09-18T18:41:10.229980Z",
     "iopub.status.busy": "2021-09-18T18:41:10.228790Z",
     "iopub.status.idle": "2021-09-18T18:41:10.124747Z",
     "shell.execute_reply": "2021-09-18T18:41:10.124598Z",
     "shell.execute_reply.started": "2021-09-18T18:41:10.22940Z"
    },
    "tags": []
   },
   "outputs": [],
   "source": [
    "episode_slices_df = icu_episode_slices_from_emap(ward, horizon_dt, list(beds_df.hl7_location))"
   ]
  },
  {
   "cell_type": "markdown",
   "id": "0a5f38b5-5bf2-44c3-b2b5-6a8ba16a6997",
   "metadata": {},
   "source": [
    "The HyFlow method adds the `episode_key` as that is a HYLODE concept and _not_ available in EMAP."
   ]
  },
  {
   "cell_type": "code",
   "execution_count": null,
   "id": "3aa1bef4-2a54-4eb3-a8be-dc7dd7fd5a6e",
   "metadata": {
    "execution": {
     "iopub.execute_input": "2021-09-18T18:41:10.928589Z",
     "iopub.status.busy": "2021-09-18T18:41:10.928437Z",
     "iopub.status.idle": "2021-09-18T18:41:10.942138Z",
     "shell.execute_reply": "2021-09-18T18:41:10.942013Z",
     "shell.execute_reply.started": "2021-09-18T18:41:10.928519Z"
    },
    "tags": []
   },
   "outputs": [],
   "source": [
    "episode_slices_df"
   ]
  },
  {
   "cell_type": "code",
   "execution_count": null,
   "id": "e4a0b215-9e39-445b-88a2-6f160d403fe7",
   "metadata": {
    "execution": {
     "iopub.execute_input": "2021-09-18T18:41:11.400732Z",
     "iopub.status.busy": "2021-09-18T18:41:11.400565Z",
     "iopub.status.idle": "2021-09-18T18:41:11.406383Z",
     "shell.execute_reply": "2021-09-18T18:41:11.406257Z",
     "shell.execute_reply.started": "2021-09-18T18:41:11.400666Z"
    },
    "tags": []
   },
   "outputs": [],
   "source": [
    "# Attach HyDef bed_id to episode slice & drop HL7 location string\n",
    "episode_slices_df = episode_slices_df.join(\n",
    "    beds_df.loc[:, ['bed_id', 'hl7_location']].set_index('hl7_location'),\n",
    "    on='hl7_location'\n",
    ").drop(columns=['hl7_location'])"
   ]
  },
  {
   "cell_type": "code",
   "execution_count": null,
   "id": "c1f1edad-5719-4a30-b7ce-de6bfb04b9f6",
   "metadata": {
    "execution": {
     "iopub.execute_input": "2021-09-18T18:41:11.842530Z",
     "iopub.status.busy": "2021-09-18T18:41:11.842391Z",
     "iopub.status.idle": "2021-09-18T18:41:11.855274Z",
     "shell.execute_reply": "2021-09-18T18:41:11.855120Z",
     "shell.execute_reply.started": "2021-09-18T18:41:11.842469Z"
    },
    "tags": []
   },
   "outputs": [],
   "source": [
    "episode_slices_df"
   ]
  },
  {
   "cell_type": "markdown",
   "id": "c3b6529c-3591-4307-98f4-5ce8eb9016db",
   "metadata": {},
   "source": [
    "#### Fetch matching Patients from EMAP for Episode Slices that are in in HyFlow"
   ]
  },
  {
   "cell_type": "code",
   "execution_count": null,
   "id": "eb10c301-19e7-4c1d-8478-47295b96a944",
   "metadata": {
    "execution": {
     "iopub.execute_input": "2021-09-18T18:41:12.639701Z",
     "iopub.status.busy": "2021-09-18T18:41:12.639570Z",
     "iopub.status.idle": "2021-09-18T18:41:12.640795Z",
     "shell.execute_reply": "2021-09-18T18:41:12.640685Z",
     "shell.execute_reply.started": "2021-09-18T18:41:12.639639Z"
    },
    "tags": []
   },
   "outputs": [],
   "source": [
    "# the point-in-time we are interested in:  8pm on 17/07/2021 BST\n",
    "horizon_dt = datetime(2021, 7, 17, 20, 0, 0).astimezone(LONDON_TZ)"
   ]
  },
  {
   "cell_type": "code",
   "execution_count": null,
   "id": "db348fed-6b60-4258-bf43-ce0343656b67",
   "metadata": {
    "execution": {
     "iopub.execute_input": "2021-09-18T18:41:12.790316Z",
     "iopub.status.busy": "2021-09-18T18:41:12.790170Z",
     "iopub.status.idle": "2021-09-18T18:41:12.809872Z",
     "shell.execute_reply": "2021-09-18T18:41:12.809747Z",
     "shell.execute_reply.started": "2021-09-18T18:41:12.790256Z"
    },
    "tags": []
   },
   "outputs": [],
   "source": [
    "# get our saved Episode Slices\n",
    "episode_slices_df = icu_episode_slices_from_hyflow(ward, horizon_dt)"
   ]
  },
  {
   "cell_type": "code",
   "execution_count": null,
   "id": "6d217bc3-103f-4fc4-8b71-494932cdb828",
   "metadata": {
    "execution": {
     "iopub.execute_input": "2021-09-18T18:41:13.226131Z",
     "iopub.status.busy": "2021-09-18T18:41:13.226001Z",
     "iopub.status.idle": "2021-09-18T18:41:13.232254Z",
     "shell.execute_reply": "2021-09-18T18:41:13.232124Z",
     "shell.execute_reply.started": "2021-09-18T18:41:13.226073Z"
    },
    "tags": []
   },
   "outputs": [],
   "source": [
    "episode_slices_df.head()"
   ]
  },
  {
   "cell_type": "code",
   "execution_count": null,
   "id": "1efc86dd-ae85-4c8c-bfc4-392606ea01ce",
   "metadata": {
    "execution": {
     "iopub.execute_input": "2021-09-18T18:41:13.541197Z",
     "iopub.status.busy": "2021-09-18T18:41:13.541068Z",
     "iopub.status.idle": "2021-09-18T18:41:13.560329Z",
     "shell.execute_reply": "2021-09-18T18:41:13.560184Z",
     "shell.execute_reply.started": "2021-09-18T18:41:13.541137Z"
    },
    "tags": []
   },
   "outputs": [],
   "source": [
    "patients_df = icu_patients_from_emap(ward, horizon_dt, list(episode_slices_df.csn))"
   ]
  },
  {
   "cell_type": "code",
   "execution_count": null,
   "id": "47776bb9-7b1a-49f3-9621-360356175616",
   "metadata": {
    "execution": {
     "iopub.execute_input": "2021-09-18T18:41:13.745285Z",
     "iopub.status.busy": "2021-09-18T18:41:13.745138Z",
     "iopub.status.idle": "2021-09-18T18:41:13.751018Z",
     "shell.execute_reply": "2021-09-18T18:41:13.750914Z",
     "shell.execute_reply.started": "2021-09-18T18:41:13.745224Z"
    },
    "tags": []
   },
   "outputs": [],
   "source": [
    "patients_df"
   ]
  },
  {
   "cell_type": "code",
   "execution_count": null,
   "id": "6174815e-f630-4b2f-80b8-2c082a04aeb1",
   "metadata": {
    "execution": {
     "iopub.execute_input": "2021-09-18T18:41:13.931264Z",
     "iopub.status.busy": "2021-09-18T18:41:13.931121Z",
     "iopub.status.idle": "2021-09-18T18:41:13.936402Z",
     "shell.execute_reply": "2021-09-18T18:41:13.936294Z",
     "shell.execute_reply.started": "2021-09-18T18:41:13.931188Z"
    },
    "tags": []
   },
   "outputs": [],
   "source": [
    "# Attach HyFlow episode_slice_id to patient\n",
    "patients_df = patients_df.join(\n",
    "    episode_slices_df.loc[:, ['episode_slice_id', 'csn']].set_index('csn'),\n",
    "    on='csn'\n",
    ").drop(columns=['csn'])"
   ]
  },
  {
   "cell_type": "code",
   "execution_count": null,
   "id": "4e0ca877-3b1c-48a2-8510-37d2f2c5b29a",
   "metadata": {
    "execution": {
     "iopub.execute_input": "2021-09-18T18:41:14.287502Z",
     "iopub.status.busy": "2021-09-18T18:41:14.287367Z",
     "iopub.status.idle": "2021-09-18T18:41:14.294678Z",
     "shell.execute_reply": "2021-09-18T18:41:14.294526Z",
     "shell.execute_reply.started": "2021-09-18T18:41:14.287443Z"
    },
    "tags": []
   },
   "outputs": [],
   "source": [
    "patients_df"
   ]
  },
  {
   "cell_type": "markdown",
   "id": "351ffd4f-a297-4b53-9030-9ff7f33d7727",
   "metadata": {},
   "source": [
    "#### Fetch matching Observations of interest in EMAP for Episode Slices that are in HyFlow"
   ]
  },
  {
   "cell_type": "code",
   "execution_count": null,
   "id": "f2fc943b-a904-4d27-85ea-965f85bd5247",
   "metadata": {
    "execution": {
     "iopub.execute_input": "2021-09-18T18:41:15.254625Z",
     "iopub.status.busy": "2021-09-18T18:41:15.254489Z",
     "iopub.status.idle": "2021-09-18T18:41:15.255745Z",
     "shell.execute_reply": "2021-09-18T18:41:15.255638Z",
     "shell.execute_reply.started": "2021-09-18T18:41:15.254564Z"
    },
    "tags": []
   },
   "outputs": [],
   "source": [
    "lookback_hrs = 24 # size of the trailing window we are interested in"
   ]
  },
  {
   "cell_type": "code",
   "execution_count": null,
   "id": "066912f7-0beb-46da-b887-3da06f1112c3",
   "metadata": {
    "execution": {
     "iopub.execute_input": "2021-09-18T18:41:15.657596Z",
     "iopub.status.busy": "2021-09-18T18:41:15.657393Z",
     "iopub.status.idle": "2021-09-18T18:41:15.658961Z",
     "shell.execute_reply": "2021-09-18T18:41:15.658827Z",
     "shell.execute_reply.started": "2021-09-18T18:41:15.657474Z"
    },
    "tags": []
   },
   "outputs": [],
   "source": [
    "# the point-in-time we are interested in:  10am on 17/07/2021 BST\n",
    "horizon_dt = datetime(2021, 7, 17, 10, 0, 0).astimezone(LONDON_TZ)"
   ]
  },
  {
   "cell_type": "code",
   "execution_count": null,
   "id": "0c451ece-01ed-4075-9471-d111a5f5179e",
   "metadata": {
    "execution": {
     "iopub.execute_input": "2021-09-18T18:41:16.124375Z",
     "iopub.status.busy": "2021-09-18T18:41:16.124239Z",
     "iopub.status.idle": "2021-09-18T18:41:16.142575Z",
     "shell.execute_reply": "2021-09-18T18:41:16.142454Z",
     "shell.execute_reply.started": "2021-09-18T18:41:16.124309Z"
    },
    "tags": []
   },
   "outputs": [],
   "source": [
    "# get our saved Episode Slices\n",
    "episode_slices_df = icu_episode_slices_from_hyflow(ward, horizon_dt)"
   ]
  },
  {
   "cell_type": "code",
   "execution_count": null,
   "id": "92171e55-85f1-4b1b-9464-3b001835f713",
   "metadata": {
    "execution": {
     "iopub.execute_input": "2021-09-18T18:41:16.316317Z",
     "iopub.status.busy": "2021-09-18T18:41:16.316171Z",
     "iopub.status.idle": "2021-09-18T18:41:16.322583Z",
     "shell.execute_reply": "2021-09-18T18:41:16.322476Z",
     "shell.execute_reply.started": "2021-09-18T18:41:16.316252Z"
    },
    "tags": []
   },
   "outputs": [],
   "source": [
    "episode_slices_df.head()"
   ]
  },
  {
   "cell_type": "code",
   "execution_count": null,
   "id": "19241f39-e710-4c6f-a28a-1e1246b01e8c",
   "metadata": {
    "execution": {
     "iopub.execute_input": "2021-09-18T18:41:16.491051Z",
     "iopub.status.busy": "2021-09-18T18:41:16.490922Z",
     "iopub.status.idle": "2021-09-18T18:41:16.497445Z",
     "shell.execute_reply": "2021-09-18T18:41:16.497279Z",
     "shell.execute_reply.started": "2021-09-18T18:41:16.490988Z"
    },
    "tags": []
   },
   "outputs": [],
   "source": [
    "# get our reference list of observation types we care about\n",
    "obs_types_df = icu_observation_types_from_hydef()"
   ]
  },
  {
   "cell_type": "code",
   "execution_count": null,
   "id": "c1e1d987-d419-43d7-98e2-ba4d30de87bb",
   "metadata": {
    "execution": {
     "iopub.execute_input": "2021-09-18T18:41:16.692406Z",
     "iopub.status.busy": "2021-09-18T18:41:16.692192Z",
     "iopub.status.idle": "2021-09-18T18:41:16.702532Z",
     "shell.execute_reply": "2021-09-18T18:41:16.702379Z",
     "shell.execute_reply.started": "2021-09-18T18:41:16.692319Z"
    },
    "tags": []
   },
   "outputs": [],
   "source": [
    "obs_types_df.head()"
   ]
  },
  {
   "cell_type": "code",
   "execution_count": null,
   "id": "06521b52-44dd-40e2-8b5f-960a56f09ac3",
   "metadata": {
    "execution": {
     "iopub.execute_input": "2021-09-18T18:41:17.741070Z",
     "iopub.status.busy": "2021-09-18T18:41:17.739780Z",
     "iopub.status.idle": "2021-09-18T18:41:17.947620Z",
     "shell.execute_reply": "2021-09-18T18:41:17.946420Z",
     "shell.execute_reply.started": "2021-09-18T18:41:17.74048Z"
    },
    "tags": []
   },
   "outputs": [],
   "source": [
    "obs_df = icu_observations_from_emap(\n",
    "    ward,\n",
    "    horizon_dt,\n",
    "    list(episode_slices_df.csn),\n",
    "    list(obs_types_df.source_id),\n",
    "    lookback_hrs\n",
    ")"
   ]
  },
  {
   "cell_type": "code",
   "execution_count": null,
   "id": "1700168f-aeee-463a-a734-35c92395fe33",
   "metadata": {
    "execution": {
     "iopub.execute_input": "2021-09-18T18:41:17.449788Z",
     "iopub.status.busy": "2021-09-18T18:41:17.449659Z",
     "iopub.status.idle": "2021-09-18T18:41:17.455385Z",
     "shell.execute_reply": "2021-09-18T18:41:17.455281Z",
     "shell.execute_reply.started": "2021-09-18T18:41:17.449728Z"
    },
    "tags": []
   },
   "outputs": [],
   "source": [
    "obs_df"
   ]
  },
  {
   "cell_type": "code",
   "execution_count": null,
   "id": "7cf36a8f-5bcc-430b-b132-eadff96635fc",
   "metadata": {
    "execution": {
     "iopub.execute_input": "2021-09-18T18:41:17.871681Z",
     "iopub.status.busy": "2021-09-18T18:41:17.871549Z",
     "iopub.status.idle": "2021-09-18T18:41:17.876000Z",
     "shell.execute_reply": "2021-09-18T18:41:17.875881Z",
     "shell.execute_reply.started": "2021-09-18T18:41:17.871621Z"
    },
    "tags": []
   },
   "outputs": [],
   "source": [
    "# Attach HyDef observation type id to observation\n",
    "obs_df = obs_df.join(\n",
    "    obs_types_df.loc[:, ['obs_type_id', 'source_id']].set_index('source_id'),\n",
    "    on='source_id'\n",
    ")"
   ]
  },
  {
   "cell_type": "code",
   "execution_count": null,
   "id": "49d1b9b5-79b7-4ae5-b117-138f1fae8f22",
   "metadata": {
    "execution": {
     "iopub.execute_input": "2021-09-18T18:41:18.716750Z",
     "iopub.status.busy": "2021-09-18T18:41:18.715470Z",
     "iopub.status.idle": "2021-09-18T18:41:18.767860Z",
     "shell.execute_reply": "2021-09-18T18:41:18.766690Z",
     "shell.execute_reply.started": "2021-09-18T18:41:18.71617Z"
    },
    "tags": []
   },
   "outputs": [],
   "source": [
    "# Attach HyFlow episode_slice_id to observation\n",
    "obs_df = obs_df.join(\n",
    "    episode_slices_df.loc[:, ['episode_slice_id', 'csn']].set_index('csn'),\n",
    "    on='csn'\n",
    ").drop(columns=['csn'])"
   ]
  },
  {
   "cell_type": "code",
   "execution_count": null,
   "id": "d5589221-de3b-48af-949b-b99fc0cb4a14",
   "metadata": {
    "execution": {
     "iopub.execute_input": "2021-09-18T18:41:18.278619Z",
     "iopub.status.busy": "2021-09-18T18:41:18.278488Z",
     "iopub.status.idle": "2021-09-18T18:41:18.284606Z",
     "shell.execute_reply": "2021-09-18T18:41:18.284496Z",
     "shell.execute_reply.started": "2021-09-18T18:41:18.278558Z"
    },
    "tags": []
   },
   "outputs": [],
   "source": [
    "obs_df"
   ]
  },
  {
   "cell_type": "markdown",
   "id": "fb364e64-7462-4673-ad73-dbe87fe97541",
   "metadata": {},
   "source": [
    "## Accessing the `hyflow` schema directly"
   ]
  },
  {
   "cell_type": "markdown",
   "id": "3cc46131-5505-488b-9562-80f8fa1a3282",
   "metadata": {},
   "source": [
    "**Directly querying the `hylode` database will return personally identifiable information**\n",
    "\n",
    "Like most tables in the `hylode` database, the `hyflow` schema tables are all **_immutable logs_**.  \n",
    "That means data is only ever appended, never updated in place.\n",
    "\n",
    "This also means, for example, that an individual patient will have many records in the `icu_patients_log` table,   \n",
    "one for each slice that was taken while their episode was active.\n",
    "\n",
    "**Important notes about direct Hylode DB access:**  \n",
    "The queries provided through the functions in the `hyflow` & `hygear` packages take care of removing duplicates.  \n",
    "If you access the schemas directly you will need to do that yourself - see the various `hyflow__*.sql` files in `hygear/load/sql` for examples of partitioning over `episode_slice_id` and `horizon_dt` columns.\n",
    "\n",
    "Other conveniences are provided by the packages.  \n",
    "For example, the Postgres/SQLAlchemy/Pandas stack does not support storing timedeltas directly (even though it is a supported data type in both Postgres & Pandas, SQLAlchemy is unable to handle it).  \n",
    "That means the raw `span` column in the `hyflow.icu_episode_slices_log ` table is in nanoseconds.  \n",
    "Converting to a timedelta is done in the packages but you'll have to do that yourself if you access the raw tables."
   ]
  },
  {
   "cell_type": "markdown",
   "id": "14c4901a-373d-4e98-8d50-6efe52c15760",
   "metadata": {},
   "source": [
    "### ICU Episode Slices with Bed Id"
   ]
  },
  {
   "cell_type": "code",
   "execution_count": null,
   "id": "aaaa1f0b-e192-4561-9a69-8242c2257630",
   "metadata": {
    "execution": {
     "iopub.execute_input": "2021-09-18T18:41:20.691348Z",
     "iopub.status.busy": "2021-09-18T18:41:20.691220Z",
     "iopub.status.idle": "2021-09-18T18:41:20.767270Z",
     "shell.execute_reply": "2021-09-18T18:41:20.767125Z",
     "shell.execute_reply.started": "2021-09-18T18:41:20.691289Z"
    },
    "tags": []
   },
   "outputs": [],
   "source": [
    "sql_episode_slices_df = pd.read_sql(\n",
    "    '''\n",
    "        select \n",
    "            ep.id AS episode_slice_id\n",
    "            , ep.episode_key\n",
    "            , ep.csn\n",
    "            , ep.admission_dt\n",
    "            , ep.discharge_dt\n",
    "            , beds.source_id AS bed\n",
    "            , horizon_dt\n",
    "            , log_dt\n",
    "        from hyflow.icu_episode_slices_log ep\n",
    "            inner join hydef.beds beds ON ep.bed_id = beds.id\n",
    "            inner join hydef.bays bays ON beds.bay_id = bays.id\n",
    "         WHERE bays.ward_code = %(ward)s\n",
    "        order by episode_key, horizon_dt limit 1000\n",
    "    ''', \n",
    "    hydb_engine,\n",
    "    params={'horizon_dt': horizon_dt, 'ward': 'T03'}\n",
    ")"
   ]
  },
  {
   "cell_type": "code",
   "execution_count": null,
   "id": "740881e3-dd8f-4699-88b5-ea2f6088d143",
   "metadata": {
    "execution": {
     "iopub.execute_input": "2021-09-18T18:41:21.482397Z",
     "iopub.status.busy": "2021-09-18T18:41:21.482268Z",
     "iopub.status.idle": "2021-09-18T18:41:21.497388Z",
     "shell.execute_reply": "2021-09-18T18:41:21.497280Z",
     "shell.execute_reply.started": "2021-09-18T18:41:21.482338Z"
    },
    "tags": []
   },
   "outputs": [],
   "source": [
    "sql_episode_slices_df"
   ]
  },
  {
   "cell_type": "markdown",
   "id": "ad3ce58b-296d-4658-9a83-59d1cc383bfc",
   "metadata": {},
   "source": [
    "### ICU Patients"
   ]
  },
  {
   "cell_type": "code",
   "execution_count": null,
   "id": "7ec9f9ea-237d-4581-b2a0-8aa55a9270fc",
   "metadata": {
    "execution": {
     "iopub.execute_input": "2021-09-18T18:41:22.844599Z",
     "iopub.status.busy": "2021-09-18T18:41:22.844473Z",
     "iopub.status.idle": "2021-09-18T18:41:22.883884Z",
     "shell.execute_reply": "2021-09-18T18:41:22.883754Z",
     "shell.execute_reply.started": "2021-09-18T18:41:22.844541Z"
    },
    "tags": []
   },
   "outputs": [],
   "source": [
    "sql_patients_df = pd.read_sql('''\n",
    "    select \n",
    "        id AS patient_log_id\n",
    "        , episode_slice_id\n",
    "        , mrn\n",
    "        , name\n",
    "        , dob\n",
    "        , sex\n",
    "        , ethnicity\n",
    "        , postcode\n",
    "        , horizon_dt\n",
    "        , log_dt\n",
    "    from hyflow.icu_patients_log \n",
    "    order by mrn, horizon_dt limit 1000''', \n",
    "    hydb_engine\n",
    ")"
   ]
  },
  {
   "cell_type": "code",
   "execution_count": null,
   "id": "df17dcf4-3530-44cb-8d44-b3205c49b4f4",
   "metadata": {
    "execution": {
     "iopub.execute_input": "2021-09-18T18:41:23.524950Z",
     "iopub.status.busy": "2021-09-18T18:41:23.523730Z",
     "iopub.status.idle": "2021-09-18T18:41:23.672110Z",
     "shell.execute_reply": "2021-09-18T18:41:23.671020Z",
     "shell.execute_reply.started": "2021-09-18T18:41:23.52438Z"
    },
    "tags": []
   },
   "outputs": [],
   "source": [
    "sql_patients_df"
   ]
  },
  {
   "cell_type": "markdown",
   "id": "1bef4814-14fb-4efb-aedf-ae08caa0a23b",
   "metadata": {},
   "source": [
    "### ICU Observations"
   ]
  },
  {
   "cell_type": "code",
   "execution_count": null,
   "id": "bafd69d9-7a58-4e13-9ccd-37289291b018",
   "metadata": {
    "execution": {
     "iopub.execute_input": "2021-09-18T18:41:38.543096Z",
     "iopub.status.busy": "2021-09-18T18:41:38.542954Z",
     "iopub.status.idle": "2021-09-18T18:41:39.183530Z",
     "shell.execute_reply": "2021-09-18T18:41:39.183385Z",
     "shell.execute_reply.started": "2021-09-18T18:41:38.543027Z"
    },
    "tags": []
   },
   "outputs": [],
   "source": [
    "sql_obs_df = pd.read_sql('select * from hyflow.icu_observations_log order by episode_slice_id, horizon_dt limit 1000', hydb_engine)"
   ]
  },
  {
   "cell_type": "code",
   "execution_count": null,
   "id": "2eaa03aa-9926-48e9-b5ad-be53fdf062de",
   "metadata": {
    "execution": {
     "iopub.execute_input": "2021-09-18T18:41:39.183799Z",
     "iopub.status.busy": "2021-09-18T18:41:39.183703Z",
     "iopub.status.idle": "2021-09-18T18:41:39.197744Z",
     "shell.execute_reply": "2021-09-18T18:41:39.197645Z",
     "shell.execute_reply.started": "2021-09-18T18:41:39.183741Z"
    },
    "tags": []
   },
   "outputs": [],
   "source": [
    "sql_obs_df"
   ]
  },
  {
   "cell_type": "markdown",
   "id": "929229ec-59e7-4d4e-9c1d-9ab6e8949a1a",
   "metadata": {},
   "source": [
    "----"
   ]
  },
  {
   "cell_type": "markdown",
   "id": "65f01881-cc6b-4a47-9720-3dec1a369471",
   "metadata": {},
   "source": [
    "# HyGear\n",
    "*The HyGear component is responsible for transforming raw data collected by HyFlow into features that will be consumed by the models in HyMind*.\n",
    "\n",
    "The idea is that explorative feature engineering happens on source data from HyFlow or EMAP in the HyMind Lab.  \n",
    "Once the transformation has been refined, it is added to the `hygear` package.  \n",
    "\n",
    "The `hygear` package itself is available for use from within the HyMind Lab.\n",
    "\n",
    "Similarly, all the tables in the `hygear` schema in the `hylode` database can be accessed directly.  \n",
    "Like the `hyflow` tables shown above, these are also in the _immutable log_ style."
   ]
  },
  {
   "cell_type": "code",
   "execution_count": null,
   "id": "8e1795b3-d980-4aab-bb0a-5aaf57a06a30",
   "metadata": {
    "execution": {
     "iopub.execute_input": "2021-09-18T18:41:39.844952Z",
     "iopub.status.busy": "2021-09-18T18:41:39.844825Z",
     "iopub.status.idle": "2021-09-18T18:41:39.859860Z",
     "shell.execute_reply": "2021-09-18T18:41:39.859743Z",
     "shell.execute_reply.started": "2021-09-18T18:41:39.844894Z"
    },
    "tags": []
   },
   "outputs": [],
   "source": [
    "from hygear.load.hydef import icu_observation_types_from_hydef\n",
    "from hygear.load.hyflow import icu_episode_slices_from_hyflow, icu_patients_from_hyflow, icu_observations_from_hyflow\n",
    "from hygear.load.hygear import icu_features_from_hygear\n",
    "\n",
    "from hygear.transform.cog1.icu_therapeutics import (\n",
    "    InotropeTransformer,\n",
    "    NitricTransformer,\n",
    "    RenalTherapyTransformer\n",
    ")\n",
    "from hygear.transform.cog1.icu_patient_state import (\n",
    "    AgitationTransformer,\n",
    "    DischargeStatusTransformer,\n",
    "    PronedTransformer\n",
    ")\n",
    "from hygear.transform.cog1.icu_ventilation import TracheostomyTransformer, VentilationTypeTransformer\n",
    "from hygear.transform.cog1.icu_vitals import (\n",
    "    HeartRateTransformer,\n",
    "    RespiratoryRateTransformer,\n",
    "    TemperatureTransformer\n",
    ")\n",
    "from hygear.transform.cog1.icu_temporal import AdmissionAgeTransformer, LengthOfStayTransformer, DischargeLabelTransformer\n",
    "from hygear.transform.cog2.icu_work_intensity import WorkIntensityTransformer"
   ]
  },
  {
   "cell_type": "markdown",
   "id": "35d79db3-26c3-4876-845d-cb94a5eadabf",
   "metadata": {},
   "source": [
    "## Single Horizon Example"
   ]
  },
  {
   "cell_type": "code",
   "execution_count": null,
   "id": "8c075b9c-ecd6-42bb-8d7d-9eba4c483769",
   "metadata": {
    "execution": {
     "iopub.execute_input": "2021-09-18T18:42:12.880071Z",
     "iopub.status.busy": "2021-09-18T18:42:12.879943Z",
     "iopub.status.idle": "2021-09-18T18:42:12.881195Z",
     "shell.execute_reply": "2021-09-18T18:42:12.881087Z",
     "shell.execute_reply.started": "2021-09-18T18:42:12.880013Z"
    },
    "tags": []
   },
   "outputs": [],
   "source": [
    "# the point-in-time we are interested in:  10pm on 31/08/2021 BST\n",
    "horizon_dt = datetime(2021, 8, 31, 22, 0, 0).astimezone(LONDON_TZ)"
   ]
  },
  {
   "cell_type": "markdown",
   "id": "352eedf1-3b11-4e34-a1c8-9939291a19ba",
   "metadata": {},
   "source": [
    "### Fetch ICU Episode Slices active at a specific point-in-time"
   ]
  },
  {
   "cell_type": "code",
   "execution_count": null,
   "id": "91f0bc30-c4b1-464c-9cab-6e86c7acc79c",
   "metadata": {
    "execution": {
     "iopub.execute_input": "2021-09-18T18:42:13.740651Z",
     "iopub.status.busy": "2021-09-18T18:42:13.740529Z",
     "iopub.status.idle": "2021-09-18T18:42:13.775237Z",
     "shell.execute_reply": "2021-09-18T18:42:13.775091Z",
     "shell.execute_reply.started": "2021-09-18T18:42:13.740593Z"
    },
    "tags": []
   },
   "outputs": [],
   "source": [
    "episode_slices_df = icu_episode_slices_from_hyflow(\n",
    "    ward,\n",
    "    horizon_dt\n",
    ")"
   ]
  },
  {
   "cell_type": "code",
   "execution_count": null,
   "id": "4b4fb2d9-2903-4b7a-8d8d-65270d50b795",
   "metadata": {
    "execution": {
     "iopub.execute_input": "2021-09-18T18:42:14.452940Z",
     "iopub.status.busy": "2021-09-18T18:42:14.452802Z",
     "iopub.status.idle": "2021-09-18T18:42:14.468605Z",
     "shell.execute_reply": "2021-09-18T18:42:14.468494Z",
     "shell.execute_reply.started": "2021-09-18T18:42:14.452874Z"
    },
    "tags": []
   },
   "outputs": [],
   "source": [
    "episode_slices_df"
   ]
  },
  {
   "cell_type": "markdown",
   "id": "1101cb5b-7fb0-4509-b2d2-1ffce1d464fb",
   "metadata": {},
   "source": [
    "### Fetch matching Patients for ICU Episode Slices active at a specific point-in-time"
   ]
  },
  {
   "cell_type": "code",
   "execution_count": null,
   "id": "5ec1b734-6214-4456-9012-7b0840a1796f",
   "metadata": {
    "execution": {
     "iopub.execute_input": "2021-09-18T18:42:15.596595Z",
     "iopub.status.busy": "2021-09-18T18:42:15.596468Z",
     "iopub.status.idle": "2021-09-18T18:42:15.609716Z",
     "shell.execute_reply": "2021-09-18T18:42:15.609604Z",
     "shell.execute_reply.started": "2021-09-18T18:42:15.596536Z"
    },
    "tags": []
   },
   "outputs": [],
   "source": [
    "# fetch matching patients\n",
    "patients_df = icu_patients_from_hyflow(\n",
    "    ward,\n",
    "    horizon_dt,\n",
    "    list(episode_slices_df.episode_slice_id)\n",
    ")"
   ]
  },
  {
   "cell_type": "code",
   "execution_count": null,
   "id": "6ce308b4-f9ed-482e-a097-a042a86211e7",
   "metadata": {
    "execution": {
     "iopub.execute_input": "2021-09-18T18:42:16.215125Z",
     "iopub.status.busy": "2021-09-18T18:42:16.214942Z",
     "iopub.status.idle": "2021-09-18T18:42:16.232069Z",
     "shell.execute_reply": "2021-09-18T18:42:16.231915Z",
     "shell.execute_reply.started": "2021-09-18T18:42:16.215039Z"
    },
    "tags": []
   },
   "outputs": [],
   "source": [
    "patients_df.head()"
   ]
  },
  {
   "cell_type": "code",
   "execution_count": null,
   "id": "791aa578-7e0f-4baf-9623-bd1efbeaa335",
   "metadata": {
    "execution": {
     "iopub.execute_input": "2021-09-18T18:42:16.652586Z",
     "iopub.status.busy": "2021-09-18T18:42:16.652469Z",
     "iopub.status.idle": "2021-09-18T18:42:16.658161Z",
     "shell.execute_reply": "2021-09-18T18:42:16.658050Z",
     "shell.execute_reply.started": "2021-09-18T18:42:16.652530Z"
    },
    "tags": []
   },
   "outputs": [],
   "source": [
    "# join episode slices with patients\n",
    "combined_df = episode_slices_df.join(\n",
    "        patients_df.loc[:, ['episode_slice_id', 'mrn', 'dob', 'sex', 'ethnicity']].set_index('episode_slice_id'),\n",
    "        on='episode_slice_id'\n",
    "    ).drop(['log_dt', 'horizon_dt'], axis=1)"
   ]
  },
  {
   "cell_type": "code",
   "execution_count": null,
   "id": "c12eb745-5260-42a5-a2c6-a2b0ffdd62a0",
   "metadata": {
    "execution": {
     "iopub.execute_input": "2021-09-18T18:42:17.503415Z",
     "iopub.status.busy": "2021-09-18T18:42:17.503289Z",
     "iopub.status.idle": "2021-09-18T18:42:17.513630Z",
     "shell.execute_reply": "2021-09-18T18:42:17.513537Z",
     "shell.execute_reply.started": "2021-09-18T18:42:17.503357Z"
    },
    "tags": []
   },
   "outputs": [],
   "source": [
    "combined_df.head()"
   ]
  },
  {
   "cell_type": "markdown",
   "id": "1c686e55-31a7-4e6d-9aab-b629e1ae379e",
   "metadata": {},
   "source": [
    "### Fetch matching Observations for ICU Episode Slices active at a specific point-in-time\n",
    "_this is in long format, multiple rows per_ `episode_slice_id` "
   ]
  },
  {
   "cell_type": "code",
   "execution_count": null,
   "id": "1dc685b2-0c60-4ee0-8536-c0500b853d99",
   "metadata": {
    "execution": {
     "iopub.execute_input": "2021-09-18T18:42:18.816696Z",
     "iopub.status.busy": "2021-09-18T18:42:18.816558Z",
     "iopub.status.idle": "2021-09-18T18:42:18.817751Z",
     "shell.execute_reply": "2021-09-18T18:42:18.817625Z",
     "shell.execute_reply.started": "2021-09-18T18:42:18.816634Z"
    },
    "tags": []
   },
   "outputs": [],
   "source": [
    "# number of trailing hours we are interested in\n",
    "lookback_hrs = 24"
   ]
  },
  {
   "cell_type": "code",
   "execution_count": null,
   "id": "d41a7577-81f9-47d5-9787-e79b1e6ec90a",
   "metadata": {
    "execution": {
     "iopub.execute_input": "2021-09-18T18:42:19.313531Z",
     "iopub.status.busy": "2021-09-18T18:42:19.313402Z",
     "iopub.status.idle": "2021-09-18T18:42:19.426869Z",
     "shell.execute_reply": "2021-09-18T18:42:19.426731Z",
     "shell.execute_reply.started": "2021-09-18T18:42:19.313472Z"
    },
    "tags": []
   },
   "outputs": [],
   "source": [
    "# fetch matching observations\n",
    "obs_df = icu_observations_from_hyflow(\n",
    "    ward,\n",
    "    horizon_dt,\n",
    "    list(episode_slices_df.episode_slice_id),\n",
    "    lookback_hrs\n",
    ")"
   ]
  },
  {
   "cell_type": "code",
   "execution_count": null,
   "id": "ab3b67c1-4213-4823-80e4-0cd21d154c4f",
   "metadata": {
    "execution": {
     "iopub.execute_input": "2021-09-18T18:42:19.873690Z",
     "iopub.status.busy": "2021-09-18T18:42:19.873564Z",
     "iopub.status.idle": "2021-09-18T18:42:19.884130Z",
     "shell.execute_reply": "2021-09-18T18:42:19.884024Z",
     "shell.execute_reply.started": "2021-09-18T18:42:19.873633Z"
    },
    "tags": []
   },
   "outputs": [],
   "source": [
    "obs_df.head()"
   ]
  },
  {
   "cell_type": "code",
   "execution_count": null,
   "id": "425a66fb-f588-4d73-ac82-ca48f71c4fa7",
   "metadata": {
    "execution": {
     "iopub.execute_input": "2021-09-18T18:42:20.263875Z",
     "iopub.status.busy": "2021-09-18T18:42:20.263748Z",
     "iopub.status.idle": "2021-09-18T18:42:20.269401Z",
     "shell.execute_reply": "2021-09-18T18:42:20.269288Z",
     "shell.execute_reply.started": "2021-09-18T18:42:20.263817Z"
    },
    "tags": []
   },
   "outputs": [],
   "source": [
    "# fetch the observation types reference catalogue\n",
    "obs_types_df = icu_observation_types_from_hydef()"
   ]
  },
  {
   "cell_type": "code",
   "execution_count": null,
   "id": "4292ee2f-6012-4cd5-ba12-47a739d9a40a",
   "metadata": {
    "execution": {
     "iopub.execute_input": "2021-09-18T18:42:20.821995Z",
     "iopub.status.busy": "2021-09-18T18:42:20.821865Z",
     "iopub.status.idle": "2021-09-18T18:42:20.825538Z",
     "shell.execute_reply": "2021-09-18T18:42:20.825421Z",
     "shell.execute_reply.started": "2021-09-18T18:42:20.821937Z"
    },
    "tags": []
   },
   "outputs": [],
   "source": [
    "# join observations with metadata\n",
    "obs_df = obs_df.join(\n",
    "    obs_types_df.set_index('obs_type_id'),\n",
    "    on='obs_type_id'\n",
    ")"
   ]
  },
  {
   "cell_type": "code",
   "execution_count": null,
   "id": "77495e37-a9ec-4936-a980-11503b0d0f53",
   "metadata": {
    "execution": {
     "iopub.execute_input": "2021-09-18T18:42:21.246772Z",
     "iopub.status.busy": "2021-09-18T18:42:21.246654Z",
     "iopub.status.idle": "2021-09-18T18:42:21.259859Z",
     "shell.execute_reply": "2021-09-18T18:42:21.259748Z",
     "shell.execute_reply.started": "2021-09-18T18:42:21.246715Z"
    },
    "tags": []
   },
   "outputs": [],
   "source": [
    "obs_df.head()"
   ]
  },
  {
   "cell_type": "code",
   "execution_count": null,
   "id": "d889e3ee-7cbf-4efb-9a10-098d723e2da4",
   "metadata": {
    "execution": {
     "iopub.execute_input": "2021-09-18T18:42:21.626800Z",
     "iopub.status.busy": "2021-09-18T18:42:21.626673Z",
     "iopub.status.idle": "2021-09-18T18:42:21.632375Z",
     "shell.execute_reply": "2021-09-18T18:42:21.632252Z",
     "shell.execute_reply.started": "2021-09-18T18:42:21.626743Z"
    },
    "tags": []
   },
   "outputs": [],
   "source": [
    "# join observations with episode slices to get episode key\n",
    "eps_obs_df = obs_df.join(\n",
    "    episode_slices_df.loc[:, ['episode_slice_id', 'episode_key', 'admission_dt', 'discharge_dt']].set_index('episode_slice_id'),\n",
    "    on='episode_slice_id'\n",
    ")"
   ]
  },
  {
   "cell_type": "code",
   "execution_count": null,
   "id": "b6bf25df-07cf-47b7-b793-5f809c5ab9f2",
   "metadata": {
    "execution": {
     "iopub.execute_input": "2021-09-18T18:42:22.133937Z",
     "iopub.status.busy": "2021-09-18T18:42:22.133812Z",
     "iopub.status.idle": "2021-09-18T18:42:22.138982Z",
     "shell.execute_reply": "2021-09-18T18:42:22.138878Z",
     "shell.execute_reply.started": "2021-09-18T18:42:22.133879Z"
    },
    "tags": []
   },
   "outputs": [],
   "source": [
    "eps_obs_df.groupby('episode_key')['obs_id'].count().rename('n_observations')"
   ]
  },
  {
   "cell_type": "markdown",
   "id": "da52f8e5-6430-46b5-8cf3-f79525ac396d",
   "metadata": {},
   "source": [
    "### Fetch generated ICU Patient State Features for ICU Episode Slices active at a specific point-in-time"
   ]
  },
  {
   "cell_type": "code",
   "execution_count": null,
   "id": "add32dd1-b818-4de4-a27c-5bcaec4a14dc",
   "metadata": {
    "execution": {
     "iopub.execute_input": "2021-09-18T18:42:23.336658Z",
     "iopub.status.busy": "2021-09-18T18:42:23.336530Z",
     "iopub.status.idle": "2021-09-18T18:42:23.348568Z",
     "shell.execute_reply": "2021-09-18T18:42:23.348443Z",
     "shell.execute_reply.started": "2021-09-18T18:42:23.336600Z"
    },
    "tags": []
   },
   "outputs": [],
   "source": [
    "patient_state_df = icu_features_from_hygear(\n",
    "    'patient_state',\n",
    "    ward,\n",
    "    horizon_dt,\n",
    "    list(episode_slices_df.episode_slice_id)\n",
    ")"
   ]
  },
  {
   "cell_type": "code",
   "execution_count": null,
   "id": "ad02dcee-c88d-4d10-9dc7-c35ac4790c8e",
   "metadata": {
    "execution": {
     "iopub.execute_input": "2021-09-18T18:42:23.935956Z",
     "iopub.status.busy": "2021-09-18T18:42:23.935826Z",
     "iopub.status.idle": "2021-09-18T18:42:23.947854Z",
     "shell.execute_reply": "2021-09-18T18:42:23.947733Z",
     "shell.execute_reply.started": "2021-09-18T18:42:23.935894Z"
    },
    "tags": []
   },
   "outputs": [],
   "source": [
    "patient_state_df"
   ]
  },
  {
   "cell_type": "code",
   "execution_count": null,
   "id": "96637970-3361-4fee-98f3-6a52452660b5",
   "metadata": {
    "execution": {
     "iopub.execute_input": "2021-09-18T18:42:24.388149Z",
     "iopub.status.busy": "2021-09-18T18:42:24.388030Z",
     "iopub.status.idle": "2021-09-18T18:42:24.393309Z",
     "shell.execute_reply": "2021-09-18T18:42:24.393165Z",
     "shell.execute_reply.started": "2021-09-18T18:42:24.388092Z"
    },
    "tags": []
   },
   "outputs": [],
   "source": [
    "# join with patient state\n",
    "combined_df = combined_df.join(\n",
    "        patient_state_df.loc[:, ['episode_slice_id', 'is_proned_1_4h', 'discharge_ready_1_4h', 'is_agitated_1_8h']].set_index('episode_slice_id'),\n",
    "        on='episode_slice_id'\n",
    "    )"
   ]
  },
  {
   "cell_type": "code",
   "execution_count": null,
   "id": "e1d2abc5-6602-4413-9430-e7ffb34c46e2",
   "metadata": {
    "execution": {
     "iopub.execute_input": "2021-09-18T18:42:24.986526Z",
     "iopub.status.busy": "2021-09-18T18:42:24.986390Z",
     "iopub.status.idle": "2021-09-18T18:42:24.999043Z",
     "shell.execute_reply": "2021-09-18T18:42:24.998936Z",
     "shell.execute_reply.started": "2021-09-18T18:42:24.986466Z"
    },
    "tags": []
   },
   "outputs": [],
   "source": [
    "combined_df.head()"
   ]
  },
  {
   "cell_type": "markdown",
   "id": "8aa4bb96-9f31-4807-b820-a8e56d9aa545",
   "metadata": {},
   "source": [
    "### Fetch generated ICU Therapeutics Features for ICU Episode Slices active at a specific point-in-time"
   ]
  },
  {
   "cell_type": "code",
   "execution_count": null,
   "id": "4554ab19-59c1-4f36-a3d5-406ccc9478cd",
   "metadata": {
    "execution": {
     "iopub.execute_input": "2021-09-18T18:42:26.142312Z",
     "iopub.status.busy": "2021-09-18T18:42:26.142144Z",
     "iopub.status.idle": "2021-09-18T18:42:26.172638Z",
     "shell.execute_reply": "2021-09-18T18:42:26.172503Z",
     "shell.execute_reply.started": "2021-09-18T18:42:26.142236Z"
    },
    "tags": []
   },
   "outputs": [],
   "source": [
    "therapeutics_df = icu_features_from_hygear(\n",
    "    'therapeutics',\n",
    "    ward,\n",
    "    horizon_dt,\n",
    "    list(episode_slices_df.episode_slice_id)\n",
    ")"
   ]
  },
  {
   "cell_type": "code",
   "execution_count": null,
   "id": "0c883ebd-0187-4845-a104-f046dd34c196",
   "metadata": {
    "execution": {
     "iopub.execute_input": "2021-09-18T18:42:26.730489Z",
     "iopub.status.busy": "2021-09-18T18:42:26.730360Z",
     "iopub.status.idle": "2021-09-18T18:42:26.741398Z",
     "shell.execute_reply": "2021-09-18T18:42:26.741290Z",
     "shell.execute_reply.started": "2021-09-18T18:42:26.730429Z"
    },
    "tags": []
   },
   "outputs": [],
   "source": [
    "therapeutics_df"
   ]
  },
  {
   "cell_type": "code",
   "execution_count": null,
   "id": "2e3ff577-6257-4f5c-8bcd-7dfaa57f85a6",
   "metadata": {
    "execution": {
     "iopub.execute_input": "2021-09-18T18:42:27.218378Z",
     "iopub.status.busy": "2021-09-18T18:42:27.218252Z",
     "iopub.status.idle": "2021-09-18T18:42:27.222691Z",
     "shell.execute_reply": "2021-09-18T18:42:27.222573Z",
     "shell.execute_reply.started": "2021-09-18T18:42:27.218315Z"
    },
    "tags": []
   },
   "outputs": [],
   "source": [
    "# join with therapeutics\n",
    "combined_df = combined_df.join(\n",
    "        therapeutics_df.loc[:, ['episode_slice_id', 'n_inotropes_1_4h', 'had_nitric_1_8h', 'had_rrt_1_4h']].set_index('episode_slice_id'),\n",
    "        on='episode_slice_id'\n",
    "    )"
   ]
  },
  {
   "cell_type": "code",
   "execution_count": null,
   "id": "cdc33031-d80b-4b8c-854d-134d2266b16e",
   "metadata": {
    "execution": {
     "iopub.execute_input": "2021-09-18T18:42:27.835276Z",
     "iopub.status.busy": "2021-09-18T18:42:27.835130Z",
     "iopub.status.idle": "2021-09-18T18:42:27.848748Z",
     "shell.execute_reply": "2021-09-18T18:42:27.848642Z",
     "shell.execute_reply.started": "2021-09-18T18:42:27.835215Z"
    },
    "tags": []
   },
   "outputs": [],
   "source": [
    "combined_df.head()"
   ]
  },
  {
   "cell_type": "markdown",
   "id": "cdf6948d-c4b0-46c0-84cf-b9f5f9019503",
   "metadata": {},
   "source": [
    "### Fetch generated ICU Ventilation Features for ICU Episode Slices active at a specific point-in-time"
   ]
  },
  {
   "cell_type": "code",
   "execution_count": null,
   "id": "24f11968-1cb3-4157-ad2c-f50a40823ec9",
   "metadata": {
    "execution": {
     "iopub.execute_input": "2021-09-18T18:42:28.568232Z",
     "iopub.status.busy": "2021-09-18T18:42:28.568072Z",
     "iopub.status.idle": "2021-09-18T18:42:28.579484Z",
     "shell.execute_reply": "2021-09-18T18:42:28.579375Z",
     "shell.execute_reply.started": "2021-09-18T18:42:28.568144Z"
    },
    "tags": []
   },
   "outputs": [],
   "source": [
    "ventilation_df = icu_features_from_hygear(\n",
    "    'ventilation',\n",
    "    ward,\n",
    "    horizon_dt,\n",
    "    list(episode_slices_df.episode_slice_id)\n",
    ")"
   ]
  },
  {
   "cell_type": "code",
   "execution_count": null,
   "id": "fedd42c8-7e27-4b24-a9cf-dc28f1cb9d14",
   "metadata": {
    "execution": {
     "iopub.execute_input": "2021-09-18T18:42:29.122252Z",
     "iopub.status.busy": "2021-09-18T18:42:29.122102Z",
     "iopub.status.idle": "2021-09-18T18:42:29.134546Z",
     "shell.execute_reply": "2021-09-18T18:42:29.134440Z",
     "shell.execute_reply.started": "2021-09-18T18:42:29.122170Z"
    },
    "tags": []
   },
   "outputs": [],
   "source": [
    "ventilation_df"
   ]
  },
  {
   "cell_type": "code",
   "execution_count": null,
   "id": "dddd2ecb-347a-4765-b62b-e4d42df84ae8",
   "metadata": {
    "execution": {
     "iopub.execute_input": "2021-09-18T18:42:29.321899Z",
     "iopub.status.busy": "2021-09-18T18:42:29.321769Z",
     "iopub.status.idle": "2021-09-18T18:42:29.326414Z",
     "shell.execute_reply": "2021-09-18T18:42:29.326301Z",
     "shell.execute_reply.started": "2021-09-18T18:42:29.321839Z"
    },
    "tags": []
   },
   "outputs": [],
   "source": [
    "# join with ventilation\n",
    "combined_df = combined_df.join(\n",
    "        ventilation_df.loc[:, ['episode_slice_id', 'had_trache_1_12h', 'vent_type_1_4h']].set_index('episode_slice_id'),\n",
    "        on='episode_slice_id'\n",
    "    )"
   ]
  },
  {
   "cell_type": "code",
   "execution_count": null,
   "id": "a38110cc-6597-44b5-af2e-eacab1b3909c",
   "metadata": {
    "execution": {
     "iopub.execute_input": "2021-09-18T18:42:29.761286Z",
     "iopub.status.busy": "2021-09-18T18:42:29.761122Z",
     "iopub.status.idle": "2021-09-18T18:42:29.777058Z",
     "shell.execute_reply": "2021-09-18T18:42:29.776932Z",
     "shell.execute_reply.started": "2021-09-18T18:42:29.761215Z"
    },
    "tags": []
   },
   "outputs": [],
   "source": [
    "combined_df.head()"
   ]
  },
  {
   "cell_type": "markdown",
   "id": "4b269195-bc01-46d5-9b08-d249ba317af5",
   "metadata": {},
   "source": [
    "### Fetch generated ICU Vitals Features for ICU Episode Slices active at a specific point-in-time"
   ]
  },
  {
   "cell_type": "code",
   "execution_count": null,
   "id": "7df6d624-3a36-40e3-bd1f-ef98374ceeeb",
   "metadata": {
    "execution": {
     "iopub.execute_input": "2021-09-18T18:42:30.622027Z",
     "iopub.status.busy": "2021-09-18T18:42:30.621898Z",
     "iopub.status.idle": "2021-09-18T18:42:30.632961Z",
     "shell.execute_reply": "2021-09-18T18:42:30.632848Z",
     "shell.execute_reply.started": "2021-09-18T18:42:30.621968Z"
    },
    "tags": []
   },
   "outputs": [],
   "source": [
    "vitals_df = icu_features_from_hygear(\n",
    "    'vitals',\n",
    "    ward,\n",
    "    horizon_dt,\n",
    "    list(episode_slices_df.episode_slice_id)\n",
    ")"
   ]
  },
  {
   "cell_type": "code",
   "execution_count": null,
   "id": "75ebf5a8-6065-4dee-a7ed-456005ae48b6",
   "metadata": {
    "execution": {
     "iopub.execute_input": "2021-09-18T18:42:31.308510Z",
     "iopub.status.busy": "2021-09-18T18:42:31.307210Z",
     "iopub.status.idle": "2021-09-18T18:42:31.432450Z",
     "shell.execute_reply": "2021-09-18T18:42:31.431340Z",
     "shell.execute_reply.started": "2021-09-18T18:42:31.30793Z"
    },
    "tags": []
   },
   "outputs": [],
   "source": [
    "vitals_df"
   ]
  },
  {
   "cell_type": "code",
   "execution_count": null,
   "id": "29d4720f-2d9a-484c-95b4-54ab2d8000d3",
   "metadata": {
    "execution": {
     "iopub.execute_input": "2021-09-18T18:42:31.437890Z",
     "iopub.status.busy": "2021-09-18T18:42:31.437761Z",
     "iopub.status.idle": "2021-09-18T18:42:31.441851Z",
     "shell.execute_reply": "2021-09-18T18:42:31.441734Z",
     "shell.execute_reply.started": "2021-09-18T18:42:31.437831Z"
    },
    "tags": []
   },
   "outputs": [],
   "source": [
    "# join with vitals\n",
    "combined_df = combined_df.join(\n",
    "        vitals_df.loc[:, ['episode_slice_id', 'avg_heart_rate_1_24h', 'max_temp_1_12h', 'avg_resp_rate_1_24h']].set_index('episode_slice_id'),\n",
    "        on='episode_slice_id'\n",
    "    )"
   ]
  },
  {
   "cell_type": "code",
   "execution_count": null,
   "id": "460fdbea-a8f7-4f67-98ea-556ebedab224",
   "metadata": {
    "execution": {
     "iopub.execute_input": "2021-09-18T18:42:31.999875Z",
     "iopub.status.busy": "2021-09-18T18:42:31.999745Z",
     "iopub.status.idle": "2021-09-18T18:42:32.184730Z",
     "shell.execute_reply": "2021-09-18T18:42:32.183670Z",
     "shell.execute_reply.started": "2021-09-18T18:42:31.999816Z"
    },
    "tags": []
   },
   "outputs": [],
   "source": [
    "combined_df.head()"
   ]
  },
  {
   "cell_type": "markdown",
   "id": "b266c6d5-340d-46e6-b61d-3470efc119cd",
   "metadata": {},
   "source": [
    "### Fetch generated ICU Work Intensity Metric Features for ICU Episode Slices active at a specific point-in-time"
   ]
  },
  {
   "cell_type": "code",
   "execution_count": null,
   "id": "102dcec3-fea3-4d12-a152-f0123a37e7d1",
   "metadata": {
    "execution": {
     "iopub.execute_input": "2021-09-18T18:42:32.895477Z",
     "iopub.status.busy": "2021-09-18T18:42:32.895349Z",
     "iopub.status.idle": "2021-09-18T18:42:32.906445Z",
     "shell.execute_reply": "2021-09-18T18:42:32.906328Z",
     "shell.execute_reply.started": "2021-09-18T18:42:32.895419Z"
    },
    "tags": []
   },
   "outputs": [],
   "source": [
    "wim_df = icu_features_from_hygear(\n",
    "    'work_intensity',\n",
    "    ward,\n",
    "    horizon_dt,\n",
    "    list(episode_slices_df.episode_slice_id)\n",
    ")"
   ]
  },
  {
   "cell_type": "code",
   "execution_count": null,
   "id": "5eccdde1-c5ed-43c9-b3bd-7e20a65253d9",
   "metadata": {
    "execution": {
     "iopub.execute_input": "2021-09-18T18:42:33.668284Z",
     "iopub.status.busy": "2021-09-18T18:42:33.668130Z",
     "iopub.status.idle": "2021-09-18T18:42:33.678113Z",
     "shell.execute_reply": "2021-09-18T18:42:33.677999Z",
     "shell.execute_reply.started": "2021-09-18T18:42:33.668222Z"
    },
    "tags": []
   },
   "outputs": [],
   "source": [
    "wim_df"
   ]
  },
  {
   "cell_type": "code",
   "execution_count": null,
   "id": "7bc8ce7e-0d6d-43da-9653-ff137ebae1b8",
   "metadata": {
    "execution": {
     "iopub.execute_input": "2021-09-18T18:42:34.120189Z",
     "iopub.status.busy": "2021-09-18T18:42:34.120054Z",
     "iopub.status.idle": "2021-09-18T18:42:34.124379Z",
     "shell.execute_reply": "2021-09-18T18:42:34.124259Z",
     "shell.execute_reply.started": "2021-09-18T18:42:34.120130Z"
    },
    "tags": []
   },
   "outputs": [],
   "source": [
    "# join with work intensity\n",
    "combined_df = combined_df.join(\n",
    "        wim_df.loc[:, ['episode_slice_id', 'wim_1']].set_index('episode_slice_id'),\n",
    "        on='episode_slice_id'\n",
    "    )"
   ]
  },
  {
   "cell_type": "code",
   "execution_count": null,
   "id": "ba6bcd45-4a0b-4060-ac04-e240e672f47d",
   "metadata": {
    "execution": {
     "iopub.execute_input": "2021-09-18T18:42:34.747758Z",
     "iopub.status.busy": "2021-09-18T18:42:34.747620Z",
     "iopub.status.idle": "2021-09-18T18:42:34.766027Z",
     "shell.execute_reply": "2021-09-18T18:42:34.765918Z",
     "shell.execute_reply.started": "2021-09-18T18:42:34.747700Z"
    },
    "tags": []
   },
   "outputs": [],
   "source": [
    "combined_df.head()"
   ]
  },
  {
   "cell_type": "markdown",
   "id": "2f3f3760-c685-4724-88c1-59259c942911",
   "metadata": {},
   "source": [
    "### Fetch generated ICU Temporal Features for ICU Episode Slices active at a specific point-in-time"
   ]
  },
  {
   "cell_type": "code",
   "execution_count": null,
   "id": "ab5a6bf5-3ad9-4f2c-b264-2c9a6b1a6a5d",
   "metadata": {
    "execution": {
     "iopub.execute_input": "2021-09-18T18:42:35.309117Z",
     "iopub.status.busy": "2021-09-18T18:42:35.308969Z",
     "iopub.status.idle": "2021-09-18T18:42:35.323310Z",
     "shell.execute_reply": "2021-09-18T18:42:35.323143Z",
     "shell.execute_reply.started": "2021-09-18T18:42:35.309049Z"
    },
    "tags": []
   },
   "outputs": [],
   "source": [
    "temporal_df = icu_features_from_hygear(\n",
    "    'temporal',\n",
    "    ward,\n",
    "    horizon_dt,\n",
    "    list(episode_slices_df.episode_slice_id)\n",
    ")"
   ]
  },
  {
   "cell_type": "code",
   "execution_count": null,
   "id": "b714eaa7-97eb-4e8c-9b90-38c3a6600380",
   "metadata": {
    "execution": {
     "iopub.execute_input": "2021-09-18T18:42:35.785481Z",
     "iopub.status.busy": "2021-09-18T18:42:35.785308Z",
     "iopub.status.idle": "2021-09-18T18:42:35.808555Z",
     "shell.execute_reply": "2021-09-18T18:42:35.808451Z",
     "shell.execute_reply.started": "2021-09-18T18:42:35.785398Z"
    },
    "tags": []
   },
   "outputs": [],
   "source": [
    "temporal_df"
   ]
  },
  {
   "cell_type": "code",
   "execution_count": null,
   "id": "dabbd706-499b-44d8-9058-2ae8985a9369",
   "metadata": {
    "execution": {
     "iopub.execute_input": "2021-09-18T18:42:36.133580Z",
     "iopub.status.busy": "2021-09-18T18:42:36.131630Z",
     "iopub.status.idle": "2021-09-18T18:42:36.197340Z",
     "shell.execute_reply": "2021-09-18T18:42:36.195690Z",
     "shell.execute_reply.started": "2021-09-18T18:42:36.13274Z"
    },
    "tags": []
   },
   "outputs": [],
   "source": [
    "# join with temporal\n",
    "combined_df = combined_df.join(\n",
    "        temporal_df.loc[:, ['episode_slice_id', 'elapsed_los_td', 'total_los_td', 'remaining_los_td',]].set_index('episode_slice_id'),\n",
    "        on='episode_slice_id'\n",
    "    )"
   ]
  },
  {
   "cell_type": "code",
   "execution_count": null,
   "id": "efa85a60-4378-4b1b-ab23-532bdaec4356",
   "metadata": {
    "execution": {
     "iopub.execute_input": "2021-09-18T18:42:36.616792Z",
     "iopub.status.busy": "2021-09-18T18:42:36.616659Z",
     "iopub.status.idle": "2021-09-18T18:42:36.638693Z",
     "shell.execute_reply": "2021-09-18T18:42:36.638593Z",
     "shell.execute_reply.started": "2021-09-18T18:42:36.616729Z"
    },
    "tags": []
   },
   "outputs": [],
   "source": [
    "combined_df.head()"
   ]
  },
  {
   "cell_type": "markdown",
   "id": "de655315-8245-4fac-897b-6736721fbb8f",
   "metadata": {},
   "source": [
    "### Combined"
   ]
  },
  {
   "cell_type": "code",
   "execution_count": null,
   "id": "a687d071-d5ca-4047-82d1-f176790d28ee",
   "metadata": {
    "execution": {
     "iopub.execute_input": "2021-09-18T18:42:37.620060Z",
     "iopub.status.busy": "2021-09-18T18:42:37.619916Z",
     "iopub.status.idle": "2021-09-18T18:42:37.621893Z",
     "shell.execute_reply": "2021-09-18T18:42:37.621774Z",
     "shell.execute_reply.started": "2021-09-18T18:42:37.619999Z"
    },
    "tags": []
   },
   "outputs": [],
   "source": [
    "combined_df.shape"
   ]
  },
  {
   "cell_type": "code",
   "execution_count": null,
   "id": "8ef840de-ce50-4f7c-a1a1-2cf5894edfe7",
   "metadata": {
    "execution": {
     "iopub.execute_input": "2021-09-18T18:42:38.233183Z",
     "iopub.status.busy": "2021-09-18T18:42:38.233047Z",
     "iopub.status.idle": "2021-09-18T18:42:38.253045Z",
     "shell.execute_reply": "2021-09-18T18:42:38.252933Z",
     "shell.execute_reply.started": "2021-09-18T18:42:38.233123Z"
    },
    "tags": []
   },
   "outputs": [],
   "source": [
    "combined_df.head()"
   ]
  },
  {
   "cell_type": "markdown",
   "id": "5e955aaf-0b11-44bf-bbc9-9b48cf57ba12",
   "metadata": {},
   "source": [
    "----"
   ]
  },
  {
   "cell_type": "code",
   "execution_count": null,
   "id": "db70e4d7-8602-43d9-a602-58417339fe8a",
   "metadata": {},
   "outputs": [],
   "source": []
  }
 ],
 "metadata": {
  "kernelspec": {
   "display_name": "Python 3 (ipykernel)",
   "language": "python",
   "name": "python3"
  },
  "language_info": {
   "codemirror_mode": {
    "name": "ipython",
    "version": 3
   },
   "file_extension": ".py",
   "mimetype": "text/x-python",
   "name": "python",
   "nbconvert_exporter": "python",
   "pygments_lexer": "ipython3",
   "version": "3.9.13"
  }
 },
 "nbformat": 4,
 "nbformat_minor": 5
}
