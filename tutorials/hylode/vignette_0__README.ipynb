{
 "cells": [
  {
   "cell_type": "markdown",
   "id": "16f46237",
   "metadata": {},
   "source": [
    "# Hi *(Hy?)* there... "
   ]
  },
  {
   "cell_type": "markdown",
   "id": "f5d64518",
   "metadata": {},
   "source": [
    "Welcome to the Hylode platform. Thank you for making it this far.\n",
    "\n",
    "Over the next four notebooks, we hope to bring you from zero to sixty on why we developed the platform and how to use it.\n",
    "\n",
    "The backdrop to this infastructural work is a world where translating published EHR-driven ML4H models into deployment is hard. Reseachers internationally lament this implementation gap[<sup>1</sup>](#fn1). Even at UCLH, flush with a new EHR and live data infrastructure in EMAP, the last mile in pushing a retrospective model requires a lot of one-off project-specific work.\n",
    "\n",
    "Intent on doing meaningful research and innovation in a safety critical environment - paving the way for live deployments - deployment needs to be taken more seriously. In particular, the deployment problems that the Hylode platform is looking to address include:\n",
    "\n",
    "- __Risk of train-deploy split__, where discrepency between training and deployment code lower performance\n",
    "- __Data drift and feature drift__, where underlying shifts in the dataset harm performance unnoticed\n",
    "- __Ad hoc ongoing model monitoring and evaluation__, where continuous model scrutiny relies on ad hoc batch evaluation\n",
    "    \n",
    "We address these problem by presenting a single framework that:\n",
    "    \n",
    "    a) brings together training and deployment in the same modelling workflow\n",
    "    b) integrates MLOps modules addressing data drift, model evaluation etc. alongside the main platform\n",
    "    \n",
    "Rather than ad hoc algorithm deployment, Hylode is a platform for training deployable EHR models."
   ]
  },
  {
   "cell_type": "markdown",
   "id": "01362336",
   "metadata": {},
   "source": [
    "# Case to the ML4H researcher..."
   ]
  },
  {
   "cell_type": "markdown",
   "id": "c013bc16",
   "metadata": {},
   "source": [
    "Does all this come at the expense of ease and speed for the ML researcher?\n",
    "\n",
    "We hope not. Engineered into Hylode are abstractions crafted to make the specific kind of modelling EHR ML practitioners do easier, faster and more joyful. \n",
    "\n",
    "In particular:\n",
    "\n",
    "- __Hylode provides a curated set of features__ easily interfacing w/ other UCLH data resources such as EMAP & Caboodle. Over time, we hope the store of pre-canned features will grow, cutting the time spent on wrangling, and freeing it up for more modelling work.\n",
    "- __Built for time-series EHR data__ Hylode automates many of the more fiddly elements of training a time-series ML4H model. It eases splitting patient records into temporal slices (the training instances needed to feed time-series EHR models).\n",
    "- __Ease of experimental logging & model development__ The Hylode system makes it easy to log results & create reproducible workflows. The same tooling then makes it straightforward to pass models over from ML teams to application developers, to then present the predictions in a clinically meaningful way.\n",
    "    \n",
    "We see these three strengths as coming together to make Hylode a central resource to develop deployable ML models at UCLH. The core driver here is that Hylode allows researchers to get their modelling done faster. \n",
    "\n",
    "From there, the deployment benefits of Hylode kick in. Starting from a single trained model, Hylode offers a seamless technical transition to running models in silent mode, and a clear path to application development and testing the real-time relevance of predictions in complex multi-disciplinary clinical settings."
   ]
  },
  {
   "cell_type": "markdown",
   "id": "b31422a8",
   "metadata": {},
   "source": [
    "# The notebooks..."
   ]
  },
  {
   "cell_type": "markdown",
   "id": "54fde489",
   "metadata": {},
   "source": [
    "Background over, we can now get started on the tutorial. The basic structure of these notebooks is as follows:\n",
    "\n",
    "- [Notebook 0](vignette_0_intro.ipynb) A compact __end-to-end modelling exemplar__ evidencing the claims above in c. 20 lines of code.\n",
    "    \n",
    "From there, we switch to a more measured pace. The aim is to give the reader enough grounding to start working with the different system components themselves:\n",
    "\n",
    "- [Notebook 1](vignette_1_training_set.ipynb) (__HyCastle__) More detail on feature access and preprocessing.\n",
    "- [Notebook 2](vignette_2_modelling.ipynb) (__HyMind__) A fuller end-to-end modelling platform exemplifying how we have been using the platform so far.\n",
    "- [Notebook 3](vignette_3_data_flow.ipynb) (Appendix - __HyFlow & HyGear__) For those interested, a delve under the hood. Here you can start triangulating yourself as to how the data is pulled from EMAP."
   ]
  },
  {
   "cell_type": "markdown",
   "id": "5206887d-8d70-470b-8ed8-ebf0b35697bc",
   "metadata": {
    "execution": {
     "iopub.execute_input": "2021-11-10T10:40:47.576240Z",
     "iopub.status.busy": "2021-11-10T10:40:47.576118Z",
     "iopub.status.idle": "2021-11-10T10:40:47.577442Z",
     "shell.execute_reply": "2021-11-10T10:40:47.577325Z",
     "shell.execute_reply.started": "2021-11-10T10:40:47.576183Z"
    }
   },
   "source": [
    "---"
   ]
  },
  {
   "cell_type": "markdown",
   "id": "ead101a6-1ab2-458d-be22-523a0611b491",
   "metadata": {
    "execution": {
     "iopub.execute_input": "2021-11-10T10:38:35.401701Z",
     "iopub.status.busy": "2021-11-10T10:38:35.401542Z",
     "iopub.status.idle": "2021-11-10T10:38:35.409260Z",
     "shell.execute_reply": "2021-11-10T10:38:35.409159Z",
     "shell.execute_reply.started": "2021-11-10T10:38:35.401633Z"
    }
   },
   "source": [
    "<span id=\"fn1\">1. Seneviratne, M. G., Shah, N. H. & Chu, L. Bridging the implementation gap of machine learning in healthcare. Bmj Innovations 6, 45 (2020).\n",
    "  </span>"
   ]
  }
 ],
 "metadata": {
  "kernelspec": {
   "display_name": "Python 3 (ipykernel)",
   "language": "python",
   "name": "python3"
  },
  "language_info": {
   "codemirror_mode": {
    "name": "ipython",
    "version": 3
   },
   "file_extension": ".py",
   "mimetype": "text/x-python",
   "name": "python",
   "nbconvert_exporter": "python",
   "pygments_lexer": "ipython3",
   "version": "3.9.13"
  },
  "toc": {
   "base_numbering": 1,
   "nav_menu": {},
   "number_sections": true,
   "sideBar": true,
   "skip_h1_title": false,
   "title_cell": "Table of Contents",
   "title_sidebar": "Contents",
   "toc_cell": false,
   "toc_position": {},
   "toc_section_display": true,
   "toc_window_display": false
  }
 },
 "nbformat": 4,
 "nbformat_minor": 5
}
