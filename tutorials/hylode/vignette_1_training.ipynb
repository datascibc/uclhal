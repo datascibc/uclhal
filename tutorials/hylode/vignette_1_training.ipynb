{
 "cells": [
  {
   "cell_type": "markdown",
   "id": "d60fc1c3-14d8-4346-8111-ab4d893688f4",
   "metadata": {
    "tags": []
   },
   "source": [
    "# Training data"
   ]
  },
  {
   "cell_type": "markdown",
   "id": "1d7c3e38-2981-4e66-9d7a-8c6758f4a292",
   "metadata": {
    "tags": []
   },
   "source": [
    "HyCastle, the lens and building a training set"
   ]
  },
  {
   "cell_type": "markdown",
   "id": "88f44f4f",
   "metadata": {},
   "source": [
    "In the previous notebook, we showed an end-to-end exemplar of the Hylode platform - but we skated top speed over some details worth spending more time on. \n",
    "\n",
    "Here we take a more measured pace and zoom in on HyCastle and the lens. Together these two abstractions make it easy to ask Hylode for a retrospective training set and then to pre-process that training set.\n",
    "\n",
    "Hylode does this in a way that allows the same underlying code to furnish the live data needed for deployable prediction."
   ]
  },
  {
   "cell_type": "markdown",
   "id": "1917884a",
   "metadata": {},
   "source": [
    "## HyCastle"
   ]
  },
  {
   "cell_type": "markdown",
   "id": "62ba8387",
   "metadata": {},
   "source": [
    "The HyCastle module is the main workhorse for pulling the complete available feature set out of `hylode_db` (Hylode's internal databases). Having defined our features in HyGear (covered in vignette 3), HyCastle can do two main things: \n",
    "\n",
    "    ~ it can pick out a training set comprising all the features for each hourly slice for each patient\n",
    "    ~ it can give us a live set of features for the patients currently on the ward\n",
    "    \n",
    "Let's try it out..."
   ]
  },
  {
   "cell_type": "code",
   "execution_count": null,
   "id": "9401a23e",
   "metadata": {
    "execution": {
     "iopub.execute_input": "2021-12-01T17:12:33.216835Z",
     "iopub.status.busy": "2021-12-01T17:12:33.216685Z",
     "iopub.status.idle": "2021-12-01T17:12:34.626530Z",
     "shell.execute_reply": "2021-12-01T17:12:34.624910Z",
     "shell.execute_reply.started": "2021-12-01T17:12:33.216758Z"
    },
    "tags": []
   },
   "outputs": [],
   "source": [
    "from hycastle.icu_store.retro import retro_dataset\n",
    "from hycastle.icu_store.live import live_dataset # <-- includes PII\n",
    "\n",
    "ward = 'T03'"
   ]
  },
  {
   "cell_type": "code",
   "execution_count": null,
   "id": "e2a1110b",
   "metadata": {
    "execution": {
     "iopub.execute_input": "2021-12-01T17:12:34.629450Z",
     "iopub.status.busy": "2021-12-01T17:12:34.628430Z",
     "iopub.status.idle": "2021-12-01T17:13:21.171643Z",
     "shell.execute_reply": "2021-12-01T17:13:21.171500Z",
     "shell.execute_reply.started": "2021-12-01T17:12:34.62889Z"
    },
    "tags": []
   },
   "outputs": [],
   "source": [
    "# the retro_dataset function gives us all the historical episode slices to build up our training set\n",
    "train_df = retro_dataset(ward)\n",
    "train_df.shape"
   ]
  },
  {
   "cell_type": "code",
   "execution_count": null,
   "id": "f77fe906",
   "metadata": {
    "execution": {
     "iopub.execute_input": "2021-12-01T17:13:21.172189Z",
     "iopub.status.busy": "2021-12-01T17:13:21.172057Z",
     "iopub.status.idle": "2021-12-01T17:13:21.247113Z",
     "shell.execute_reply": "2021-12-01T17:13:21.246989Z",
     "shell.execute_reply.started": "2021-12-01T17:13:21.172118Z"
    },
    "tags": []
   },
   "outputs": [],
   "source": [
    "# and we can see the various feature columns we have generated\n",
    "train_df.head()"
   ]
  },
  {
   "cell_type": "markdown",
   "id": "22746632",
   "metadata": {},
   "source": [
    "Then using the same machinery, we can get the corresponding features for the patients currently on the ward. \n",
    "\n",
    "Why this is important is that the same code is generating our training features and the features we will use to deploy the model (- ruling out unwanted surprises from divergence between the two!)"
   ]
  },
  {
   "cell_type": "code",
   "execution_count": null,
   "id": "bf54d399",
   "metadata": {
    "execution": {
     "iopub.execute_input": "2021-12-01T17:13:21.247384Z",
     "iopub.status.busy": "2021-12-01T17:13:21.247282Z",
     "iopub.status.idle": "2021-12-01T17:13:21.282150Z",
     "shell.execute_reply": "2021-12-01T17:13:21.282017Z",
     "shell.execute_reply.started": "2021-12-01T17:13:21.247327Z"
    },
    "tags": []
   },
   "outputs": [],
   "source": [
    "predict_df = live_dataset(ward)\n",
    "predict_df.shape"
   ]
  },
  {
   "cell_type": "code",
   "execution_count": null,
   "id": "126ac227-8d43-433b-9524-12ec76219e50",
   "metadata": {
    "execution": {
     "iopub.execute_input": "2021-12-01T17:14:49.246946Z",
     "iopub.status.busy": "2021-12-01T17:14:49.246737Z",
     "iopub.status.idle": "2021-12-01T17:14:49.250466Z",
     "shell.execute_reply": "2021-12-01T17:14:49.250355Z",
     "shell.execute_reply.started": "2021-12-01T17:14:49.246857Z"
    },
    "tags": []
   },
   "outputs": [],
   "source": [
    "predict_df['horizon_dt'].head()"
   ]
  },
  {
   "cell_type": "markdown",
   "id": "7e087ff6",
   "metadata": {},
   "source": [
    "## The lens"
   ]
  },
  {
   "cell_type": "markdown",
   "id": "6d4c293f",
   "metadata": {},
   "source": [
    "In the code above, we saw that HyCastle is very nifty in delivering us all the features we have pre-defined in `hylode_db`. But the question naturally arises, what if we want to use a subset of those features? Or to pre-process them in a specific way?\n",
    "\n",
    "Will this not require custom code - exposing us to the same risk of code divergence between training and deployment?\n",
    "\n",
    "Our answer to this is the `lens`. It is an abstraction that provides a more robust (transferrable) way to subset and pre-process the features coming out of HyCastle. Let's have a look at a very simple example."
   ]
  },
  {
   "cell_type": "code",
   "execution_count": null,
   "id": "4556e528",
   "metadata": {
    "execution": {
     "iopub.execute_input": "2021-12-01T17:14:53.986731Z",
     "iopub.status.busy": "2021-12-01T17:14:53.986581Z",
     "iopub.status.idle": "2021-12-01T17:14:54.527288Z",
     "shell.execute_reply": "2021-12-01T17:14:54.527124Z",
     "shell.execute_reply.started": "2021-12-01T17:14:53.986665Z"
    },
    "tags": []
   },
   "outputs": [],
   "source": [
    "from hycastle.lens.base import BaseLens\n",
    "from typing import List\n",
    "from sklearn.compose import ColumnTransformer\n",
    "from hycastle.lens.transformers import DateTimeExploder"
   ]
  },
  {
   "cell_type": "code",
   "execution_count": null,
   "id": "8dbe7850",
   "metadata": {
    "execution": {
     "iopub.execute_input": "2021-12-01T17:14:54.527602Z",
     "iopub.status.busy": "2021-12-01T17:14:54.527473Z",
     "iopub.status.idle": "2021-12-01T17:14:54.530870Z",
     "shell.execute_reply": "2021-12-01T17:14:54.530731Z",
     "shell.execute_reply.started": "2021-12-01T17:14:54.527534Z"
    },
    "tags": []
   },
   "outputs": [],
   "source": [
    "class SimpleLens(BaseLens):\n",
    "    numeric_output = True\n",
    "    index_col = \"episode_slice_id\"\n",
    "\n",
    "    @property\n",
    "    def input_cols(self) -> List[str]:\n",
    "        return [\n",
    "            \"episode_slice_id\",\n",
    "            \"admission_dt\",\n",
    "        ]\n",
    "\n",
    "    def specify(self) -> ColumnTransformer:\n",
    "        return ColumnTransformer(\n",
    "            [\n",
    "                (\n",
    "                    \"select\",\n",
    "                    \"passthrough\",\n",
    "                    [\n",
    "                        \"episode_slice_id\"\n",
    "                    ],\n",
    "                ),\n",
    "                (\n",
    "                    \"admission_dt_exp\",\n",
    "                    DateTimeExploder(),\n",
    "                    [\"admission_dt\"],\n",
    "                ),\n",
    "            ]\n",
    "        )"
   ]
  },
  {
   "cell_type": "markdown",
   "id": "53c0abd2",
   "metadata": {},
   "source": [
    "Notice that what we really have here is a list of 3-tuples to initialise the ColumnTransformer (which is a standard SKLearn class). For instance, the triple:\n",
    "```\n",
    "                (\n",
    "                    \"admission_dt_exp\",\n",
    "                    DateTimeExploder(),\n",
    "                    [\"admission_dt\"],\n",
    "                )\n",
    "```"
   ]
  },
  {
   "cell_type": "markdown",
   "id": "cf9e369e",
   "metadata": {},
   "source": [
    "Let's see what happens when we put this lens to work on the output from HyCastle"
   ]
  },
  {
   "cell_type": "code",
   "execution_count": null,
   "id": "0ef5a932",
   "metadata": {
    "execution": {
     "iopub.execute_input": "2021-12-01T17:14:56.956505Z",
     "iopub.status.busy": "2021-12-01T17:14:56.956365Z",
     "iopub.status.idle": "2021-12-01T17:14:57.300246Z",
     "shell.execute_reply": "2021-12-01T17:14:57.300108Z",
     "shell.execute_reply.started": "2021-12-01T17:14:56.956436Z"
    },
    "tags": []
   },
   "outputs": [],
   "source": [
    "lens = SimpleLens()\n",
    "\n",
    "X = lens.fit_transform(train_df)\n",
    "X.head()"
   ]
  },
  {
   "cell_type": "markdown",
   "id": "d0773b68",
   "metadata": {},
   "source": [
    "...basically we seem to have the `episode_slice_id` for every slice, and then a bunch of features about the `admission_dt`. In our original HyCastle dataset, we notice that `admission_dt` is a series of datetimes: "
   ]
  },
  {
   "cell_type": "code",
   "execution_count": null,
   "id": "93f095ab",
   "metadata": {
    "execution": {
     "iopub.execute_input": "2021-12-01T17:14:58.643311Z",
     "iopub.status.busy": "2021-12-01T17:14:58.643185Z",
     "iopub.status.idle": "2021-12-01T17:14:58.648997Z",
     "shell.execute_reply": "2021-12-01T17:14:58.648658Z",
     "shell.execute_reply.started": "2021-12-01T17:14:58.643253Z"
    },
    "tags": []
   },
   "outputs": [],
   "source": [
    "train_df['admission_dt'].head()"
   ]
  },
  {
   "cell_type": "markdown",
   "id": "285b6d2c",
   "metadata": {},
   "source": [
    "...but after we have transformed the retro dataframe, we have these additional admission features. This is thanks to the triple quoted above and the `DateTimeExploder()`. Let's have a look to see what that code looks like..."
   ]
  },
  {
   "cell_type": "code",
   "execution_count": null,
   "id": "202d7bdc",
   "metadata": {
    "execution": {
     "iopub.execute_input": "2021-12-01T17:14:59.873844Z",
     "iopub.status.busy": "2021-12-01T17:14:59.873702Z",
     "iopub.status.idle": "2021-12-01T17:14:59.934510Z",
     "shell.execute_reply": "2021-12-01T17:14:59.934096Z",
     "shell.execute_reply.started": "2021-12-01T17:14:59.873783Z"
    },
    "tags": []
   },
   "outputs": [],
   "source": [
    "??DateTimeExploder"
   ]
  },
  {
   "cell_type": "code",
   "execution_count": null,
   "id": "dac4e7d5",
   "metadata": {
    "execution": {
     "iopub.execute_input": "2021-12-01T17:15:00.381581Z",
     "iopub.status.busy": "2021-12-01T17:15:00.381445Z",
     "iopub.status.idle": "2021-12-01T17:15:00.394857Z",
     "shell.execute_reply": "2021-12-01T17:15:00.394527Z",
     "shell.execute_reply.started": "2021-12-01T17:15:00.381520Z"
    },
    "tags": []
   },
   "outputs": [],
   "source": [
    "??DateTimeExploder.transform"
   ]
  },
  {
   "cell_type": "markdown",
   "id": "7b2d4fc3",
   "metadata": {},
   "source": [
    "In short, what we are doing in defining a `lens` is defining a set of input columns from HyCastle that we want to work with, and then a sequence of column transformations (as a `ColumnTransformer` object) that we use to specifically define our pre-processing pathway.\n",
    "\n",
    "This lens can then be used consistently between model training and deployment."
   ]
  },
  {
   "cell_type": "markdown",
   "id": "d4f91064",
   "metadata": {},
   "source": [
    "## Appendix 1: A more complete example"
   ]
  },
  {
   "cell_type": "markdown",
   "id": "738cc933-af8b-4064-8ff2-6b96084a8230",
   "metadata": {},
   "source": [
    "Here's a fuller and more complete example of a `lens` (along the lines of what we will use in the next vignette). \n",
    "\n",
    "It might be worthwhile using the ?? shortcut to get a sense of the different transformations being applied."
   ]
  },
  {
   "cell_type": "code",
   "execution_count": null,
   "id": "9776fcdd",
   "metadata": {
    "execution": {
     "iopub.execute_input": "2021-11-21T18:11:41.714929Z",
     "iopub.status.busy": "2021-11-21T18:11:41.714762Z",
     "iopub.status.idle": "2021-11-21T18:11:41.716199Z",
     "shell.execute_reply": "2021-11-21T18:11:41.716087Z",
     "shell.execute_reply.started": "2021-11-21T18:11:41.714867Z"
    }
   },
   "outputs": [],
   "source": [
    "from sklearn.preprocessing import (\n",
    "    FunctionTransformer,\n",
    "    OneHotEncoder,\n",
    "    OrdinalEncoder,\n",
    "    StandardScaler,\n",
    ")\n",
    "from sklearn.impute import MissingIndicator, SimpleImputer\n",
    "from hycastle.lens.transformers import timedelta_as_hours"
   ]
  },
  {
   "cell_type": "code",
   "execution_count": null,
   "id": "16359044",
   "metadata": {
    "execution": {
     "iopub.execute_input": "2021-11-21T18:11:54.814196Z",
     "iopub.status.busy": "2021-11-21T18:11:54.814054Z",
     "iopub.status.idle": "2021-11-21T18:11:54.817199Z",
     "shell.execute_reply": "2021-11-21T18:11:54.817077Z",
     "shell.execute_reply.started": "2021-11-21T18:11:54.814124Z"
    }
   },
   "outputs": [],
   "source": [
    "class DemoLens(BaseLens):\n",
    "    numeric_output = True\n",
    "    index_col = \"episode_slice_id\"\n",
    "\n",
    "    @property\n",
    "    def input_cols(self) -> List[str]:\n",
    "        return [\n",
    "            \"episode_slice_id\",\n",
    "            \"admission_age_years\",\n",
    "            \"avg_heart_rate_1_24h\",\n",
    "            \"max_temp_1_12h\",\n",
    "            \"avg_resp_rate_1_24h\",\n",
    "            \"elapsed_los_td\",\n",
    "            \"admission_dt\",\n",
    "            \"horizon_dt\",\n",
    "            \"n_inotropes_1_4h\",\n",
    "            \"wim_1\",\n",
    "            \"bay_type\",\n",
    "            \"sex\",\n",
    "            \"vent_type_1_4h\",\n",
    "        ]\n",
    "\n",
    "    def specify(self) -> ColumnTransformer:\n",
    "        return ColumnTransformer(\n",
    "            [\n",
    "                (\n",
    "                    \"select\",\n",
    "                    \"passthrough\",\n",
    "                    [\n",
    "                        \"episode_slice_id\",\n",
    "                        \"admission_age_years\",\n",
    "                        \"n_inotropes_1_4h\",\n",
    "                        \"wim_1\",\n",
    "                    ],\n",
    "                ),\n",
    "                (\"bay_type_enc\", OneHotEncoder(), [\"bay_type\"]),\n",
    "                (\n",
    "                    \"sex_enc\",\n",
    "                    OrdinalEncoder(\n",
    "                        handle_unknown=\"use_encoded_value\", unknown_value=-1\n",
    "                    ),\n",
    "                    [\"sex\"],\n",
    "                ),\n",
    "                (\n",
    "                    \"admission_dt_exp\",\n",
    "                    DateTimeExploder(),\n",
    "                    [\"admission_dt\", \"horizon_dt\"],\n",
    "                ),\n",
    "                (\n",
    "                    \"vent_type_1_4h_enc\",\n",
    "                    OrdinalEncoder(\n",
    "                        handle_unknown=\"use_encoded_value\", unknown_value=-1\n",
    "                    ),\n",
    "                    [\"vent_type_1_4h\"],\n",
    "                ),\n",
    "                (\n",
    "                    \"vitals_impute\",\n",
    "                    SimpleImputer(strategy=\"mean\", add_indicator=False),\n",
    "                    [\n",
    "                        \"avg_heart_rate_1_24h\",\n",
    "                        \"max_temp_1_12h\",\n",
    "                        \"avg_resp_rate_1_24h\",\n",
    "                    ],\n",
    "                ),\n",
    "                (\n",
    "                    \"elapsed_los_td_hrs\",\n",
    "                    FunctionTransformer(timedelta_as_hours),\n",
    "                    [\"elapsed_los_td\"],\n",
    "                ),\n",
    "            ]\n",
    "        )"
   ]
  },
  {
   "cell_type": "code",
   "execution_count": null,
   "id": "aa9092a7",
   "metadata": {
    "execution": {
     "iopub.execute_input": "2021-11-21T18:11:55.679476Z",
     "iopub.status.busy": "2021-11-21T18:11:55.679333Z",
     "iopub.status.idle": "2021-11-21T18:11:55.815523Z",
     "shell.execute_reply": "2021-11-21T18:11:55.815407Z",
     "shell.execute_reply.started": "2021-11-21T18:11:55.679415Z"
    }
   },
   "outputs": [],
   "source": [
    "lens = DemoLens()\n",
    "\n",
    "X = lens.fit_transform(train_df)\n",
    "X.head()"
   ]
  },
  {
   "cell_type": "code",
   "execution_count": null,
   "id": "0ea660e6-9b5b-4ab2-8da6-6c7293fbea68",
   "metadata": {
    "execution": {
     "iopub.execute_input": "2021-11-21T18:12:10.324277Z",
     "iopub.status.busy": "2021-11-21T18:12:10.324123Z",
     "iopub.status.idle": "2021-11-21T18:12:10.327494Z",
     "shell.execute_reply": "2021-11-21T18:12:10.327389Z",
     "shell.execute_reply.started": "2021-11-21T18:12:10.324209Z"
    },
    "tags": []
   },
   "outputs": [],
   "source": [
    "X.dtypes"
   ]
  },
  {
   "cell_type": "code",
   "execution_count": null,
   "id": "2c280cb9-fcc3-47fd-9f02-cbde3a800f73",
   "metadata": {},
   "outputs": [],
   "source": []
  }
 ],
 "metadata": {
  "kernelspec": {
   "display_name": "Python 3.9 (XPython)",
   "language": "python",
   "name": "xpython"
  },
  "language_info": {
   "file_extension": ".py",
   "mimetype": "text/x-python",
   "name": "python",
   "version": "3.9.13"
  },
  "toc": {
   "base_numbering": 1,
   "nav_menu": {},
   "number_sections": true,
   "sideBar": true,
   "skip_h1_title": false,
   "title_cell": "Table of Contents",
   "title_sidebar": "Contents",
   "toc_cell": false,
   "toc_position": {},
   "toc_section_display": true,
   "toc_window_display": true
  }
 },
 "nbformat": 4,
 "nbformat_minor": 5
}
