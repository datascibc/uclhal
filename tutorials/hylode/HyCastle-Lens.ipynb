{
 "cells": [
  {
   "cell_type": "markdown",
   "id": "9fbc6dfe-6acd-4f01-a3cc-93e8987bec68",
   "metadata": {},
   "source": [
    "# HyCastle Lens Example"
   ]
  },
  {
   "cell_type": "markdown",
   "id": "015ac2b4-e477-4db0-bec5-2c13a1112791",
   "metadata": {},
   "source": [
    "<img src=\"https://upload.wikimedia.org/wikipedia/commons/1/17/Warning.svg\" width=\"20\"/> ***Please make a copy of this notebook and do not edit in place***"
   ]
  },
  {
   "cell_type": "markdown",
   "id": "2d13fd6e-648f-4130-8fe0-6888e0b00f22",
   "metadata": {},
   "source": [
    "See the [system diagram](https://github.com/HYLODE/HyLevel/blob/main/system-design/HYLODE.png?raw=True) for an overview of the HYLODE system components referenced in this notebook.  \n",
    "(_You will need to be signed into GitHub to view_)"
   ]
  },
  {
   "cell_type": "markdown",
   "id": "9d9a8264-b988-4c89-ad10-98d9e22e3e70",
   "metadata": {},
   "source": [
    "### Some imports"
   ]
  },
  {
   "cell_type": "code",
   "execution_count": null,
   "id": "dbbaf5b4-aed2-47f5-b79d-368172a4af55",
   "metadata": {
    "execution": {
     "iopub.execute_input": "2021-09-18T18:42:49.313800Z",
     "iopub.status.busy": "2021-09-18T18:42:49.299000Z",
     "iopub.status.idle": "2021-09-18T18:42:50.336088Z",
     "shell.execute_reply": "2021-09-18T18:42:50.335939Z",
     "shell.execute_reply.started": "2021-09-18T18:42:49.3064Z"
    },
    "tags": []
   },
   "outputs": [],
   "source": [
    "from datetime import datetime, timedelta\n",
    "import os\n",
    "from pathlib import Path\n",
    "from pprint import pprint\n",
    "import urllib\n",
    "\n",
    "import arrow\n",
    "import matplotlib.pyplot as plt\n",
    "import numpy as np\n",
    "import pandas as pd\n",
    "from sqlalchemy import create_engine\n",
    "\n",
    "from hylib.dt import LONDON_TZ, convert_dt_columns_to_london_tz\n",
    "from hycastle.lens.icu import ICUSitRepUiLens, ICUSitRepLoSLens"
   ]
  },
  {
   "cell_type": "markdown",
   "id": "5f97010e-1c94-4150-9523-27cf5d3f1a87",
   "metadata": {
    "tags": []
   },
   "source": [
    "### Constants"
   ]
  },
  {
   "cell_type": "code",
   "execution_count": null,
   "id": "9fde6849-a5e2-4778-8018-002241ef8b41",
   "metadata": {
    "execution": {
     "iopub.execute_input": "2021-09-18T18:42:51.414685Z",
     "iopub.status.busy": "2021-09-18T18:42:51.414545Z",
     "iopub.status.idle": "2021-09-18T18:42:51.415887Z",
     "shell.execute_reply": "2021-09-18T18:42:51.415770Z",
     "shell.execute_reply.started": "2021-09-18T18:42:51.414623Z"
    },
    "tags": []
   },
   "outputs": [],
   "source": [
    "ward = 'T03'"
   ]
  },
  {
   "cell_type": "markdown",
   "id": "89c3d29c-89c1-486a-99c3-8a29f5f1251f",
   "metadata": {},
   "source": [
    "----"
   ]
  },
  {
   "cell_type": "markdown",
   "id": "9af5cead-dca2-4824-9abb-8e445bc0f80d",
   "metadata": {},
   "source": [
    "## Setup EMAP DB"
   ]
  },
  {
   "cell_type": "markdown",
   "id": "053be68d-d492-415a-be5c-c3d7498e2cf8",
   "metadata": {},
   "source": [
    "Access to EMAP is required for HyCastle to function properly.  "
   ]
  },
  {
   "cell_type": "markdown",
   "id": "edc02df0-27bd-4bf7-a5b9-de92b79ca898",
   "metadata": {},
   "source": [
    "### EMAP credentials"
   ]
  },
  {
   "cell_type": "markdown",
   "id": "3510a4a1-ad33-413d-8153-e040d9a6f19a",
   "metadata": {},
   "source": [
    "EMAP credentials are allocated per user and not stored in the environment variables.\n",
    "You do not want your credentials to leak into the source repository.\n",
    "\n",
    "One way of safeguarding is to create a file called `secret` at the top level of the **HyMind** repository (next to this notebook).   \n",
    "Do this here in Jupyter and not a local copy of the repo.  \n",
    "\n",
    "The first line should be your UDS **username** and the second line should be your UDS **password**.\n",
    "\n",
    "`secret` has been added to `.gitignore` and will be excluded from the repository."
   ]
  },
  {
   "cell_type": "markdown",
   "id": "30afb8e4-743b-4ce3-9a0c-85dc5f86b8a8",
   "metadata": {},
   "source": [
    "Read your username & password into the environment:"
   ]
  },
  {
   "cell_type": "code",
   "execution_count": null,
   "id": "9ab4b4a5-b026-4f31-a04b-4f30fb7e2341",
   "metadata": {
    "execution": {
     "iopub.execute_input": "2021-09-18T18:42:53.629287Z",
     "iopub.status.busy": "2021-09-18T18:42:53.629138Z",
     "iopub.status.idle": "2021-09-18T18:42:53.631173Z",
     "shell.execute_reply": "2021-09-18T18:42:53.631055Z",
     "shell.execute_reply.started": "2021-09-18T18:42:53.629224Z"
    },
    "tags": []
   },
   "outputs": [],
   "source": [
    "os.environ['EMAP_DB_USER'], os.environ['EMAP_DB_PASSWORD'] = Path('secret').read_text().strip().split('\\n')"
   ]
  },
  {
   "cell_type": "markdown",
   "id": "2a6c1803-d225-43a2-ae48-eac6861dff4c",
   "metadata": {},
   "source": [
    "-----"
   ]
  },
  {
   "cell_type": "markdown",
   "id": "b62146a1-74b3-4c13-a826-d4104a021d00",
   "metadata": {},
   "source": [
    "# HyCastle"
   ]
  },
  {
   "cell_type": "markdown",
   "id": "be77f87e-455f-49a7-a52b-fcbdc86b9f7d",
   "metadata": {},
   "source": [
    "*The HyCastle component is responsible for serving features for both training and prediction.*\n",
    "\n",
    "HyCastle provides a high level interface to getting clean, transformed features & labels from the pipeline."
   ]
  },
  {
   "cell_type": "code",
   "execution_count": null,
   "id": "04893a24-fb18-4d3e-86a6-42b637b59759",
   "metadata": {
    "execution": {
     "iopub.execute_input": "2021-09-18T18:42:55.345084Z",
     "iopub.status.busy": "2021-09-18T18:42:55.344954Z",
     "iopub.status.idle": "2021-09-18T18:42:55.643524Z",
     "shell.execute_reply": "2021-09-18T18:42:55.643411Z",
     "shell.execute_reply.started": "2021-09-18T18:42:55.345025Z"
    },
    "tags": []
   },
   "outputs": [],
   "source": [
    "from hycastle.icu_store.retro import retro_dataset\n",
    "from hycastle.icu_store.live import live_dataset # <-- includes PII"
   ]
  },
  {
   "cell_type": "markdown",
   "id": "35eb01be-2a16-4515-913c-a44305214952",
   "metadata": {},
   "source": [
    "## Retrospective Training Data"
   ]
  },
  {
   "cell_type": "code",
   "execution_count": null,
   "id": "c34b72ba-f93e-452d-bc2a-6ca2499f644f",
   "metadata": {
    "execution": {
     "iopub.execute_input": "2021-09-18T18:42:56.851783Z",
     "iopub.status.busy": "2021-09-18T18:42:56.851656Z",
     "iopub.status.idle": "2021-09-18T18:42:56.938494Z",
     "shell.execute_reply": "2021-09-18T18:42:56.938309Z",
     "shell.execute_reply.started": "2021-09-18T18:42:56.851725Z"
    },
    "tags": []
   },
   "outputs": [],
   "source": [
    "train_df = retro_dataset(ward)"
   ]
  },
  {
   "cell_type": "code",
   "execution_count": null,
   "id": "6d8e01df-423d-43ac-b7cc-6aa67efa5602",
   "metadata": {
    "execution": {
     "iopub.execute_input": "2021-09-11T09:17:42.534160Z",
     "iopub.status.busy": "2021-09-11T09:17:42.532940Z",
     "iopub.status.idle": "2021-09-11T09:17:42.602770Z",
     "shell.execute_reply": "2021-09-11T09:17:42.601580Z",
     "shell.execute_reply.started": "2021-09-11T09:17:42.53359Z"
    },
    "tags": []
   },
   "outputs": [],
   "source": [
    "train_df.shape"
   ]
  },
  {
   "cell_type": "code",
   "execution_count": null,
   "id": "5592d087-ff76-4c9d-a97a-4ee60438aab1",
   "metadata": {
    "execution": {
     "iopub.execute_input": "2021-09-11T09:17:42.520591Z",
     "iopub.status.busy": "2021-09-11T09:17:42.520463Z",
     "iopub.status.idle": "2021-09-11T09:17:42.545158Z",
     "shell.execute_reply": "2021-09-11T09:17:42.545057Z",
     "shell.execute_reply.started": "2021-09-11T09:17:42.520533Z"
    },
    "tags": []
   },
   "outputs": [],
   "source": [
    "train_df.head()"
   ]
  },
  {
   "cell_type": "markdown",
   "id": "e0855b46-3fed-4f65-8119-76979835aeca",
   "metadata": {},
   "source": [
    "## Live Data for Prediction"
   ]
  },
  {
   "cell_type": "code",
   "execution_count": null,
   "id": "b97e8ab5-3ff5-4580-bdb6-5e9c3011ad36",
   "metadata": {
    "execution": {
     "iopub.execute_input": "2021-09-11T09:17:43.560338Z",
     "iopub.status.busy": "2021-09-11T09:17:43.560176Z",
     "iopub.status.idle": "2021-09-11T09:17:43.669380Z",
     "shell.execute_reply": "2021-09-11T09:17:43.669234Z",
     "shell.execute_reply.started": "2021-09-11T09:17:43.560273Z"
    },
    "tags": []
   },
   "outputs": [],
   "source": [
    "predict_df = live_dataset(ward)"
   ]
  },
  {
   "cell_type": "code",
   "execution_count": null,
   "id": "45732201-e6c1-4966-aa7f-55cdb2993f39",
   "metadata": {
    "execution": {
     "iopub.execute_input": "2021-09-11T09:17:43.997338Z",
     "iopub.status.busy": "2021-09-11T09:17:43.997210Z",
     "iopub.status.idle": "2021-09-11T09:17:43.999090Z",
     "shell.execute_reply": "2021-09-11T09:17:43.998979Z",
     "shell.execute_reply.started": "2021-09-11T09:17:43.997278Z"
    },
    "tags": []
   },
   "outputs": [],
   "source": [
    "predict_df.shape"
   ]
  },
  {
   "cell_type": "code",
   "execution_count": null,
   "id": "532a11e5-513c-4474-9f1b-447ec1e6d2a8",
   "metadata": {
    "execution": {
     "iopub.execute_input": "2021-09-11T09:17:44.398929Z",
     "iopub.status.busy": "2021-09-11T09:17:44.398751Z",
     "iopub.status.idle": "2021-09-11T09:17:44.429630Z",
     "shell.execute_reply": "2021-09-11T09:17:44.429483Z",
     "shell.execute_reply.started": "2021-09-11T09:17:44.398849Z"
    },
    "tags": []
   },
   "outputs": [],
   "source": [
    "predict_df.head()"
   ]
  },
  {
   "cell_type": "markdown",
   "id": "5e955aaf-0b11-44bf-bbc9-9b48cf57ba12",
   "metadata": {},
   "source": [
    "----"
   ]
  },
  {
   "cell_type": "markdown",
   "id": "4a0e08dd-2d02-4cb1-be0c-484a7553ab19",
   "metadata": {
    "execution": {
     "iopub.execute_input": "2021-09-08T09:00:06.386013Z",
     "iopub.status.busy": "2021-09-08T09:00:06.385854Z",
     "iopub.status.idle": "2021-09-08T09:00:06.387057Z",
     "shell.execute_reply": "2021-09-08T09:00:06.386924Z",
     "shell.execute_reply.started": "2021-09-08T09:00:06.385943Z"
    }
   },
   "source": [
    "# Lens\n",
    "\n",
    "A Lens represents a subset of features from a pipeline as well as the pre-processing steps needed for each feature."
   ]
  },
  {
   "cell_type": "markdown",
   "id": "e218d3d7-bda3-42df-9e44-9bcb7e6ed515",
   "metadata": {},
   "source": [
    "## Example LoS Model Lens"
   ]
  },
  {
   "cell_type": "code",
   "execution_count": null,
   "id": "bc880278-90d6-491b-8aea-ba6260406c79",
   "metadata": {
    "execution": {
     "iopub.execute_input": "2021-09-18T18:43:10.331663Z",
     "iopub.status.busy": "2021-09-18T18:43:10.331526Z",
     "iopub.status.idle": "2021-09-18T18:43:10.332800Z",
     "shell.execute_reply": "2021-09-18T18:43:10.332674Z",
     "shell.execute_reply.started": "2021-09-18T18:43:10.331600Z"
    },
    "tags": []
   },
   "outputs": [],
   "source": [
    "lens = ICUSitRepLoSLens()"
   ]
  },
  {
   "cell_type": "markdown",
   "id": "0a21c561-5dc3-48ce-b050-679d7ceae115",
   "metadata": {},
   "source": [
    "#### Fit on Training Data\n",
    "Focus the Lens on the training dataset"
   ]
  },
  {
   "cell_type": "code",
   "execution_count": null,
   "id": "a59df64a-8c65-4554-94ed-74fa59c25ee7",
   "metadata": {
    "execution": {
     "iopub.execute_input": "2021-09-11T09:17:47.585562Z",
     "iopub.status.busy": "2021-09-11T09:17:47.585385Z",
     "iopub.status.idle": "2021-09-11T09:17:48.175190Z",
     "shell.execute_reply": "2021-09-11T09:17:48.173780Z",
     "shell.execute_reply.started": "2021-09-11T09:17:47.585479Z"
    },
    "tags": []
   },
   "outputs": [],
   "source": [
    "processed_train_df = lens.fit_transform(train_df)"
   ]
  },
  {
   "cell_type": "code",
   "execution_count": null,
   "id": "880006bf-b9f6-45d8-a83e-acf9ff98e448",
   "metadata": {
    "execution": {
     "iopub.execute_input": "2021-09-11T09:17:48.607688Z",
     "iopub.status.busy": "2021-09-11T09:17:48.607547Z",
     "iopub.status.idle": "2021-09-11T09:17:48.609464Z",
     "shell.execute_reply": "2021-09-11T09:17:48.609357Z",
     "shell.execute_reply.started": "2021-09-11T09:17:48.607629Z"
    },
    "tags": []
   },
   "outputs": [],
   "source": [
    "processed_train_df.shape"
   ]
  },
  {
   "cell_type": "code",
   "execution_count": null,
   "id": "6b0de707-1b5a-44e7-b593-62edeae7bfe9",
   "metadata": {
    "execution": {
     "iopub.execute_input": "2021-09-11T09:17:49.493800Z",
     "iopub.status.busy": "2021-09-11T09:17:49.492590Z",
     "iopub.status.idle": "2021-09-11T09:17:49.710600Z",
     "shell.execute_reply": "2021-09-11T09:17:49.709590Z",
     "shell.execute_reply.started": "2021-09-11T09:17:49.49323Z"
    },
    "tags": []
   },
   "outputs": [],
   "source": [
    "processed_train_df.head()"
   ]
  },
  {
   "cell_type": "code",
   "execution_count": null,
   "id": "719ddca6-38db-4ebf-9dc3-87474298d723",
   "metadata": {
    "execution": {
     "iopub.execute_input": "2021-09-11T09:17:50.808860Z",
     "iopub.status.busy": "2021-09-11T09:17:50.807600Z",
     "iopub.status.idle": "2021-09-11T09:17:50.843540Z",
     "shell.execute_reply": "2021-09-11T09:17:50.842540Z",
     "shell.execute_reply.started": "2021-09-11T09:17:50.80829Z"
    },
    "tags": []
   },
   "outputs": [],
   "source": [
    "processed_train_df.dtypes"
   ]
  },
  {
   "cell_type": "code",
   "execution_count": null,
   "id": "d9b5d123-bee4-4e79-b390-5f55d6b1545e",
   "metadata": {
    "execution": {
     "iopub.execute_input": "2021-09-11T09:17:50.737533Z",
     "iopub.status.busy": "2021-09-11T09:17:50.737406Z",
     "iopub.status.idle": "2021-09-11T09:17:50.741787Z",
     "shell.execute_reply": "2021-09-11T09:17:50.741675Z",
     "shell.execute_reply.started": "2021-09-11T09:17:50.737475Z"
    },
    "tags": []
   },
   "outputs": [],
   "source": [
    "processed_train_df.isnull().any()"
   ]
  },
  {
   "cell_type": "markdown",
   "id": "e99c0d9b-44ec-4718-95f5-457db188c972",
   "metadata": {},
   "source": [
    "#### Transform Prediction Data\n",
    "Use the Lens that was fitted on the training dataset to transform the prediction dataset"
   ]
  },
  {
   "cell_type": "code",
   "execution_count": null,
   "id": "b6e5a07c-9b3a-4e1e-a62a-77d1042ec548",
   "metadata": {
    "execution": {
     "iopub.execute_input": "2021-09-11T09:17:51.913843Z",
     "iopub.status.busy": "2021-09-11T09:17:51.913709Z",
     "iopub.status.idle": "2021-09-11T09:17:51.935037Z",
     "shell.execute_reply": "2021-09-11T09:17:51.934937Z",
     "shell.execute_reply.started": "2021-09-11T09:17:51.913785Z"
    },
    "tags": []
   },
   "outputs": [],
   "source": [
    "predict_df.head()"
   ]
  },
  {
   "cell_type": "code",
   "execution_count": null,
   "id": "e7e57482-4649-499b-a6c4-ed53a7b3f892",
   "metadata": {
    "execution": {
     "iopub.execute_input": "2021-09-11T09:17:52.479241Z",
     "iopub.status.busy": "2021-09-11T09:17:52.479083Z",
     "iopub.status.idle": "2021-09-11T09:17:52.529663Z",
     "shell.execute_reply": "2021-09-11T09:17:52.529519Z",
     "shell.execute_reply.started": "2021-09-11T09:17:52.479170Z"
    },
    "tags": []
   },
   "outputs": [],
   "source": [
    "processed_predict_df = lens.transform(predict_df)"
   ]
  },
  {
   "cell_type": "code",
   "execution_count": null,
   "id": "90fe88bc-a75f-4fe8-9384-83f4ac0a4f18",
   "metadata": {
    "execution": {
     "iopub.execute_input": "2021-09-11T09:17:53.857530Z",
     "iopub.status.busy": "2021-09-11T09:17:53.856170Z",
     "iopub.status.idle": "2021-09-11T09:17:53.108569Z",
     "shell.execute_reply": "2021-09-11T09:17:53.108460Z",
     "shell.execute_reply.started": "2021-09-11T09:17:53.85693Z"
    },
    "tags": []
   },
   "outputs": [],
   "source": [
    "processed_predict_df.head()"
   ]
  },
  {
   "cell_type": "code",
   "execution_count": null,
   "id": "703f0d13-643c-4251-bd27-2442fe571e3e",
   "metadata": {
    "execution": {
     "iopub.execute_input": "2021-09-11T09:17:53.699548Z",
     "iopub.status.busy": "2021-09-11T09:17:53.699420Z",
     "iopub.status.idle": "2021-09-11T09:17:53.702930Z",
     "shell.execute_reply": "2021-09-11T09:17:53.702830Z",
     "shell.execute_reply.started": "2021-09-11T09:17:53.699490Z"
    },
    "tags": []
   },
   "outputs": [],
   "source": [
    "processed_predict_df.dtypes"
   ]
  },
  {
   "cell_type": "code",
   "execution_count": null,
   "id": "08646582-fe16-4852-b3c3-658058adcd69",
   "metadata": {
    "execution": {
     "iopub.execute_input": "2021-09-11T09:17:54.570090Z",
     "iopub.status.busy": "2021-09-11T09:17:54.569954Z",
     "iopub.status.idle": "2021-09-11T09:17:54.574541Z",
     "shell.execute_reply": "2021-09-11T09:17:54.574435Z",
     "shell.execute_reply.started": "2021-09-11T09:17:54.570028Z"
    },
    "tags": []
   },
   "outputs": [],
   "source": [
    "processed_predict_df.isnull().any()"
   ]
  },
  {
   "cell_type": "markdown",
   "id": "99ac73b6-cacc-4049-bcf2-fe71b3b869f7",
   "metadata": {},
   "source": [
    "Live prediction dataset doesn't have `discharge_dt`s so `total_los_td` & `remaining_los_td` are unavailable"
   ]
  },
  {
   "cell_type": "markdown",
   "id": "d0fdfa6c-4f67-4513-b180-1e2423cdc518",
   "metadata": {},
   "source": [
    "## SitRep UI Lens"
   ]
  },
  {
   "cell_type": "code",
   "execution_count": null,
   "id": "c553d2ec-b764-4fe3-aa18-1d8c3e866629",
   "metadata": {
    "execution": {
     "iopub.execute_input": "2021-09-11T09:17:56.140042Z",
     "iopub.status.busy": "2021-09-11T09:17:56.139911Z",
     "iopub.status.idle": "2021-09-11T09:17:56.141886Z",
     "shell.execute_reply": "2021-09-11T09:17:56.141730Z",
     "shell.execute_reply.started": "2021-09-11T09:17:56.139982Z"
    },
    "tags": []
   },
   "outputs": [],
   "source": [
    "lens = ICUSitRepUiLens()"
   ]
  },
  {
   "cell_type": "code",
   "execution_count": null,
   "id": "201c91c9-4f69-49cd-9269-6f010e8fab92",
   "metadata": {
    "execution": {
     "iopub.execute_input": "2021-09-11T09:17:56.858254Z",
     "iopub.status.busy": "2021-09-11T09:17:56.858045Z",
     "iopub.status.idle": "2021-09-11T09:17:56.867853Z",
     "shell.execute_reply": "2021-09-11T09:17:56.867727Z",
     "shell.execute_reply.started": "2021-09-11T09:17:56.858179Z"
    },
    "tags": []
   },
   "outputs": [],
   "source": [
    "output_df = lens.fit_transform(predict_df)"
   ]
  },
  {
   "cell_type": "code",
   "execution_count": null,
   "id": "a69d2f41-e978-4989-8482-2a1eb99f65b5",
   "metadata": {
    "execution": {
     "iopub.execute_input": "2021-09-11T09:17:57.321331Z",
     "iopub.status.busy": "2021-09-11T09:17:57.321208Z",
     "iopub.status.idle": "2021-09-11T09:17:57.340883Z",
     "shell.execute_reply": "2021-09-11T09:17:57.340779Z",
     "shell.execute_reply.started": "2021-09-11T09:17:57.321273Z"
    },
    "tags": []
   },
   "outputs": [],
   "source": [
    "output_df.head()"
   ]
  },
  {
   "cell_type": "code",
   "execution_count": null,
   "id": "c95938e7-3760-464f-9066-2730fe110c44",
   "metadata": {
    "execution": {
     "iopub.execute_input": "2021-09-11T09:17:57.888676Z",
     "iopub.status.busy": "2021-09-11T09:17:57.888538Z",
     "iopub.status.idle": "2021-09-11T09:17:57.892103Z",
     "shell.execute_reply": "2021-09-11T09:17:57.891993Z",
     "shell.execute_reply.started": "2021-09-11T09:17:57.888611Z"
    },
    "tags": []
   },
   "outputs": [],
   "source": [
    "output_df.dtypes"
   ]
  },
  {
   "cell_type": "markdown",
   "id": "d1c2551f-f5ab-4815-a0ec-619014967e4a",
   "metadata": {},
   "source": [
    "\n",
    "----"
   ]
  },
  {
   "cell_type": "markdown",
   "id": "fde97497-8af6-47ce-b5f6-62328236516e",
   "metadata": {},
   "source": [
    "## Crafting a new Lens"
   ]
  },
  {
   "cell_type": "markdown",
   "id": "4528f62e-5190-4f59-ad5d-1fadd13c4e11",
   "metadata": {},
   "source": [
    "### Required imports"
   ]
  },
  {
   "cell_type": "code",
   "execution_count": null,
   "id": "2ff7e77f-5720-42cf-b9b0-4c088639d8b5",
   "metadata": {
    "execution": {
     "iopub.execute_input": "2021-09-18T18:43:20.713590Z",
     "iopub.status.busy": "2021-09-18T18:43:20.713454Z",
     "iopub.status.idle": "2021-09-18T18:43:20.715317Z",
     "shell.execute_reply": "2021-09-18T18:43:20.715191Z",
     "shell.execute_reply.started": "2021-09-18T18:43:20.713523Z"
    },
    "tags": []
   },
   "outputs": [],
   "source": [
    "from typing import *\n",
    "import numpy as np\n",
    "import pandas as pd\n",
    "from sklearn.compose import make_column_selector\n",
    "from sklearn.compose import ColumnTransformer\n",
    "from sklearn.preprocessing import StandardScaler, OneHotEncoder, OrdinalEncoder\n",
    "from sklearn.pipeline import Pipeline as SKPipeline\n",
    "from sklearn.impute import MissingIndicator, SimpleImputer\n",
    "\n",
    "from hycastle.icu_store import SITREP_FEATURES\n",
    "from hycastle.lens.base import BaseLens\n",
    "from hycastle.lens.icu import *"
   ]
  },
  {
   "cell_type": "markdown",
   "id": "91509327-7e1a-48df-afb9-175dba6b62a4",
   "metadata": {},
   "source": [
    "### Available features\n",
    "The following features are available in the ICU SitRep Pipeline"
   ]
  },
  {
   "cell_type": "code",
   "execution_count": null,
   "id": "c238375e-e084-447d-bcff-24044b726653",
   "metadata": {
    "execution": {
     "iopub.execute_input": "2021-09-18T18:43:22.117847Z",
     "iopub.status.busy": "2021-09-18T18:43:22.117721Z",
     "iopub.status.idle": "2021-09-18T18:43:22.124972Z",
     "shell.execute_reply": "2021-09-18T18:43:22.124807Z",
     "shell.execute_reply.started": "2021-09-18T18:43:22.117790Z"
    },
    "tags": []
   },
   "outputs": [],
   "source": [
    "SITREP_FEATURES"
   ]
  },
  {
   "cell_type": "markdown",
   "id": "edc9f117-af2e-4e38-839d-e7c6e507867f",
   "metadata": {},
   "source": [
    "### Definintion"
   ]
  },
  {
   "cell_type": "code",
   "execution_count": null,
   "id": "3580a849-6962-44a7-adb7-2e725731c581",
   "metadata": {
    "execution": {
     "iopub.execute_input": "2021-09-11T09:18:04.191757Z",
     "iopub.status.busy": "2021-09-11T09:18:04.191632Z",
     "iopub.status.idle": "2021-09-11T09:18:04.196028Z",
     "shell.execute_reply": "2021-09-11T09:18:04.195914Z",
     "shell.execute_reply.started": "2021-09-11T09:18:04.191700Z"
    },
    "tags": []
   },
   "outputs": [],
   "source": [
    "class CustomICUSitRepLens(BaseLens):\n",
    "    \"\"\"\n",
    "    Lens to focus ICU SitRep data \n",
    "    \"\"\"\n",
    "    \n",
    "    # Whether to convert all columns in the output dataframe to floating point\n",
    "    numeric_output = True\n",
    "    \n",
    "    # Select a subset of SITREP_COLUMNS to include in this Lens\n",
    "    @property\n",
    "    def input_cols(self) -> List[str]:\n",
    "        return [\n",
    "            'episode_slice_id',\n",
    "            'episode_key',\n",
    "            'admission_dt',\n",
    "            'bay_type',\n",
    "            'sex',\n",
    "            'ethnicity',\n",
    "            'admission_age_years',\n",
    "            'avg_heart_rate_1_24h',\n",
    "            'discharge_ready_1_4h',\n",
    "            'n_inotropes_1_4h',\n",
    "            'vent_type_1_4h',\n",
    "            'wim_1',\n",
    "            'elapsed_los_td',\n",
    "            'horizon_dt'\n",
    "        ]\n",
    "\n",
    "    specification = ColumnTransformer(\n",
    "        [\n",
    "            (\n",
    "                # Subset of columns that require no pre-processing and can be passed through as is\n",
    "                'select',\n",
    "                'passthrough',\n",
    "                [\n",
    "                    'episode_slice_id',\n",
    "                    'admission_age_years',\n",
    "                    'n_inotropes_1_4h',\n",
    "                    'wim_1',\n",
    "                ]\n",
    "            ),\n",
    "            # Pre-processing operations to apply to columns\n",
    "            # Input is 3-element tuple:\n",
    "            #   - name for pre-processing step\n",
    "            #   - transformer instance\n",
    "            #   - list of columns to apply to\n",
    "            # Any Scikit-Learn Transformer type is valid.\n",
    "            # Scikit-Learn Pipeline can also be used to combine multiple transformation for a single column, applied sequentially.\n",
    "            # The only caveat is that when a SK Pipeline is used, any transformation that creates new columns, e.g. adding a missing indicator column or\n",
    "            # one-hot-encoding, it must be the last step in the Pipeline.\n",
    "            # Details & examples for implementing custom pre-processing transformations are in `hycastle.lens.utils` \n",
    "            (\n",
    "                'admission_dt_exp',\n",
    "                DateTimeExploder(),\n",
    "                ['admission_dt']\n",
    "            ),\n",
    "            (\n",
    "                'bay_type_enc',\n",
    "                OneHotEncoder(),\n",
    "                ['bay_type']\n",
    "            ),\n",
    "            (\n",
    "                'sex_enc',\n",
    "                OrdinalEncoder(handle_unknown='use_encoded_value', unknown_value=-1),\n",
    "                ['sex']\n",
    "            ),\n",
    "            (\n",
    "                'ethnicity_miss',\n",
    "                MissingIndicator(\n",
    "                    features='all',\n",
    "                    missing_values=None\n",
    "                ),\n",
    "                ['ethnicity']\n",
    "            ),\n",
    "            (\n",
    "                'ethnicity_enc',\n",
    "                OrdinalEncoder(handle_unknown='use_encoded_value', unknown_value=-1),\n",
    "                ['ethnicity']\n",
    "            ),\n",
    "            (\n",
    "                'discharge_ready_1_4h_enc',\n",
    "                OneHotEncoder(handle_unknown='ignore'),\n",
    "                ['discharge_ready_1_4h']\n",
    "            ),\n",
    "            (\n",
    "                'vent_type_1_4h_enc',\n",
    "                OrdinalEncoder(handle_unknown='use_encoded_value', unknown_value=-1),\n",
    "                ['vent_type_1_4h']\n",
    "            ),\n",
    "            (\n",
    "                'avg_heart_rate_1_24h_prep',\n",
    "                SKPipeline(\n",
    "                    steps=[\n",
    "\n",
    "                        (\n",
    "                            'avg_heart_rate_1_24h_scale',\n",
    "                            StandardScaler(),\n",
    "                        ),\n",
    "                        (\n",
    "                            'avg_heart_rate_1_24h_impute',\n",
    "                            SimpleImputer(strategy='mean', add_indicator=True),\n",
    "                        ),\n",
    "                    ]\n",
    "                ),\n",
    "                ['avg_heart_rate_1_24h']\n",
    "            ),\n",
    "            (\n",
    "                'elapsed_los_td_seconds',\n",
    "                FunctionTransformer(timedelta_as_hours),\n",
    "                ['elapsed_los_td']\n",
    "            ),\n",
    "            (\n",
    "                'horizon_dt_exp',\n",
    "                DateTimeExploder(),\n",
    "                ['horizon_dt']\n",
    "            ),\n",
    "        ]\n",
    "    )\n"
   ]
  },
  {
   "cell_type": "markdown",
   "id": "3bbee2fa-d945-40ab-a51b-26b239378ed0",
   "metadata": {},
   "source": [
    "#### Application"
   ]
  },
  {
   "cell_type": "code",
   "execution_count": null,
   "id": "7385ebf0-9fa2-4bb1-acad-e872c28917c7",
   "metadata": {
    "execution": {
     "iopub.execute_input": "2021-09-11T09:18:05.295435Z",
     "iopub.status.busy": "2021-09-11T09:18:05.295304Z",
     "iopub.status.idle": "2021-09-11T09:18:05.296605Z",
     "shell.execute_reply": "2021-09-11T09:18:05.296478Z",
     "shell.execute_reply.started": "2021-09-11T09:18:05.295376Z"
    },
    "tags": []
   },
   "outputs": [],
   "source": [
    "lens = CustomICUSitRepLens()"
   ]
  },
  {
   "cell_type": "code",
   "execution_count": null,
   "id": "3e85017d-a353-401e-ac3f-8121781c5609",
   "metadata": {
    "execution": {
     "iopub.execute_input": "2021-09-11T09:18:05.948726Z",
     "iopub.status.busy": "2021-09-11T09:18:05.948602Z",
     "iopub.status.idle": "2021-09-11T09:18:06.130501Z",
     "shell.execute_reply": "2021-09-11T09:18:06.130348Z",
     "shell.execute_reply.started": "2021-09-11T09:18:05.948670Z"
    },
    "tags": []
   },
   "outputs": [],
   "source": [
    "tdf = lens.fit_transform(train_df)"
   ]
  },
  {
   "cell_type": "code",
   "execution_count": null,
   "id": "08f9ddba-17d2-4b99-9ff8-07648cf5a236",
   "metadata": {
    "execution": {
     "iopub.execute_input": "2021-09-11T09:18:06.130775Z",
     "iopub.status.busy": "2021-09-11T09:18:06.130676Z",
     "iopub.status.idle": "2021-09-11T09:18:06.160913Z",
     "shell.execute_reply": "2021-09-11T09:18:06.160803Z",
     "shell.execute_reply.started": "2021-09-11T09:18:06.130716Z"
    },
    "tags": []
   },
   "outputs": [],
   "source": [
    "tdf"
   ]
  },
  {
   "cell_type": "code",
   "execution_count": null,
   "id": "1806dc6b-b61f-4284-863e-8b693651bd66",
   "metadata": {
    "execution": {
     "iopub.execute_input": "2021-09-11T09:18:06.161169Z",
     "iopub.status.busy": "2021-09-11T09:18:06.161079Z",
     "iopub.status.idle": "2021-09-11T09:18:06.201972Z",
     "shell.execute_reply": "2021-09-11T09:18:06.201827Z",
     "shell.execute_reply.started": "2021-09-11T09:18:06.161116Z"
    },
    "tags": []
   },
   "outputs": [],
   "source": [
    "pdf = lens.transform(predict_df)"
   ]
  },
  {
   "cell_type": "code",
   "execution_count": null,
   "id": "7876d3d4-df98-463d-ba84-f71866f442e8",
   "metadata": {
    "execution": {
     "iopub.execute_input": "2021-09-11T09:18:06.411365Z",
     "iopub.status.busy": "2021-09-11T09:18:06.411236Z",
     "iopub.status.idle": "2021-09-11T09:18:06.464535Z",
     "shell.execute_reply": "2021-09-11T09:18:06.464427Z",
     "shell.execute_reply.started": "2021-09-11T09:18:06.411306Z"
    },
    "tags": []
   },
   "outputs": [],
   "source": [
    "pdf"
   ]
  },
  {
   "cell_type": "code",
   "execution_count": null,
   "id": "5e9a0398-b587-49df-b224-6c1d32fc6452",
   "metadata": {},
   "outputs": [],
   "source": []
  },
  {
   "cell_type": "code",
   "execution_count": null,
   "id": "697ed40f-ff54-4365-8872-5c460598ed38",
   "metadata": {},
   "outputs": [],
   "source": []
  },
  {
   "cell_type": "code",
   "execution_count": null,
   "id": "cb9808d5-1f7a-4314-9bce-ee652233cee8",
   "metadata": {},
   "outputs": [],
   "source": []
  }
 ],
 "metadata": {
  "kernelspec": {
   "display_name": "Python 3 (ipykernel)",
   "language": "python",
   "name": "python3"
  },
  "language_info": {
   "codemirror_mode": {
    "name": "ipython",
    "version": 3
   },
   "file_extension": ".py",
   "mimetype": "text/x-python",
   "name": "python",
   "nbconvert_exporter": "python",
   "pygments_lexer": "ipython3",
   "version": "3.8.10"
  }
 },
 "nbformat": 4,
 "nbformat_minor": 5
}
