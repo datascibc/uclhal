{
 "cells": [
  {
   "cell_type": "markdown",
   "id": "9baf9415-d055-436e-8c7c-6bd61e9cf5aa",
   "metadata": {},
   "source": [
    "# Exemplar"
   ]
  },
  {
   "cell_type": "markdown",
   "id": "c09ef35f",
   "metadata": {},
   "source": [
    "Let's begin an end-to-end modelling exemplar. The whole pipeline in c. 20 lines. In the previous section, we made some grand claims about Hylode addressing:\n",
    "\n",
    "    ~ train-deploy split\n",
    "    ~ feature provision\n",
    "    ~ time-series modelling\n",
    "    ~ model management\n",
    "    ~ transition to deployment\n",
    "    \n",
    "Let's see a concrete example of how this looks."
   ]
  },
  {
   "cell_type": "markdown",
   "id": "42076c9b",
   "metadata": {},
   "source": [
    "# Retrospective training set. Extraction & pre-processing"
   ]
  },
  {
   "cell_type": "markdown",
   "id": "92781001",
   "metadata": {},
   "source": [
    "For the sake of these notebooks, we're going to consider the problem of modelling ICU discharge at 48 hours."
   ]
  },
  {
   "cell_type": "code",
   "execution_count": null,
   "id": "2f94584f",
   "metadata": {
    "execution": {
     "iopub.execute_input": "2021-12-01T17:07:16.912138Z",
     "iopub.status.busy": "2021-12-01T17:07:16.911996Z",
     "iopub.status.idle": "2021-12-01T17:08:11.378895Z",
     "shell.execute_reply": "2021-12-01T17:08:11.378741Z",
     "shell.execute_reply.started": "2021-12-01T17:07:16.912074Z"
    },
    "tags": []
   },
   "outputs": [],
   "source": [
    "# First off, Hylode immediately gives us the features we need to train a time series model\n",
    "from hycastle.icu_store.retro import retro_dataset\n",
    "\n",
    "train_df = retro_dataset('T03')\n",
    "train_df.shape"
   ]
  },
  {
   "cell_type": "markdown",
   "id": "01bb8c2b",
   "metadata": {},
   "source": [
    "This single piece of code has done a lot of work behind the scenes. \n",
    "\n",
    "It has pulled data from EMAP, processed it where necessary to create features and then cut those features up so we have one row per hour for each patient -- setting us up to make live predictions every hour for each patient on the unit.\n",
    "\n",
    "Let's have a look at which features we have:"
   ]
  },
  {
   "cell_type": "code",
   "execution_count": null,
   "id": "16f4a614",
   "metadata": {
    "execution": {
     "iopub.execute_input": "2021-12-01T17:08:15.776388Z",
     "iopub.status.busy": "2021-12-01T17:08:15.776261Z",
     "iopub.status.idle": "2021-12-01T17:08:15.778672Z",
     "shell.execute_reply": "2021-12-01T17:08:15.778554Z",
     "shell.execute_reply.started": "2021-12-01T17:08:15.776330Z"
    },
    "tags": []
   },
   "outputs": [],
   "source": [
    "train_df.columns"
   ]
  },
  {
   "cell_type": "markdown",
   "id": "8b726021",
   "metadata": {},
   "source": [
    "This is great, but we still have some categorical variables etc. laced in there. What happens if I want to do some pre-processing?\n",
    "\n",
    "The answer lies in our `lens` abstraction, let's have a look at one I prepared earlier:"
   ]
  },
  {
   "cell_type": "code",
   "execution_count": null,
   "id": "5fe5a706",
   "metadata": {
    "execution": {
     "iopub.execute_input": "2021-12-01T17:08:23.584075Z",
     "iopub.status.busy": "2021-12-01T17:08:23.583943Z",
     "iopub.status.idle": "2021-12-01T17:08:29.393657Z",
     "shell.execute_reply": "2021-12-01T17:08:29.393532Z",
     "shell.execute_reply.started": "2021-12-01T17:08:23.584017Z"
    },
    "tags": []
   },
   "outputs": [],
   "source": [
    "from hycastle.lens.icu import BournvilleICUSitRepLens\n",
    "lens = BournvilleICUSitRepLens()\n",
    "\n",
    "X_train = lens.fit_transform(train_df)\n",
    "X_train.columns"
   ]
  },
  {
   "cell_type": "markdown",
   "id": "f7fed298",
   "metadata": {},
   "source": [
    "We can see we've just done some useful things. The lens's `fit_transform` method has inserted missingness values for ethnicity, and we have broken out each patient's admissions time into separate features as we think that will improve our model. \n",
    "\n",
    "We also define a label:"
   ]
  },
  {
   "cell_type": "code",
   "execution_count": null,
   "id": "1b06a502",
   "metadata": {
    "execution": {
     "iopub.execute_input": "2021-12-01T17:08:32.778180Z",
     "iopub.status.busy": "2021-12-01T17:08:32.778042Z",
     "iopub.status.idle": "2021-12-01T17:08:32.780344Z",
     "shell.execute_reply": "2021-12-01T17:08:32.780205Z",
     "shell.execute_reply.started": "2021-12-01T17:08:32.778117Z"
    },
    "tags": []
   },
   "outputs": [],
   "source": [
    "y_train = train_df['discharged_in_48hr'].astype(int)"
   ]
  },
  {
   "cell_type": "markdown",
   "id": "7e621527",
   "metadata": {},
   "source": [
    "# Training & storing a model"
   ]
  },
  {
   "cell_type": "markdown",
   "id": "a67514e0",
   "metadata": {},
   "source": [
    "With this \"heavy\" lifting done, we should now already be in a position to train a model. Let's have a go:"
   ]
  },
  {
   "cell_type": "code",
   "execution_count": null,
   "id": "7c8ca815",
   "metadata": {
    "execution": {
     "iopub.execute_input": "2021-12-01T17:08:35.969056Z",
     "iopub.status.busy": "2021-12-01T17:08:35.968925Z",
     "iopub.status.idle": "2021-12-01T17:08:39.569991Z",
     "shell.execute_reply": "2021-12-01T17:08:39.569845Z",
     "shell.execute_reply.started": "2021-12-01T17:08:35.968998Z"
    },
    "tags": []
   },
   "outputs": [],
   "source": [
    "from sklearn.ensemble import RandomForestClassifier\n",
    "m = RandomForestClassifier(n_jobs=-1)\n",
    "m.fit(X_train.values, y_train.values.ravel())"
   ]
  },
  {
   "cell_type": "markdown",
   "id": "fbb5c7ec",
   "metadata": {},
   "source": [
    "Everything seems to be working. Let's imagine we're happy with what we've done. Let's log the model in our model repo, so it's primed and ready to deploy..."
   ]
  },
  {
   "cell_type": "code",
   "execution_count": null,
   "id": "db5e93b8",
   "metadata": {
    "execution": {
     "iopub.execute_input": "2021-12-01T17:08:44.636314Z",
     "iopub.status.busy": "2021-12-01T17:08:44.636182Z",
     "iopub.status.idle": "2021-12-01T17:08:45.394900Z",
     "shell.execute_reply": "2021-12-01T17:08:45.394688Z",
     "shell.execute_reply.started": "2021-12-01T17:08:44.636256Z"
    },
    "tags": []
   },
   "outputs": [],
   "source": [
    "import os\n",
    "import mlflow\n",
    "mlflow_server = os.getenv('HYMIND_REPO_TRACKING_URI')\n",
    "mlflow.set_tracking_uri(mlflow_server)"
   ]
  },
  {
   "cell_type": "code",
   "execution_count": null,
   "id": "5e75a92a",
   "metadata": {
    "execution": {
     "iopub.execute_input": "2021-12-01T17:08:46.224059Z",
     "iopub.status.busy": "2021-12-01T17:08:46.223930Z",
     "iopub.status.idle": "2021-12-01T17:08:47.267340Z",
     "shell.execute_reply": "2021-12-01T17:08:47.267194Z",
     "shell.execute_reply.started": "2021-12-01T17:08:46.224000Z"
    },
    "tags": []
   },
   "outputs": [],
   "source": [
    "from datetime import datetime\n",
    "import random\n",
    "import string\n",
    "\n",
    "# Generate a unique experiment name\n",
    "exp_name = \"vignette_0-\" + \"\".join( random.sample(string.ascii_lowercase, k=8)) + str(datetime.now().timestamp())\n",
    "\n",
    "os.environ[\"MLFLOW_EXPERIMENT_NAME\"] = exp_name\n",
    "experiment_id = mlflow.create_experiment(exp_name)\n",
    "\n",
    "experiment_id"
   ]
  },
  {
   "cell_type": "code",
   "execution_count": null,
   "id": "e56ce4ba",
   "metadata": {
    "execution": {
     "iopub.execute_input": "2021-12-01T17:08:54.792505Z",
     "iopub.status.busy": "2021-12-01T17:08:54.792369Z",
     "iopub.status.idle": "2021-12-01T17:09:02.566229Z",
     "shell.execute_reply": "2021-12-01T17:09:02.565985Z",
     "shell.execute_reply.started": "2021-12-01T17:08:54.792444Z"
    },
    "tags": []
   },
   "outputs": [],
   "source": [
    "with mlflow.start_run():\n",
    "    mlflow.sklearn.log_model(m, 'model')"
   ]
  },
  {
   "cell_type": "markdown",
   "id": "116acbfa",
   "metadata": {},
   "source": [
    "This [screenshot](MLFlow_screenshot.PNG) shows what it looks like for the model to land safely in MLFlow (which you should be able to see for yourself if you follow the link [here](http://uclvlddpragae08:5008/) -- look for a new experiment at the very bottom of the list on the left hand side)"
   ]
  },
  {
   "cell_type": "markdown",
   "id": "1f4faeb2",
   "metadata": {},
   "source": [
    "# Loading and deploying a model"
   ]
  },
  {
   "cell_type": "markdown",
   "id": "042e1ad6",
   "metadata": {},
   "source": [
    "Now let's switch hats and imagine they were are trying to deploy the model in silent mode for the patients currently on the ICU. This is now pretty straightforward:"
   ]
  },
  {
   "cell_type": "code",
   "execution_count": null,
   "id": "adbbad3a",
   "metadata": {
    "execution": {
     "iopub.execute_input": "2021-12-01T17:11:00.987762Z",
     "iopub.status.busy": "2021-12-01T17:11:00.987611Z",
     "iopub.status.idle": "2021-12-01T17:11:01.362810Z",
     "shell.execute_reply": "2021-12-01T17:11:01.360850Z",
     "shell.execute_reply.started": "2021-12-01T17:11:00.987700Z"
    },
    "tags": []
   },
   "outputs": [],
   "source": [
    "from hycastle.icu_store.live import live_dataset\n",
    "live_df = live_dataset('T03')\n",
    "live_df.shape"
   ]
  },
  {
   "cell_type": "code",
   "execution_count": null,
   "id": "f23934af",
   "metadata": {
    "execution": {
     "iopub.execute_input": "2021-12-01T17:11:02.129790Z",
     "iopub.status.busy": "2021-12-01T17:11:02.129615Z",
     "iopub.status.idle": "2021-12-01T17:11:02.132538Z",
     "shell.execute_reply": "2021-12-01T17:11:02.132419Z",
     "shell.execute_reply.started": "2021-12-01T17:11:02.129712Z"
    },
    "tags": []
   },
   "outputs": [],
   "source": [
    "live_df.columns"
   ]
  },
  {
   "cell_type": "code",
   "execution_count": null,
   "id": "faf6c453",
   "metadata": {
    "execution": {
     "iopub.execute_input": "2021-12-01T17:11:06.115838Z",
     "iopub.status.busy": "2021-12-01T17:11:06.115617Z",
     "iopub.status.idle": "2021-12-01T17:11:06.163557Z",
     "shell.execute_reply": "2021-12-01T17:11:06.163304Z",
     "shell.execute_reply.started": "2021-12-01T17:11:06.115728Z"
    },
    "tags": []
   },
   "outputs": [],
   "source": [
    "X_df = lens.transform(live_df)"
   ]
  },
  {
   "cell_type": "code",
   "execution_count": null,
   "id": "6d41e5fc-81de-4e4c-ba68-6b627fd810a0",
   "metadata": {
    "execution": {
     "iopub.execute_input": "2021-12-01T17:11:10.579490Z",
     "iopub.status.busy": "2021-12-01T17:11:10.577280Z",
     "iopub.status.idle": "2021-12-01T17:11:10.912630Z",
     "shell.execute_reply": "2021-12-01T17:11:10.911140Z",
     "shell.execute_reply.started": "2021-12-01T17:11:10.57862Z"
    },
    "tags": []
   },
   "outputs": [],
   "source": [
    "runs = mlflow.search_runs(experiment_ids=[experiment_id])\n",
    "run_id = runs.iloc[0].run_id\n",
    "run_id"
   ]
  },
  {
   "cell_type": "code",
   "execution_count": null,
   "id": "316ffd37",
   "metadata": {
    "execution": {
     "iopub.execute_input": "2021-12-01T17:11:11.165160Z",
     "iopub.status.busy": "2021-12-01T17:11:11.165008Z",
     "iopub.status.idle": "2021-12-01T17:11:11.278185Z",
     "shell.execute_reply": "2021-12-01T17:11:11.277958Z",
     "shell.execute_reply.started": "2021-12-01T17:11:11.165098Z"
    },
    "tags": []
   },
   "outputs": [],
   "source": [
    "logged_model = f'runs:/{run_id}/model'\n",
    "loaded_model = mlflow.sklearn.load_model(logged_model)"
   ]
  },
  {
   "cell_type": "code",
   "execution_count": null,
   "id": "d09eb156",
   "metadata": {
    "execution": {
     "iopub.execute_input": "2021-12-01T17:11:12.776559Z",
     "iopub.status.busy": "2021-12-01T17:11:12.776409Z",
     "iopub.status.idle": "2021-12-01T17:11:12.826045Z",
     "shell.execute_reply": "2021-12-01T17:11:12.825860Z",
     "shell.execute_reply.started": "2021-12-01T17:11:12.776500Z"
    },
    "tags": []
   },
   "outputs": [],
   "source": [
    "predictions = loaded_model.predict_proba(X_df.values)\n",
    "live_df['prediction'] = predictions[:, 1]\n",
    "live_df.loc[:, ['bed_code', 'prediction']].head()"
   ]
  },
  {
   "cell_type": "code",
   "execution_count": null,
   "id": "b0466f74-f447-4d7e-b00f-0799610627f4",
   "metadata": {},
   "outputs": [],
   "source": []
  }
 ],
 "metadata": {
  "kernelspec": {
   "display_name": "Python 3 (ipykernel)",
   "language": "python",
   "name": "python3"
  },
  "language_info": {
   "codemirror_mode": {
    "name": "ipython",
    "version": 3
   },
   "file_extension": ".py",
   "mimetype": "text/x-python",
   "name": "python",
   "nbconvert_exporter": "python",
   "pygments_lexer": "ipython3",
   "version": "3.9.13"
  },
  "toc": {
   "base_numbering": 1,
   "nav_menu": {},
   "number_sections": true,
   "sideBar": true,
   "skip_h1_title": false,
   "title_cell": "Table of Contents",
   "title_sidebar": "Contents",
   "toc_cell": false,
   "toc_position": {},
   "toc_section_display": true,
   "toc_window_display": true
  }
 },
 "nbformat": 4,
 "nbformat_minor": 5
}
