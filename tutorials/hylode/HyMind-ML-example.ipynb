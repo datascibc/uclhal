{
 "cells": [
  {
   "cell_type": "markdown",
   "id": "045f5178-355f-47bc-8e8d-548157049f9c",
   "metadata": {},
   "source": [
    "# HyMind Machine Learning"
   ]
  },
  {
   "cell_type": "markdown",
   "id": "c89b0559",
   "metadata": {
    "tags": []
   },
   "source": [
    "## Imports"
   ]
  },
  {
   "cell_type": "code",
   "execution_count": null,
   "id": "bb38ec6a-ff28-459a-a5ab-4882706242e5",
   "metadata": {
    "execution": {
     "iopub.execute_input": "2021-10-05T14:24:28.671311Z",
     "iopub.status.busy": "2021-10-05T14:24:28.671179Z",
     "iopub.status.idle": "2021-10-05T14:24:31.311271Z",
     "shell.execute_reply": "2021-10-05T14:24:31.311105Z",
     "shell.execute_reply.started": "2021-10-05T14:24:28.671250Z"
    },
    "tags": []
   },
   "outputs": [],
   "source": [
    "from typing import List\n",
    "import os\n",
    "import tempfile\n",
    "from pathlib import Path\n",
    "import pickle\n",
    "from uuid import uuid4\n",
    "\n",
    "import cloudpickle\n",
    "import pandas as pd\n",
    "import mlflow\n",
    "from mlflow.tracking import MlflowClient\n",
    "from sklearn.ensemble import RandomForestClassifier\n",
    "from sklearn.model_selection import ParameterGrid, train_test_split\n",
    "from sklearn.metrics import confusion_matrix\n",
    "from sklearn.compose import ColumnTransformer\n",
    "from sklearn.exceptions import NotFittedError\n",
    "from sklearn.utils.validation import check_is_fitted\n",
    "from sklearn.compose import ColumnTransformer, make_column_selector\n",
    "from sklearn.impute import MissingIndicator, SimpleImputer\n",
    "from sklearn.pipeline import Pipeline as SKPipeline\n",
    "from sklearn.preprocessing import (\n",
    "    FunctionTransformer,\n",
    "    OneHotEncoder,\n",
    "    OrdinalEncoder,\n",
    "    StandardScaler,\n",
    ")\n",
    "\n",
    "from hycastle.lens.base import BaseLens\n",
    "from hycastle.lens.transformers import DateTimeExploder, timedelta_as_hours\n",
    "\n",
    "%matplotlib inline"
   ]
  },
  {
   "cell_type": "code",
   "execution_count": null,
   "id": "060c5a0c-d4cc-4a42-a120-25c913908f82",
   "metadata": {
    "execution": {
     "iopub.execute_input": "2021-10-05T14:24:31.885700Z",
     "iopub.status.busy": "2021-10-05T14:24:31.885569Z",
     "iopub.status.idle": "2021-10-05T14:24:31.887450Z",
     "shell.execute_reply": "2021-10-05T14:24:31.887336Z",
     "shell.execute_reply.started": "2021-10-05T14:24:31.885641Z"
    },
    "tags": []
   },
   "outputs": [],
   "source": [
    "secret_path = 'secret'\n",
    "os.environ['EMAP_DB_USER'], os.environ['EMAP_DB_PASSWORD'] = Path(secret_path).read_text().strip().split('\\n')"
   ]
  },
  {
   "cell_type": "code",
   "execution_count": null,
   "id": "c231ae24-41c8-4124-b418-d552c2046591",
   "metadata": {
    "execution": {
     "iopub.execute_input": "2021-10-05T14:24:33.963190Z",
     "iopub.status.busy": "2021-10-05T14:24:33.961380Z",
     "iopub.status.idle": "2021-10-05T14:24:34.229643Z",
     "shell.execute_reply": "2021-10-05T14:24:34.229499Z",
     "shell.execute_reply.started": "2021-10-05T14:24:33.96216Z"
    },
    "tags": []
   },
   "outputs": [],
   "source": [
    "from hylib.dt import LONDON_TZ\n",
    "from hycastle.lens.icu import BournvilleICUSitRepLens\n",
    "from hycastle.icu_store.live import live_dataset\n",
    "from hycastle.icu_store.retro import retro_dataset\n",
    "from hymind.lib.models.icu_aggregate import AggregateDemandModel"
   ]
  },
  {
   "cell_type": "markdown",
   "id": "519477db-1a31-4b04-b22d-c92ff5ff4696",
   "metadata": {
    "execution": {
     "iopub.execute_input": "2021-09-22T14:14:14.667077Z",
     "iopub.status.busy": "2021-09-22T14:14:14.666926Z",
     "iopub.status.idle": "2021-09-22T14:14:14.677470Z",
     "shell.execute_reply": "2021-09-22T14:14:14.677365Z",
     "shell.execute_reply.started": "2021-09-22T14:14:14.667006Z"
    },
    "tags": []
   },
   "source": [
    "## MLFlow Init"
   ]
  },
  {
   "cell_type": "code",
   "execution_count": null,
   "id": "3c34f8c5-5c8e-4408-ba04-f6d6ed2f499f",
   "metadata": {
    "execution": {
     "iopub.execute_input": "2021-10-05T14:24:40.741946Z",
     "iopub.status.busy": "2021-10-05T14:24:40.741820Z",
     "iopub.status.idle": "2021-10-05T14:24:40.743177Z",
     "shell.execute_reply": "2021-10-05T14:24:40.743050Z",
     "shell.execute_reply.started": "2021-10-05T14:24:40.741887Z"
    },
    "tags": []
   },
   "outputs": [],
   "source": [
    "mlflow_var = os.getenv('HYMIND_REPO_TRACKING_URI')\n",
    "mlflow.set_tracking_uri(mlflow_var)   "
   ]
  },
  {
   "cell_type": "code",
   "execution_count": null,
   "id": "44df611c-e466-4f6d-a277-8a93bd762a40",
   "metadata": {
    "execution": {
     "iopub.execute_input": "2021-10-05T14:24:42.351999Z",
     "iopub.status.busy": "2021-10-05T14:24:42.351865Z",
     "iopub.status.idle": "2021-10-05T14:24:42.353287Z",
     "shell.execute_reply": "2021-10-05T14:24:42.353176Z",
     "shell.execute_reply.started": "2021-10-05T14:24:42.351938Z"
    },
    "tags": []
   },
   "outputs": [],
   "source": [
    "client = MlflowClient()"
   ]
  },
  {
   "cell_type": "markdown",
   "id": "852c1286-6804-4bf5-8dd1-e79029759c1a",
   "metadata": {},
   "source": [
    "## Data"
   ]
  },
  {
   "cell_type": "code",
   "execution_count": null,
   "id": "df68d5a4-672e-4f06-bd56-e94ab25c64ac",
   "metadata": {
    "execution": {
     "iopub.execute_input": "2021-10-05T14:24:51.713824Z",
     "iopub.status.busy": "2021-10-05T14:24:51.713678Z",
     "iopub.status.idle": "2021-10-05T14:24:56.930919Z",
     "shell.execute_reply": "2021-10-05T14:24:56.930758Z",
     "shell.execute_reply.started": "2021-10-05T14:24:51.713742Z"
    },
    "tags": []
   },
   "outputs": [],
   "source": [
    "df = retro_dataset('T03')"
   ]
  },
  {
   "cell_type": "code",
   "execution_count": null,
   "id": "78489f4f-7fe6-4599-a525-f9441fe20f8b",
   "metadata": {
    "execution": {
     "iopub.execute_input": "2021-10-05T14:24:56.931201Z",
     "iopub.status.busy": "2021-10-05T14:24:56.931103Z",
     "iopub.status.idle": "2021-10-05T14:24:56.934755Z",
     "shell.execute_reply": "2021-10-05T14:24:56.934650Z",
     "shell.execute_reply.started": "2021-10-05T14:24:56.931145Z"
    },
    "tags": []
   },
   "outputs": [],
   "source": [
    "df.shape"
   ]
  },
  {
   "cell_type": "code",
   "execution_count": null,
   "id": "265c9fc7-785e-4e1b-8728-648913ff17fc",
   "metadata": {
    "execution": {
     "iopub.execute_input": "2021-10-05T14:24:56.935016Z",
     "iopub.status.busy": "2021-10-05T14:24:56.934920Z",
     "iopub.status.idle": "2021-10-05T14:24:56.971075Z",
     "shell.execute_reply": "2021-10-05T14:24:56.970965Z",
     "shell.execute_reply.started": "2021-10-05T14:24:56.934961Z"
    },
    "tags": []
   },
   "outputs": [],
   "source": [
    "df.head()"
   ]
  },
  {
   "cell_type": "markdown",
   "id": "64a2982b-b9d6-4286-8a9a-eed1979d6a55",
   "metadata": {},
   "source": [
    "### Lens"
   ]
  },
  {
   "cell_type": "code",
   "execution_count": null,
   "id": "523de0bd-3556-4cf9-af34-39eaf8872123",
   "metadata": {
    "tags": []
   },
   "outputs": [],
   "source": [
    "# lens = BournvilleICUSitRepLens()"
   ]
  },
  {
   "cell_type": "code",
   "execution_count": null,
   "id": "f22dca4e-d2ee-4925-a8b6-c3bfb2e54072",
   "metadata": {
    "execution": {
     "iopub.execute_input": "2021-10-05T14:25:18.824130Z",
     "iopub.status.busy": "2021-10-05T14:25:18.822320Z",
     "iopub.status.idle": "2021-10-05T14:25:18.873040Z",
     "shell.execute_reply": "2021-10-05T14:25:18.871330Z",
     "shell.execute_reply.started": "2021-10-05T14:25:18.82329Z"
    },
    "tags": []
   },
   "outputs": [],
   "source": [
    "class DemoLens(BaseLens):\n",
    "    numeric_output = True\n",
    "    index_col = \"episode_slice_id\"\n",
    "\n",
    "    @property\n",
    "    def input_cols(self) -> List[str]:\n",
    "        return [\n",
    "            \"episode_slice_id\",\n",
    "            \"admission_age_years\",\n",
    "            \"avg_heart_rate_1_24h\",\n",
    "            \"max_temp_1_12h\",\n",
    "            \"avg_resp_rate_1_24h\",\n",
    "            \"elapsed_los_td\",\n",
    "            \"admission_dt\",\n",
    "            \"horizon_dt\",\n",
    "            \"n_inotropes_1_4h\",\n",
    "            \"wim_1\",\n",
    "            \"bay_type\",\n",
    "            \"sex\",\n",
    "            \"vent_type_1_4h\",\n",
    "        ]\n",
    "\n",
    "    def specify(self) -> ColumnTransformer:\n",
    "        return ColumnTransformer(\n",
    "            [\n",
    "                (\n",
    "                    \"select\",\n",
    "                    \"passthrough\",\n",
    "                    [\n",
    "                        \"episode_slice_id\",\n",
    "                        \"admission_age_years\",\n",
    "                        \"n_inotropes_1_4h\",\n",
    "                        \"wim_1\",\n",
    "                    ],\n",
    "                ),\n",
    "                (\"bay_type_enc\", OneHotEncoder(), [\"bay_type\"]),\n",
    "                (\n",
    "                    \"sex_enc\",\n",
    "                    OrdinalEncoder(\n",
    "                        handle_unknown=\"use_encoded_value\", unknown_value=-1\n",
    "                    ),\n",
    "                    [\"sex\"],\n",
    "                ),\n",
    "                (\n",
    "                    \"admission_dt_exp\",\n",
    "                    DateTimeExploder(),\n",
    "                    [\"admission_dt\", \"horizon_dt\"],\n",
    "                ),\n",
    "                (\n",
    "                    \"vent_type_1_4h_enc\",\n",
    "                    OrdinalEncoder(\n",
    "                        handle_unknown=\"use_encoded_value\", unknown_value=-1\n",
    "                    ),\n",
    "                    [\"vent_type_1_4h\"],\n",
    "                ),\n",
    "                (\n",
    "                    \"vitals_impute\",\n",
    "                    SimpleImputer(strategy=\"mean\", add_indicator=False),\n",
    "                    [\n",
    "                        \"avg_heart_rate_1_24h\",\n",
    "                        \"max_temp_1_12h\",\n",
    "                        \"avg_resp_rate_1_24h\",\n",
    "                    ],\n",
    "                ),\n",
    "                (\n",
    "                    \"elapsed_los_td_hrs\",\n",
    "                    FunctionTransformer(timedelta_as_hours),\n",
    "                    [\"elapsed_los_td\"],\n",
    "                ),\n",
    "            ]\n",
    "        )\n"
   ]
  },
  {
   "cell_type": "code",
   "execution_count": null,
   "id": "52ed2418-f9ca-4357-8716-8977678eea2a",
   "metadata": {
    "execution": {
     "iopub.execute_input": "2021-10-05T14:25:22.406800Z",
     "iopub.status.busy": "2021-10-05T14:25:22.394000Z",
     "iopub.status.idle": "2021-10-05T14:25:22.517200Z",
     "shell.execute_reply": "2021-10-05T14:25:22.506400Z",
     "shell.execute_reply.started": "2021-10-05T14:25:22.4008Z"
    },
    "tags": []
   },
   "outputs": [],
   "source": [
    "lens = DemoLens()"
   ]
  },
  {
   "cell_type": "code",
   "execution_count": null,
   "id": "b63d6cef-e802-4ae6-86b0-ce361ca89e60",
   "metadata": {
    "execution": {
     "iopub.execute_input": "2021-10-05T14:25:24.920700Z",
     "iopub.status.busy": "2021-10-05T14:25:24.920559Z",
     "iopub.status.idle": "2021-10-05T14:25:27.641640Z",
     "shell.execute_reply": "2021-10-05T14:25:27.640040Z",
     "shell.execute_reply.started": "2021-10-05T14:25:24.920638Z"
    },
    "tags": []
   },
   "outputs": [],
   "source": [
    "X = lens.fit_transform(df)"
   ]
  },
  {
   "cell_type": "code",
   "execution_count": null,
   "id": "817fe4b2-64fb-4131-9440-2400673a2831",
   "metadata": {
    "execution": {
     "iopub.execute_input": "2021-10-05T14:25:27.831115Z",
     "iopub.status.busy": "2021-10-05T14:25:27.830986Z",
     "iopub.status.idle": "2021-10-05T14:25:27.833033Z",
     "shell.execute_reply": "2021-10-05T14:25:27.832916Z",
     "shell.execute_reply.started": "2021-10-05T14:25:27.831057Z"
    },
    "tags": []
   },
   "outputs": [],
   "source": [
    "y = df['discharged_in_48hr'].astype(int)"
   ]
  },
  {
   "cell_type": "code",
   "execution_count": null,
   "id": "138e1f89-eb70-447b-b18e-d1c79f490907",
   "metadata": {
    "execution": {
     "iopub.execute_input": "2021-10-05T14:25:30.158786Z",
     "iopub.status.busy": "2021-10-05T14:25:30.158600Z",
     "iopub.status.idle": "2021-10-05T14:25:30.184034Z",
     "shell.execute_reply": "2021-10-05T14:25:30.183885Z",
     "shell.execute_reply.started": "2021-10-05T14:25:30.158695Z"
    },
    "tags": []
   },
   "outputs": [],
   "source": [
    "X_train, X_valid, y_train, y_valid = train_test_split(X, y, test_size=0.2)"
   ]
  },
  {
   "cell_type": "markdown",
   "id": "0dca8315-11ca-4d9c-ade8-a2e637a939a0",
   "metadata": {},
   "source": [
    "### Dummy run"
   ]
  },
  {
   "cell_type": "code",
   "execution_count": null,
   "id": "dc72715b-fbec-4c16-b7b9-04820a4583a3",
   "metadata": {
    "execution": {
     "iopub.execute_input": "2021-10-05T14:25:32.776241Z",
     "iopub.status.busy": "2021-10-05T14:25:32.776110Z",
     "iopub.status.idle": "2021-10-05T14:25:33.110856Z",
     "shell.execute_reply": "2021-10-05T14:25:33.110676Z",
     "shell.execute_reply.started": "2021-10-05T14:25:32.776182Z"
    },
    "tags": []
   },
   "outputs": [],
   "source": [
    "m = RandomForestClassifier(n_jobs=-1, n_estimators=50, max_depth=2)\n",
    "%time m.fit(X_train.values, y_train.values.ravel())"
   ]
  },
  {
   "cell_type": "markdown",
   "id": "57da182c-b289-4a65-9f14-65fca9a3000b",
   "metadata": {},
   "source": [
    "## Experiment"
   ]
  },
  {
   "cell_type": "markdown",
   "id": "a6a30e1e-a311-4715-a2b1-8946136afb43",
   "metadata": {
    "tags": []
   },
   "source": [
    "### Utils"
   ]
  },
  {
   "cell_type": "code",
   "execution_count": null,
   "id": "786d9ff4-b310-4fc2-aa87-0fa9115ca912",
   "metadata": {
    "execution": {
     "iopub.execute_input": "2021-10-05T14:25:38.514664Z",
     "iopub.status.busy": "2021-10-05T14:25:38.514523Z",
     "iopub.status.idle": "2021-10-05T14:25:38.517532Z",
     "shell.execute_reply": "2021-10-05T14:25:38.517413Z",
     "shell.execute_reply.started": "2021-10-05T14:25:38.514599Z"
    },
    "tags": []
   },
   "outputs": [],
   "source": [
    "tmp_path = Path('tmp')\n",
    "tmp_path.mkdir(parents=True, exist_ok=True)\n",
    "\n",
    "def mlflow_log_string(text, filename):\n",
    "    full_path = tmp_path / filename\n",
    "    with open(full_path, 'w') as f:\n",
    "        f.write(str(text))\n",
    "    mlflow.log_artifact(full_path)\n",
    "\n",
    "def mlflow_log_tag_dict(tag_dict, filename):\n",
    "    \"\"\"Logs tag dict to MLflow (while preserving order unlike mlflow.log_dict)\"\"\"\n",
    "    full_path = tmp_path / filename\n",
    "    with open(full_path, 'w') as f:\n",
    "        yaml.dump(tag_dict, f, sort_keys=False)\n",
    "    mlflow.log_artifact(full_path)\n",
    "    \n",
    "def mlflow_log_lens(l):\n",
    "    full_path = l.pickle(tmp_path)\n",
    "    mlflow.log_artifact(full_path, 'lens')"
   ]
  },
  {
   "cell_type": "code",
   "execution_count": null,
   "id": "390ce54c-a111-43d6-acde-f030a656bcf6",
   "metadata": {
    "execution": {
     "iopub.execute_input": "2021-10-05T14:25:57.937868Z",
     "iopub.status.busy": "2021-10-05T14:25:57.937705Z",
     "iopub.status.idle": "2021-10-05T14:25:58.467330Z",
     "shell.execute_reply": "2021-10-05T14:25:58.466250Z",
     "shell.execute_reply.started": "2021-10-05T14:25:57.937801Z"
    },
    "tags": []
   },
   "outputs": [],
   "source": [
    "# Owner|Type|Name|Date\n",
    "exp_name = 'NS|models|jendemo|2021-10-05'\n",
    "\n",
    "\n",
    "os.environ[\"MLFLOW_EXPERIMENT_NAME\"] = exp_name\n",
    "experiment_id = mlflow.create_experiment(exp_name)\n",
    "\n",
    "experiment_id"
   ]
  },
  {
   "cell_type": "code",
   "execution_count": null,
   "id": "5c63390a-210f-4ce9-b0f6-d8117ed7bb12",
   "metadata": {
    "execution": {
     "iopub.execute_input": "2021-10-05T14:25:59.646749Z",
     "iopub.status.busy": "2021-10-05T14:25:59.646622Z",
     "iopub.status.idle": "2021-10-05T14:25:59.648001Z",
     "shell.execute_reply": "2021-10-05T14:25:59.647889Z",
     "shell.execute_reply.started": "2021-10-05T14:25:59.646692Z"
    },
    "tags": []
   },
   "outputs": [],
   "source": [
    "def artifact_path():\n",
    "    pth = Path(mlflow.get_artifact_uri())\n",
    "    pth.mkdir(parents=True, exist_ok=True)\n",
    "    return pth"
   ]
  },
  {
   "cell_type": "markdown",
   "id": "1f3a8e2d-61f4-4601-80d5-b3b826baf149",
   "metadata": {},
   "source": [
    "### Parameter Grid"
   ]
  },
  {
   "cell_type": "code",
   "execution_count": null,
   "id": "f7f8bfd6-6256-413c-9413-beeb6a32d0ea",
   "metadata": {
    "execution": {
     "iopub.execute_input": "2021-10-05T14:26:06.592202Z",
     "iopub.status.busy": "2021-10-05T14:26:06.592068Z",
     "iopub.status.idle": "2021-10-05T14:26:06.593398Z",
     "shell.execute_reply": "2021-10-05T14:26:06.593282Z",
     "shell.execute_reply.started": "2021-10-05T14:26:06.592143Z"
    },
    "tags": []
   },
   "outputs": [],
   "source": [
    "grid = {\n",
    "    'n_estimators':[5, 10],\n",
    "    'max_depth':[2, 10]\n",
    "}"
   ]
  },
  {
   "cell_type": "markdown",
   "id": "61d7606b-0653-41c9-9183-20f337b91e53",
   "metadata": {},
   "source": [
    "### Run"
   ]
  },
  {
   "cell_type": "code",
   "execution_count": null,
   "id": "909f2882-f160-4a94-af3b-522793529c61",
   "metadata": {
    "execution": {
     "iopub.execute_input": "2021-10-05T14:26:31.641985Z",
     "iopub.status.busy": "2021-10-05T14:26:31.641840Z",
     "iopub.status.idle": "2021-10-05T14:26:50.992567Z",
     "shell.execute_reply": "2021-10-05T14:26:50.992361Z",
     "shell.execute_reply.started": "2021-10-05T14:26:31.641918Z"
    },
    "tags": []
   },
   "outputs": [],
   "source": [
    "runs_per_param_set = 2\n",
    "\n",
    "for i in range(runs_per_param_set):\n",
    "    \n",
    "    for g in ParameterGrid(grid):\n",
    "        m = RandomForestClassifier(n_jobs=-1)\n",
    "\n",
    "        with mlflow.start_run():\n",
    "            #mlflow_logs()\n",
    "            \n",
    "            m.set_params(**g)\n",
    "            mlflow.log_params(g)\n",
    "\n",
    "            m.fit(X_train.values, y_train.values.ravel())\n",
    "            \n",
    "            eval_df = pd.DataFrame({\n",
    "                        'predict_proba':m.predict_proba(X_valid.values)[:,1], \n",
    "                        'label':y_valid.to_numpy().ravel()\n",
    "                       }, \n",
    "                columns=['predict_proba','label'])\n",
    "            \n",
    "            train_accuracy = m.score(X_train, y_train.to_numpy())\n",
    "            mlflow.log_metric('train_accuracy', train_accuracy)\n",
    "            valid_accuracy = m.score(X_valid, y_valid.to_numpy())       \n",
    "            mlflow.log_metric('valid_accuracy', valid_accuracy)\n",
    "            \n",
    "            train_confusion = confusion_matrix(m.predict(X_train.values), y_train.to_numpy())\n",
    "            mlflow_log_string(train_confusion, 'train_confusion.txt')\n",
    "            valid_confusion = confusion_matrix(m.predict(X_valid.values), y_valid.to_numpy())\n",
    "            mlflow_log_string(valid_confusion, 'valid_confusion.txt')\n",
    "\n",
    "            mlflow.sklearn.log_model(m, 'model')"
   ]
  },
  {
   "cell_type": "markdown",
   "id": "f1563355-0ce7-42f8-ad29-5a3b3ac0f88b",
   "metadata": {},
   "source": [
    "### Select Best Run"
   ]
  },
  {
   "cell_type": "code",
   "execution_count": null,
   "id": "114cc523-e4f7-4cad-87a3-779875b9ee81",
   "metadata": {
    "ExecuteTime": {
     "end_time": "2021-09-06T10:41:55.713015Z",
     "start_time": "2021-09-06T10:41:55.460372Z"
    },
    "execution": {
     "iopub.execute_input": "2021-10-05T14:27:41.785190Z",
     "iopub.status.busy": "2021-10-05T14:27:41.785034Z",
     "iopub.status.idle": "2021-10-05T14:27:41.836471Z",
     "shell.execute_reply": "2021-10-05T14:27:41.836359Z",
     "shell.execute_reply.started": "2021-10-05T14:27:41.785127Z"
    },
    "tags": []
   },
   "outputs": [],
   "source": [
    "runs = mlflow.search_runs()\n",
    "runs.head()"
   ]
  },
  {
   "cell_type": "code",
   "execution_count": null,
   "id": "c0c9315b-be88-4332-b35c-3a43ae598e48",
   "metadata": {
    "ExecuteTime": {
     "end_time": "2021-09-06T10:42:09.580892Z",
     "start_time": "2021-09-06T10:42:09.579269Z"
    },
    "execution": {
     "iopub.execute_input": "2021-10-05T14:27:46.799616Z",
     "iopub.status.busy": "2021-10-05T14:27:46.799466Z",
     "iopub.status.idle": "2021-10-05T14:27:46.809878Z",
     "shell.execute_reply": "2021-10-05T14:27:46.809647Z",
     "shell.execute_reply.started": "2021-10-05T14:27:46.799548Z"
    },
    "tags": []
   },
   "outputs": [],
   "source": [
    "params = [col for col in runs if col.startswith('params')]\n",
    "best_params = runs.groupby(params)['metrics.valid_accuracy'].mean().idxmax()\n",
    "best_row = runs.set_index(keys=params).loc[best_params]\n",
    "\n",
    "best_run_id = list(best_row['run_id'])[0]\n",
    "best_run_id"
   ]
  },
  {
   "cell_type": "markdown",
   "id": "75c87aad-6896-464f-9295-3eef7861f0d2",
   "metadata": {},
   "source": [
    "#### Tag Best Run"
   ]
  },
  {
   "cell_type": "code",
   "execution_count": null,
   "id": "ac3162ac-8a0d-4f60-9298-ff3a99026975",
   "metadata": {
    "ExecuteTime": {
     "end_time": "2021-09-06T10:46:25.772655Z",
     "start_time": "2021-09-06T10:46:25.697017Z"
    },
    "execution": {
     "iopub.execute_input": "2021-10-05T14:27:50.339507Z",
     "iopub.status.busy": "2021-10-05T14:27:50.339334Z",
     "iopub.status.idle": "2021-10-05T14:27:50.402147Z",
     "shell.execute_reply": "2021-10-05T14:27:50.402011Z",
     "shell.execute_reply.started": "2021-10-05T14:27:50.339423Z"
    },
    "tags": []
   },
   "outputs": [],
   "source": [
    "with mlflow.start_run(run_id=best_run_id):\n",
    "    # tag the run as best_row\n",
    "    mlflow.set_tag('best_run', 1)   "
   ]
  },
  {
   "cell_type": "markdown",
   "id": "8da1fe4b-6215-49e4-acaf-0312f4aac4fc",
   "metadata": {},
   "source": [
    "#### Log Lens"
   ]
  },
  {
   "cell_type": "code",
   "execution_count": null,
   "id": "c46b4035-0d7c-4db4-bba7-2baa0cf5042d",
   "metadata": {
    "execution": {
     "iopub.execute_input": "2021-10-05T14:28:08.764799Z",
     "iopub.status.busy": "2021-10-05T14:28:08.764621Z",
     "iopub.status.idle": "2021-10-05T14:28:09.821750Z",
     "shell.execute_reply": "2021-10-05T14:28:09.821594Z",
     "shell.execute_reply.started": "2021-10-05T14:28:08.764701Z"
    },
    "tags": []
   },
   "outputs": [],
   "source": [
    "with mlflow.start_run(run_id=best_run_id):\n",
    "     mlflow_log_lens(lens)"
   ]
  },
  {
   "cell_type": "markdown",
   "id": "9af8993e-bb89-400a-ab63-37787c6936ce",
   "metadata": {},
   "source": [
    "### Register Model from Best Run for Deployment"
   ]
  },
  {
   "cell_type": "code",
   "execution_count": null,
   "id": "4614db8b-e04f-40dd-a259-d3a466f7a8ef",
   "metadata": {
    "execution": {
     "iopub.execute_input": "2021-10-05T14:28:22.137362Z",
     "iopub.status.busy": "2021-10-05T14:28:22.137232Z",
     "iopub.status.idle": "2021-10-05T14:28:22.138505Z",
     "shell.execute_reply": "2021-10-05T14:28:22.138358Z",
     "shell.execute_reply.started": "2021-10-05T14:28:22.137304Z"
    },
    "tags": []
   },
   "outputs": [],
   "source": [
    "model_name = 'demo-model-jen'\n",
    "version = 1"
   ]
  },
  {
   "cell_type": "code",
   "execution_count": null,
   "id": "f6e4f17c-ef96-4e2c-a0e2-9cb4bb1d2867",
   "metadata": {
    "execution": {
     "iopub.execute_input": "2021-10-05T14:28:23.949327Z",
     "iopub.status.busy": "2021-10-05T14:28:23.949131Z",
     "iopub.status.idle": "2021-10-05T14:28:24.336510Z",
     "shell.execute_reply": "2021-10-05T14:28:24.335240Z",
     "shell.execute_reply.started": "2021-10-05T14:28:23.949235Z"
    },
    "tags": []
   },
   "outputs": [],
   "source": [
    "mlflow.register_model(f'runs:/{best_run_id}/model', model_name)"
   ]
  },
  {
   "cell_type": "markdown",
   "id": "3c28d491-029f-4ddb-a0cc-66e7b7b8142e",
   "metadata": {},
   "source": [
    "-----"
   ]
  },
  {
   "cell_type": "markdown",
   "id": "6b2cc07e-67ae-4d7c-bbf4-eefbeab2422d",
   "metadata": {},
   "source": [
    "## Simplified Inference Pathway"
   ]
  },
  {
   "cell_type": "markdown",
   "id": "aa9b033c-4789-48ef-8ac0-3594758aa0b1",
   "metadata": {},
   "source": [
    "### Find Registered Model"
   ]
  },
  {
   "cell_type": "code",
   "execution_count": null,
   "id": "ef6a5923-0486-4863-b62d-dbd871dfb61e",
   "metadata": {
    "execution": {
     "iopub.execute_input": "2021-10-04T15:37:32.325487Z",
     "iopub.status.busy": "2021-10-04T15:37:32.325349Z",
     "iopub.status.idle": "2021-10-04T15:37:32.339589Z",
     "shell.execute_reply": "2021-10-04T15:37:32.339472Z",
     "shell.execute_reply.started": "2021-10-04T15:37:32.325428Z"
    },
    "tags": []
   },
   "outputs": [],
   "source": [
    "model_info = client.get_model_version(model_name, version)\n",
    "model_info"
   ]
  },
  {
   "cell_type": "code",
   "execution_count": null,
   "id": "7bfa5682-0255-4829-801c-8b8aa58698fb",
   "metadata": {
    "execution": {
     "iopub.execute_input": "2021-10-04T15:37:33.369803Z",
     "iopub.status.busy": "2021-10-04T15:37:33.369661Z",
     "iopub.status.idle": "2021-10-04T15:37:33.386325Z",
     "shell.execute_reply": "2021-10-04T15:37:33.386222Z",
     "shell.execute_reply.started": "2021-10-04T15:37:33.369727Z"
    },
    "tags": []
   },
   "outputs": [],
   "source": [
    "run_info = client.get_run(model_info.run_id)\n",
    "run_info"
   ]
  },
  {
   "cell_type": "markdown",
   "id": "d57168c9-7920-4e23-ae5d-d2614a3f8065",
   "metadata": {},
   "source": [
    "### Load Model using Name & Version"
   ]
  },
  {
   "cell_type": "code",
   "execution_count": null,
   "id": "2141ba92-4661-4131-b38a-7a52c6caba2f",
   "metadata": {
    "execution": {
     "iopub.execute_input": "2021-10-04T15:37:41.341265Z",
     "iopub.status.busy": "2021-10-04T15:37:41.341132Z",
     "iopub.status.idle": "2021-10-04T15:37:41.352686Z",
     "shell.execute_reply": "2021-10-04T15:37:41.352565Z",
     "shell.execute_reply.started": "2021-10-04T15:37:41.341207Z"
    },
    "tags": []
   },
   "outputs": [],
   "source": [
    "model = mlflow.sklearn.load_model(f'models:/{model_name}/{version}')"
   ]
  },
  {
   "cell_type": "code",
   "execution_count": null,
   "id": "e3e7c707-596c-4959-a340-9569c25bab50",
   "metadata": {
    "execution": {
     "iopub.execute_input": "2021-10-04T15:37:41.909921Z",
     "iopub.status.busy": "2021-10-04T15:37:41.909781Z",
     "iopub.status.idle": "2021-10-04T15:37:41.912158Z",
     "shell.execute_reply": "2021-10-04T15:37:41.912047Z",
     "shell.execute_reply.started": "2021-10-04T15:37:41.909862Z"
    },
    "tags": []
   },
   "outputs": [],
   "source": [
    "model"
   ]
  },
  {
   "cell_type": "markdown",
   "id": "c7152a99-a69f-47a8-941b-48c2126dbe9a",
   "metadata": {},
   "source": [
    "#### Get logged Lens"
   ]
  },
  {
   "cell_type": "code",
   "execution_count": null,
   "id": "f2321ff9-721e-4ec3-be43-d6cc4cb78497",
   "metadata": {
    "execution": {
     "iopub.execute_input": "2021-10-04T15:37:57.715060Z",
     "iopub.status.busy": "2021-10-04T15:37:57.714933Z",
     "iopub.status.idle": "2021-10-04T15:37:58.385800Z",
     "shell.execute_reply": "2021-10-04T15:37:58.368700Z",
     "shell.execute_reply.started": "2021-10-04T15:37:57.715002Z"
    },
    "tags": []
   },
   "outputs": [],
   "source": [
    "with tempfile.TemporaryDirectory() as tmp:\n",
    "    tmp_dir = Path(tmp)\n",
    "    \n",
    "    client.download_artifacts(model_info.run_id, 'lens', tmp_dir)\n",
    "    \n",
    "    lens_path = next((tmp_dir / 'lens').rglob('*.pkl'))\n",
    "    with open(lens_path, 'rb') as f:\n",
    "        loaded_lens = pickle.load(f)"
   ]
  },
  {
   "cell_type": "code",
   "execution_count": null,
   "id": "6593b72f-d729-44f9-9180-78125a0d15aa",
   "metadata": {
    "execution": {
     "iopub.execute_input": "2021-10-04T15:37:59.627640Z",
     "iopub.status.busy": "2021-10-04T15:37:59.626140Z",
     "iopub.status.idle": "2021-10-04T15:37:59.650700Z",
     "shell.execute_reply": "2021-10-04T15:37:59.649710Z",
     "shell.execute_reply.started": "2021-10-04T15:37:59.62699Z"
    },
    "tags": []
   },
   "outputs": [],
   "source": [
    "loaded_lens"
   ]
  },
  {
   "cell_type": "markdown",
   "id": "bbe5976f-25b9-4e4c-b474-26a87d2e7738",
   "metadata": {},
   "source": [
    "## Predict Individual"
   ]
  },
  {
   "cell_type": "code",
   "execution_count": null,
   "id": "8c92b8f9-1e54-4f77-a3e8-c1f15fde8f63",
   "metadata": {
    "execution": {
     "iopub.execute_input": "2021-10-04T15:38:12.445429Z",
     "iopub.status.busy": "2021-10-04T15:38:12.445292Z",
     "iopub.status.idle": "2021-10-04T15:38:12.468846Z",
     "shell.execute_reply": "2021-10-04T15:38:12.468707Z",
     "shell.execute_reply.started": "2021-10-04T15:38:12.445368Z"
    },
    "tags": []
   },
   "outputs": [],
   "source": [
    "live_df = live_dataset('T03')"
   ]
  },
  {
   "cell_type": "code",
   "execution_count": null,
   "id": "5a234d03-cf43-4bc9-a010-f526e774959c",
   "metadata": {
    "execution": {
     "iopub.execute_input": "2021-10-04T15:38:16.485679Z",
     "iopub.status.busy": "2021-10-04T15:38:16.485548Z",
     "iopub.status.idle": "2021-10-04T15:38:16.494644Z",
     "shell.execute_reply": "2021-10-04T15:38:16.494538Z",
     "shell.execute_reply.started": "2021-10-04T15:38:16.485620Z"
    },
    "tags": []
   },
   "outputs": [],
   "source": [
    "live_df.loc[:, ['episode_slice_id', 'admission_dt', 'bed_code', 'avg_heart_rate_1_24h']].sort_values('admission_dt', ascending=False).head()"
   ]
  },
  {
   "cell_type": "code",
   "execution_count": null,
   "id": "3776ce72-a9e8-4887-9317-b32ebb7b5266",
   "metadata": {
    "execution": {
     "iopub.execute_input": "2021-10-04T15:38:31.772150Z",
     "iopub.status.busy": "2021-10-04T15:38:31.772016Z",
     "iopub.status.idle": "2021-10-04T15:38:31.801983Z",
     "shell.execute_reply": "2021-10-04T15:38:31.801852Z",
     "shell.execute_reply.started": "2021-10-04T15:38:31.772087Z"
    },
    "tags": []
   },
   "outputs": [],
   "source": [
    "X_df = loaded_lens.transform(live_df)"
   ]
  },
  {
   "cell_type": "code",
   "execution_count": null,
   "id": "acc4e8de-e9b3-4dd1-9441-837f720abcf2",
   "metadata": {
    "execution": {
     "iopub.execute_input": "2021-10-04T15:38:39.217595Z",
     "iopub.status.busy": "2021-10-04T15:38:39.217461Z",
     "iopub.status.idle": "2021-10-04T15:38:39.227944Z",
     "shell.execute_reply": "2021-10-04T15:38:39.227818Z",
     "shell.execute_reply.started": "2021-10-04T15:38:39.217537Z"
    },
    "tags": []
   },
   "outputs": [],
   "source": [
    "predictions = model.predict_proba(X_df)"
   ]
  },
  {
   "cell_type": "code",
   "execution_count": null,
   "id": "e702c905-6baf-442b-9190-f939dfea72fc",
   "metadata": {
    "execution": {
     "iopub.execute_input": "2021-10-04T15:38:41.434875Z",
     "iopub.status.busy": "2021-10-04T15:38:41.434718Z",
     "iopub.status.idle": "2021-10-04T15:38:41.436584Z",
     "shell.execute_reply": "2021-10-04T15:38:41.436475Z",
     "shell.execute_reply.started": "2021-10-04T15:38:41.434814Z"
    },
    "tags": []
   },
   "outputs": [],
   "source": [
    "live_df['prediction'] = predictions[:, 1]"
   ]
  },
  {
   "cell_type": "markdown",
   "id": "deca7888-abb6-4cb4-afbb-63bdadabb4eb",
   "metadata": {
    "execution": {
     "iopub.execute_input": "2021-10-04T15:38:42.839598Z",
     "iopub.status.busy": "2021-10-04T15:38:42.839415Z",
     "iopub.status.idle": "2021-10-04T15:38:42.849825Z",
     "shell.execute_reply": "2021-10-04T15:38:42.849710Z",
     "shell.execute_reply.started": "2021-10-04T15:38:42.839516Z"
    },
    "tags": []
   },
   "source": [
    "live_df.loc[:, ['episode_slice_id', 'prediction']]"
   ]
  }
 ],
 "metadata": {
  "kernelspec": {
   "display_name": "Python 3.9 (XPython)",
   "language": "python",
   "name": "xpython"
  },
  "language_info": {
   "file_extension": ".py",
   "mimetype": "text/x-python",
   "name": "python",
   "version": "3.9.13"
  },
  "toc": {
   "base_numbering": 1,
   "nav_menu": {},
   "number_sections": true,
   "sideBar": true,
   "skip_h1_title": false,
   "title_cell": "Table of Contents",
   "title_sidebar": "Contents",
   "toc_cell": false,
   "toc_position": {
    "height": "calc(100% - 180px)",
    "left": "10px",
    "top": "150px",
    "width": "256px"
   },
   "toc_section_display": true,
   "toc_window_display": true
  }
 },
 "nbformat": 4,
 "nbformat_minor": 5
}
