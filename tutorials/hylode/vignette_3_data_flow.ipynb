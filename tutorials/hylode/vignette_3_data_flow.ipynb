{
 "cells": [
  {
   "cell_type": "markdown",
   "id": "f832e678",
   "metadata": {},
   "source": [
    "# Under the hood"
   ]
  },
  {
   "cell_type": "markdown",
   "id": "7e4b9fd0",
   "metadata": {},
   "source": [
    "What follows is a quick tour under the hood of Hylode... \n",
    "\n",
    "In `vignette_1_training_set`, we miraculously wound up with a usable set of features on running `retro_dataset`. This is of course because they had been lovingly built by Nel in advance.\n",
    "\n",
    "This notebook is aimed as a leg-up in getting your bearings around how Hylode ingests and processes data from EMAP. I include the different pieces of code and ways of thinking that have helped me, in the hope they will help others."
   ]
  },
  {
   "cell_type": "markdown",
   "id": "f4d95955-fc7e-4316-ab68-72a7f30f8003",
   "metadata": {},
   "source": [
    "### An over-arching view"
   ]
  },
  {
   "cell_type": "markdown",
   "id": "7f23052f",
   "metadata": {},
   "source": [
    "As good a starting point as any is the HySys architectural diagram linked to [here](https://github.com/HYLODE/HyLevel/blob/main/system-design/HYLODE.png?raw=True). (_You need to be logged into GitHub to view_)"
   ]
  },
  {
   "cell_type": "markdown",
   "id": "9b1c08d4",
   "metadata": {},
   "source": [
    "This picture gives an overview of how the system fits together. In terms of data ingestion, we can see HyFlow and HyGear, the two components responsible for fetching and transforming the data from EMAP (& other sources). Then sitting above them, there is HyCommand which controls different requests for the various subcomponents."
   ]
  },
  {
   "cell_type": "markdown",
   "id": "457e3904",
   "metadata": {},
   "source": [
    "In the current version, an example of how HyCommand does its work can be found in the ICU Demand [dag](https://github.com/HYLODE/HySys/blob/dev/hylode/hycommand/dags/icu_demand.py). This scheduled code triggers the appropriate actions from HyFlow and HyGear for initial ingestion and transformation of the data.\n",
    "\n",
    "(The PowerPoint slide `DAG.pptx` in this directory (download by opening in a new window) shows you the complete set operations the DAG triggers. Don't be disheartened if this seems like a bit much, we will have a look at it piece-by-piece...)"
   ]
  },
  {
   "cell_type": "markdown",
   "id": "41bcfdc6",
   "metadata": {
    "heading_collapsed": true
   },
   "source": [
    "### An example: HyFlow fetch_episode_slices"
   ]
  },
  {
   "cell_type": "markdown",
   "id": "3b58bb2b",
   "metadata": {
    "hidden": true
   },
   "source": [
    "Looking at that file for the dag, let's start by looking at the code here:\n",
    "```\n",
    "        fetch_episode_slices_task = SimpleHttpOperator(\n",
    "            task_id=f\"fetch_episode_slices-{ward}\",\n",
    "            http_conn_id=\"hyflow_api\",\n",
    "            method=\"POST\",\n",
    "            endpoint=\"/trigger/fetch/icu/episode_slices\",\n",
    "            headers=default_http_headers,\n",
    "            data=json.dumps(fetch_task_input),\n",
    "            extra_options={\n",
    "                \"check_response\": False\n",
    "            },  # turn off the default response check\n",
    "            response_check=skip_on_empty_result_set,  # add a custom response check\n",
    "        )\n",
    "```"
   ]
  },
  {
   "cell_type": "markdown",
   "id": "f1c9e329",
   "metadata": {
    "hidden": true
   },
   "source": [
    "This makes the API call to the hyflow_api to fetch the episode slices for a given ward. This can be found beautifully documented by looking at the HyFlow API docs ([here](http://uclvlddpragae08:5004/docs) at the time of writing). Here we can see that `fetch_episode_slices` is designed to:\n",
    ">Append Hylode episode slices to the `hyflow.icu_episode_slices_log` table\n",
    "for episodes which were active on the ward at the horizon.\n",
    "\n",
    ">A Hylode episode is defined as a stay on a specific ward\n",
    "with a limited allowable break between bed location visits on that ward.\n",
    "An episode slice is a fraction, up to & incl 100%, of an episode."
   ]
  },
  {
   "cell_type": "markdown",
   "id": "6e6a94b2",
   "metadata": {
    "heading_collapsed": true,
    "hidden": true
   },
   "source": [
    "#### SQL extraction code"
   ]
  },
  {
   "cell_type": "markdown",
   "id": "139e9679",
   "metadata": {
    "hidden": true
   },
   "source": [
    "Digging a little bit deeper, we can trace this back to the SQL code. The code corresponding to `fetch_episode_slices` can be found in the function `fetch_episode_slices` found in the definition of the endpoint [here](https://github.com/HYLODE/HySys/blob/dev/hylode/hyflow/src/hyflow/endpoints/task.py). Here we can see the following code slice: \n",
    "```\n",
    "    episode_slices_df = icu_episode_slices_from_emap(\n",
    "        ward, horizon_dt, list(beds_df.hl7_location)\n",
    "    )\n",
    "```\n",
    "Let's perhaps have a look at what this `icu_episode_slices_from_emap` function is..."
   ]
  },
  {
   "cell_type": "code",
   "execution_count": null,
   "id": "d42059d1-be4c-4d86-aba8-9a26dfc5e086",
   "metadata": {
    "execution": {
     "iopub.execute_input": "2021-12-01T17:28:53.184387Z",
     "iopub.status.busy": "2021-12-01T17:28:53.184180Z",
     "iopub.status.idle": "2021-12-01T17:28:54.908490Z",
     "shell.execute_reply": "2021-12-01T17:28:54.908327Z",
     "shell.execute_reply.started": "2021-12-01T17:28:53.184309Z"
    },
    "hidden": true,
    "tags": []
   },
   "outputs": [],
   "source": [
    "from hyflow.fetch.icu.icu_episode_slices import icu_episode_slices_from_emap"
   ]
  },
  {
   "cell_type": "code",
   "execution_count": null,
   "id": "adfe63ee",
   "metadata": {
    "execution": {
     "iopub.execute_input": "2021-12-01T17:28:54.908750Z",
     "iopub.status.busy": "2021-12-01T17:28:54.908655Z",
     "iopub.status.idle": "2021-12-01T17:28:54.955487Z",
     "shell.execute_reply": "2021-12-01T17:28:54.955191Z",
     "shell.execute_reply.started": "2021-12-01T17:28:54.908695Z"
    },
    "hidden": true,
    "tags": []
   },
   "outputs": [],
   "source": [
    "??icu_episode_slices_from_emap"
   ]
  },
  {
   "cell_type": "markdown",
   "id": "a340d016",
   "metadata": {
    "hidden": true
   },
   "source": [
    "Okay... so looking at this we can see that this function first call `icu_location_visits_from_emap`"
   ]
  },
  {
   "cell_type": "code",
   "execution_count": null,
   "id": "3df1b5ad-b145-434d-a232-87c74d9df42d",
   "metadata": {
    "execution": {
     "iopub.execute_input": "2021-12-01T17:29:01.226751Z",
     "iopub.status.busy": "2021-12-01T17:29:01.226607Z",
     "iopub.status.idle": "2021-12-01T17:29:01.227818Z",
     "shell.execute_reply": "2021-12-01T17:29:01.227684Z",
     "shell.execute_reply.started": "2021-12-01T17:29:01.226692Z"
    },
    "hidden": true,
    "tags": []
   },
   "outputs": [],
   "source": [
    "from hyflow.fetch.icu.icu_episode_slices import _icu_location_visits_from_emap"
   ]
  },
  {
   "cell_type": "code",
   "execution_count": null,
   "id": "c6b6fff2",
   "metadata": {
    "execution": {
     "iopub.execute_input": "2021-12-01T17:29:01.585020Z",
     "iopub.status.busy": "2021-12-01T17:29:01.584883Z",
     "iopub.status.idle": "2021-12-01T17:29:01.596070Z",
     "shell.execute_reply": "2021-12-01T17:29:01.595711Z",
     "shell.execute_reply.started": "2021-12-01T17:29:01.584959Z"
    },
    "hidden": true,
    "tags": []
   },
   "outputs": [],
   "source": [
    "??_icu_location_visits_from_emap"
   ]
  },
  {
   "cell_type": "markdown",
   "id": "e97d0892",
   "metadata": {
    "hidden": true
   },
   "source": [
    "...which in turn is running an sql query from file `emap__icu_location_visit_history.sql`. Looking this up in the Hylode code, we find the corresponding file [here](https://github.com/HYLODE/HySys/blob/dev/hylode/hyflow/src/hyflow/sql/emap__icu_location_visit_history.sql) and can run the corresponding query in DBForge (being sure to substitute for the parameters prefixed by %)\n",
    "\n",
    "Alternatively we can do that here in a notebook... (see appendix 1)"
   ]
  },
  {
   "cell_type": "markdown",
   "id": "260a9081",
   "metadata": {
    "heading_collapsed": true,
    "hidden": true
   },
   "source": [
    "#### Processing and storage in hylode_db"
   ]
  },
  {
   "cell_type": "markdown",
   "id": "4e6cbb24",
   "metadata": {
    "hidden": true
   },
   "source": [
    "Following through on the rest of the definition of `icu_episode_slices_from_emap`, we can see this function goes onto call `_coalesce_icu_location_visits_into_episode_slices` which generates our notion of ICU location visits (as described in the functions docstring - see using the ?? shortcut). "
   ]
  },
  {
   "cell_type": "markdown",
   "id": "fe10c2c4",
   "metadata": {
    "hidden": true
   },
   "source": [
    "Then returning back again to the code for `fetch_icu_episode_slices` we can see a call `df_to_hylode_db`. This is where the dataframe extracted from EMAP and then restructured to episode slices is stored in the Hylode databases. "
   ]
  },
  {
   "cell_type": "markdown",
   "id": "a2e89f0d",
   "metadata": {
    "hidden": true
   },
   "source": [
    "A very comparable process happens to bring in the observations into Hylode, so with some ferreting out (along the lines above) it should be possible to find the corresponding pieces of code. Next up is to transform the data from there..."
   ]
  },
  {
   "cell_type": "markdown",
   "id": "9591d505",
   "metadata": {},
   "source": [
    "### Another example: HyGear transformers"
   ]
  },
  {
   "cell_type": "markdown",
   "id": "e1515c67",
   "metadata": {},
   "source": [
    "In talking about how the Hylode ML system works, often a lot of discussions come back to the transformers. These are the pieces of code that take the data from a format not a million miles from that in EMAP into reproducible features for both retrospective model training and deployment."
   ]
  },
  {
   "cell_type": "markdown",
   "id": "3f4f3297",
   "metadata": {},
   "source": [
    "As in our section above on HyFlow the HyGear transformers are called on a schedule from the ICU Demand [dag](https://github.com/HYLODE/HySys/blob/dev/hylode/hycommand/dags/icu_sitrep.py)."
   ]
  },
  {
   "cell_type": "markdown",
   "id": "9fa56a1e",
   "metadata": {},
   "source": [
    "Take for instance the code here:\n",
    "```\n",
    "        generate_icu_temporal_task = SimpleHttpOperator(\n",
    "            task_id=f\"generate_icu_temporal-{ward}\",\n",
    "            http_conn_id=\"hygear_api\",\n",
    "            method=\"POST\",\n",
    "            endpoint=\"/trigger/generate/icu/cog1/temporal\",\n",
    "            headers=default_http_headers,\n",
    "            data=json.dumps(transform_task_input),\n",
    "        )\n",
    "```"
   ]
  },
  {
   "cell_type": "markdown",
   "id": "eb29e687",
   "metadata": {},
   "source": [
    "This makes the API call to the hygear_api to generate the ICU patient temporal features (age, elapsed length-of-stay etc.) for a given ward. This can be found beautifully documented by looking at the HyGear API docs ([here](http://uclvlddpragae08:5005/docs) at the time of writing). Here we can see that `temporal` is designed to:\n",
    ">Append temporal features to the `hygear.icu_temporal_log` table\n",
    "for episode slices active on the ward at the horizon."
   ]
  },
  {
   "cell_type": "markdown",
   "id": "f4061439",
   "metadata": {},
   "source": [
    "#### Transformers under the hood"
   ]
  },
  {
   "cell_type": "markdown",
   "id": "6ce7d575",
   "metadata": {},
   "source": [
    "Again we can go back to the definition of the endpoint found in this case [here](https://github.com/HYLODE/HySys/blob/dev/hylode/hygear/src/hygear/endpoints/cog1_endpoints.py) where we have the function `generate_icu_temporal`. This code allows us to actually look under the hood of the transformer. What we can see happening is that this code is pulling out the `icu_patients_from_hyflow` and applying a series of Transformer functions to them, namely: `AdmissionAgeTransformer` and `LengthOfStayTransformer`. Let's have a look at one of these..."
   ]
  },
  {
   "cell_type": "code",
   "execution_count": null,
   "id": "37e5aa4d",
   "metadata": {
    "execution": {
     "iopub.execute_input": "2021-12-01T17:30:58.484420Z",
     "iopub.status.busy": "2021-12-01T17:30:58.482740Z",
     "iopub.status.idle": "2021-12-01T17:30:58.123309Z",
     "shell.execute_reply": "2021-12-01T17:30:58.123153Z",
     "shell.execute_reply.started": "2021-12-01T17:30:58.48361Z"
    },
    "tags": []
   },
   "outputs": [],
   "source": [
    "from hygear.transform.cog1.icu_temporal import AdmissionAgeTransformer"
   ]
  },
  {
   "cell_type": "code",
   "execution_count": null,
   "id": "4b40470f",
   "metadata": {
    "execution": {
     "iopub.execute_input": "2021-12-01T17:30:58.364220Z",
     "iopub.status.busy": "2021-12-01T17:30:58.364080Z",
     "iopub.status.idle": "2021-12-01T17:30:58.373836Z",
     "shell.execute_reply": "2021-12-01T17:30:58.373581Z",
     "shell.execute_reply.started": "2021-12-01T17:30:58.364160Z"
    },
    "tags": []
   },
   "outputs": [],
   "source": [
    "AdmissionAgeTransformer??"
   ]
  },
  {
   "cell_type": "markdown",
   "id": "b06fef42",
   "metadata": {},
   "source": [
    "We can see that the transformer is a class. It takes a series of specified `input_cols`, and then has a defined `transform` method to output a specified set of `output cols`. Included in Appendix 2 is some code to run this transformer across a dataframe. You can use this same structure to develop and test new transformers in a notebook."
   ]
  },
  {
   "cell_type": "markdown",
   "id": "3cd13f43",
   "metadata": {},
   "source": [
    "Once this feature transformation is done and dusted, we are ready to use Nels' HyCastle machinery to pull together our feature sets for model training."
   ]
  },
  {
   "cell_type": "markdown",
   "id": "f04fc030",
   "metadata": {
    "heading_collapsed": true
   },
   "source": [
    "## Appendix 1: Running SQL in Jupyter"
   ]
  },
  {
   "cell_type": "markdown",
   "id": "1eac8a07",
   "metadata": {
    "hidden": true
   },
   "source": [
    "(magpied from Nels' existing HyMind exemplar)"
   ]
  },
  {
   "cell_type": "code",
   "execution_count": null,
   "id": "8d2b5b81",
   "metadata": {
    "execution": {
     "iopub.execute_input": "2021-12-01T17:37:43.248900Z",
     "iopub.status.busy": "2021-12-01T17:37:43.247370Z",
     "iopub.status.idle": "2021-12-01T17:37:44.940631Z",
     "shell.execute_reply": "2021-12-01T17:37:44.940461Z",
     "shell.execute_reply.started": "2021-12-01T17:37:43.24826Z"
    },
    "hidden": true,
    "tags": []
   },
   "outputs": [],
   "source": [
    "from datetime import datetime, timedelta\n",
    "import os\n",
    "from pathlib import Path\n",
    "from pprint import pprint\n",
    "import urllib\n",
    "\n",
    "import arrow\n",
    "import matplotlib.pyplot as plt\n",
    "import numpy as np\n",
    "import pandas as pd\n",
    "from sqlalchemy import create_engine\n",
    "\n",
    "from hylib.dt import LONDON_TZ, convert_dt_columns_to_london_tz"
   ]
  },
  {
   "cell_type": "code",
   "execution_count": null,
   "id": "cf3cc3fb",
   "metadata": {
    "execution": {
     "iopub.execute_input": "2021-12-01T17:37:44.940909Z",
     "iopub.status.busy": "2021-12-01T17:37:44.940814Z",
     "iopub.status.idle": "2021-12-01T17:37:44.941906Z",
     "shell.execute_reply": "2021-12-01T17:37:44.941792Z",
     "shell.execute_reply.started": "2021-12-01T17:37:44.940853Z"
    },
    "hidden": true,
    "tags": []
   },
   "outputs": [],
   "source": [
    "ward = 'T03'"
   ]
  },
  {
   "cell_type": "markdown",
   "id": "ba315bf0",
   "metadata": {
    "hidden": true
   },
   "source": [
    "### EMAP credentials"
   ]
  },
  {
   "cell_type": "markdown",
   "id": "83fb256b",
   "metadata": {
    "hidden": true
   },
   "source": [
    "EMAP credentials are allocated per user and not stored in the environment variables.\n",
    "You do not want your credentials to leak into the source repository.\n",
    "\n",
    "One way of safeguarding is to create a file called `secret` at the top level of the **HyMind** repository (one above this notebook).   \n",
    "Do this here in Jupyter and not a local copy of the repo.  \n",
    "\n",
    "The first line should be your UDS **username** and the second line should be your UDS **password**.\n",
    "\n",
    "`secret` has been added to `.gitignore` and will be excluded from the repository."
   ]
  },
  {
   "cell_type": "markdown",
   "id": "ab781826",
   "metadata": {
    "hidden": true
   },
   "source": [
    "Read your username & password into the environment:"
   ]
  },
  {
   "cell_type": "code",
   "execution_count": null,
   "id": "b55dd13c",
   "metadata": {
    "execution": {
     "iopub.execute_input": "2021-12-01T17:37:59.661317Z",
     "iopub.status.busy": "2021-12-01T17:37:59.661185Z",
     "iopub.status.idle": "2021-12-01T17:37:59.663675Z",
     "shell.execute_reply": "2021-12-01T17:37:59.663541Z",
     "shell.execute_reply.started": "2021-12-01T17:37:59.661258Z"
    },
    "hidden": true,
    "tags": []
   },
   "outputs": [],
   "source": [
    "os.environ['EMAP_DB_USER'], os.environ['EMAP_DB_PASSWORD'] = Path('../secret').read_text().strip().split('\\n')"
   ]
  },
  {
   "cell_type": "code",
   "execution_count": null,
   "id": "f3929d55",
   "metadata": {
    "execution": {
     "iopub.execute_input": "2021-12-01T17:38:00.789018Z",
     "iopub.status.busy": "2021-12-01T17:38:00.788881Z",
     "iopub.status.idle": "2021-12-01T17:38:00.790423Z",
     "shell.execute_reply": "2021-12-01T17:38:00.790303Z",
     "shell.execute_reply.started": "2021-12-01T17:38:00.788960Z"
    },
    "hidden": true,
    "tags": []
   },
   "outputs": [],
   "source": [
    "uds_host = os.getenv('EMAP_DB_HOST')\n",
    "uds_name = os.getenv('EMAP_DB_NAME')\n",
    "uds_port = os.getenv('EMAP_DB_PORT')\n",
    "uds_user = os.getenv('EMAP_DB_USER')\n",
    "uds_passwd = os.getenv('EMAP_DB_PASSWORD')"
   ]
  },
  {
   "cell_type": "markdown",
   "id": "8a51642a",
   "metadata": {
    "hidden": true
   },
   "source": [
    "Create a SQLAlchemy Engine for accessing the UDS:"
   ]
  },
  {
   "cell_type": "code",
   "execution_count": null,
   "id": "323aa17d",
   "metadata": {
    "execution": {
     "iopub.execute_input": "2021-12-01T17:38:01.888109Z",
     "iopub.status.busy": "2021-12-01T17:38:01.887982Z",
     "iopub.status.idle": "2021-12-01T17:38:01.940645Z",
     "shell.execute_reply": "2021-12-01T17:38:01.940462Z",
     "shell.execute_reply.started": "2021-12-01T17:38:01.888051Z"
    },
    "hidden": true,
    "tags": []
   },
   "outputs": [],
   "source": [
    "emapdb_engine = create_engine(f'postgresql://{uds_user}:{uds_passwd}@{uds_host}:{uds_port}/{uds_name}')"
   ]
  },
  {
   "cell_type": "code",
   "execution_count": null,
   "id": "25763848",
   "metadata": {
    "execution": {
     "iopub.execute_input": "2021-12-01T17:38:02.357572Z",
     "iopub.status.busy": "2021-12-01T17:38:02.357407Z",
     "iopub.status.idle": "2021-12-01T17:38:02.639903Z",
     "shell.execute_reply": "2021-12-01T17:38:02.639750Z",
     "shell.execute_reply.started": "2021-12-01T17:38:02.357505Z"
    },
    "hidden": true,
    "tags": []
   },
   "outputs": [],
   "source": [
    "from hyflow.settings import SQL_DIR\n",
    "visits_sql = (SQL_DIR / \"emap__icu_location_visit_history.sql\").read_text()"
   ]
  },
  {
   "cell_type": "code",
   "execution_count": null,
   "id": "d52393e8",
   "metadata": {
    "execution": {
     "iopub.execute_input": "2021-12-01T17:38:03.168079Z",
     "iopub.status.busy": "2021-12-01T17:38:03.167946Z",
     "iopub.status.idle": "2021-12-01T17:38:03.169243Z",
     "shell.execute_reply": "2021-12-01T17:38:03.169118Z",
     "shell.execute_reply.started": "2021-12-01T17:38:03.168021Z"
    },
    "hidden": true,
    "tags": []
   },
   "outputs": [],
   "source": [
    "# the point-in-time we are interested in:  7am on 17/07/2021 BST\n",
    "horizon_dt = datetime(2021, 7, 17, 7, 0, 0).astimezone(LONDON_TZ)"
   ]
  },
  {
   "cell_type": "code",
   "execution_count": null,
   "id": "588cee5a-bbc4-4cff-8d16-d7cf90b3f3d3",
   "metadata": {
    "execution": {
     "iopub.execute_input": "2021-12-01T17:38:03.958378Z",
     "iopub.status.busy": "2021-12-01T17:38:03.958245Z",
     "iopub.status.idle": "2021-12-01T17:38:03.981196Z",
     "shell.execute_reply": "2021-12-01T17:38:03.981044Z",
     "shell.execute_reply.started": "2021-12-01T17:38:03.958319Z"
    },
    "tags": []
   },
   "outputs": [],
   "source": [
    "from hylib.load.hydef import beds_from_hydef\n",
    "beds_df = beds_from_hydef(ward)"
   ]
  },
  {
   "cell_type": "code",
   "execution_count": null,
   "id": "9ba29507",
   "metadata": {
    "execution": {
     "iopub.execute_input": "2021-12-01T17:38:04.438531Z",
     "iopub.status.busy": "2021-12-01T17:38:04.438396Z",
     "iopub.status.idle": "2021-12-01T17:38:04.482949Z",
     "shell.execute_reply": "2021-12-01T17:38:04.482798Z",
     "shell.execute_reply.started": "2021-12-01T17:38:04.438465Z"
    },
    "hidden": true,
    "tags": []
   },
   "outputs": [],
   "source": [
    "visits_df = pd.read_sql(\n",
    "    visits_sql,\n",
    "    emapdb_engine,\n",
    "    params={\"horizon_dt\": horizon_dt, \"locations\": list(beds_df.hl7_location)},\n",
    ")"
   ]
  },
  {
   "cell_type": "code",
   "execution_count": null,
   "id": "c206b717",
   "metadata": {
    "execution": {
     "iopub.execute_input": "2021-12-01T17:38:05.895687Z",
     "iopub.status.busy": "2021-12-01T17:38:05.895558Z",
     "iopub.status.idle": "2021-12-01T17:38:05.910412Z",
     "shell.execute_reply": "2021-12-01T17:38:05.910288Z",
     "shell.execute_reply.started": "2021-12-01T17:38:05.895629Z"
    },
    "hidden": true,
    "tags": []
   },
   "outputs": [],
   "source": [
    "visits_df.head()"
   ]
  },
  {
   "cell_type": "markdown",
   "id": "27dfcbb2",
   "metadata": {},
   "source": [
    "## Appendix 2: Running some Transformer code"
   ]
  },
  {
   "cell_type": "code",
   "execution_count": null,
   "id": "87864b94",
   "metadata": {
    "execution": {
     "iopub.execute_input": "2021-12-01T17:32:35.685019Z",
     "iopub.status.busy": "2021-12-01T17:32:35.684894Z",
     "iopub.status.idle": "2021-12-01T17:32:35.686659Z",
     "shell.execute_reply": "2021-12-01T17:32:35.686533Z",
     "shell.execute_reply.started": "2021-12-01T17:32:35.684960Z"
    },
    "tags": []
   },
   "outputs": [],
   "source": [
    "from datetime import datetime\n",
    "import logging\n",
    "\n",
    "from fastapi import APIRouter\n",
    "\n",
    "from hylib.load.hydef import icu_observation_types_from_hydef\n",
    "\n",
    "from hyflow.load.icu.icu_episode_slices import icu_episode_slices_from_hyflow\n",
    "from hyflow.load.icu.icu_observations import icu_observations_from_hyflow\n",
    "from hyflow.load.icu.icu_patients import icu_patients_from_hyflow\n",
    "\n",
    "from hygear.transform.cog1.base import BaseCog1Transformer\n",
    "from typing import List"
   ]
  },
  {
   "cell_type": "code",
   "execution_count": null,
   "id": "4bbc00b8",
   "metadata": {
    "execution": {
     "iopub.execute_input": "2021-12-01T17:33:05.414106Z",
     "iopub.status.busy": "2021-12-01T17:33:05.413969Z",
     "iopub.status.idle": "2021-12-01T17:33:05.416883Z",
     "shell.execute_reply": "2021-12-01T17:33:05.416735Z",
     "shell.execute_reply.started": "2021-12-01T17:33:05.414043Z"
    },
    "tags": []
   },
   "outputs": [],
   "source": [
    "class AdmissionAgeTransformer(BaseCog1Transformer):\n",
    "    \"\"\"\n",
    "    An transformer for age at admission\n",
    "\n",
    "    Output Features:\n",
    "        `admission_age_years`: float\n",
    "            Patient's age in years\n",
    "    \"\"\"\n",
    "\n",
    "    input_cols = [\"episode_slice_id\", \"admission_dt\", \"dob\"]\n",
    "\n",
    "    @property\n",
    "    def output_cols(self) -> List[str]:\n",
    "        return [\"episode_slice_id\", \"admission_age_years\"]\n",
    "\n",
    "    def years(self, row: pd.Series) -> float:\n",
    "        if pd.isnull(row.dob):\n",
    "            return np.nan\n",
    "        else:\n",
    "            return int(row[\"admission_dt\"].year) - int(row[\"dob\"].year)\n",
    "\n",
    "    def transform(self) -> pd.DataFrame:\n",
    "        output_df = self.input_df\n",
    "\n",
    "        output_df[\"admission_age_years\"] = output_df.apply(self.years, axis=1)\n",
    "\n",
    "        return output_df.loc[:, self.output_cols]"
   ]
  },
  {
   "cell_type": "code",
   "execution_count": null,
   "id": "59afc2ec",
   "metadata": {
    "execution": {
     "iopub.execute_input": "2021-12-01T17:33:06.423832Z",
     "iopub.status.busy": "2021-12-01T17:33:06.423633Z",
     "iopub.status.idle": "2021-12-01T17:33:06.425732Z",
     "shell.execute_reply": "2021-12-01T17:33:06.425585Z",
     "shell.execute_reply.started": "2021-12-01T17:33:06.423746Z"
    },
    "tags": []
   },
   "outputs": [],
   "source": [
    "ward"
   ]
  },
  {
   "cell_type": "code",
   "execution_count": null,
   "id": "9db8a4af",
   "metadata": {
    "execution": {
     "iopub.execute_input": "2021-12-01T17:33:07.453170Z",
     "iopub.status.busy": "2021-12-01T17:33:07.452984Z",
     "iopub.status.idle": "2021-12-01T17:33:07.454723Z",
     "shell.execute_reply": "2021-12-01T17:33:07.454578Z",
     "shell.execute_reply.started": "2021-12-01T17:33:07.453088Z"
    },
    "tags": []
   },
   "outputs": [],
   "source": [
    "horizon_dt = datetime(2021, 10, 12, 11, 00).astimezone(LONDON_TZ)"
   ]
  },
  {
   "cell_type": "code",
   "execution_count": null,
   "id": "fb9bdab4-afb5-437a-a0dd-c1655b93f5c1",
   "metadata": {
    "execution": {
     "iopub.execute_input": "2021-12-01T17:33:10.660707Z",
     "iopub.status.busy": "2021-12-01T17:33:10.660577Z",
     "iopub.status.idle": "2021-12-01T17:33:10.760592Z",
     "shell.execute_reply": "2021-12-01T17:33:10.760431Z",
     "shell.execute_reply.started": "2021-12-01T17:33:10.660646Z"
    },
    "tags": []
   },
   "outputs": [],
   "source": [
    "episode_slices_df = icu_episode_slices_from_hyflow(ward, horizon_dt)"
   ]
  },
  {
   "cell_type": "code",
   "execution_count": null,
   "id": "096ad05b",
   "metadata": {
    "execution": {
     "iopub.execute_input": "2021-12-01T17:33:11.333818Z",
     "iopub.status.busy": "2021-12-01T17:33:11.333657Z",
     "iopub.status.idle": "2021-12-01T17:33:11.335651Z",
     "shell.execute_reply": "2021-12-01T17:33:11.335518Z",
     "shell.execute_reply.started": "2021-12-01T17:33:11.333744Z"
    },
    "tags": []
   },
   "outputs": [],
   "source": [
    "episode_slices_df.shape"
   ]
  },
  {
   "cell_type": "code",
   "execution_count": null,
   "id": "1335d2ea",
   "metadata": {
    "execution": {
     "iopub.execute_input": "2021-12-01T17:33:16.282222Z",
     "iopub.status.busy": "2021-12-01T17:33:16.282040Z",
     "iopub.status.idle": "2021-12-01T17:33:16.300657Z",
     "shell.execute_reply": "2021-12-01T17:33:16.300468Z",
     "shell.execute_reply.started": "2021-12-01T17:33:16.282145Z"
    },
    "tags": []
   },
   "outputs": [],
   "source": [
    "patients_df = icu_patients_from_hyflow(\n",
    "    ward, horizon_dt, list(episode_slices_df.episode_slice_id)\n",
    ")"
   ]
  },
  {
   "cell_type": "code",
   "execution_count": null,
   "id": "c01d8858",
   "metadata": {
    "execution": {
     "iopub.execute_input": "2021-12-01T17:33:16.942387Z",
     "iopub.status.busy": "2021-12-01T17:33:16.942197Z",
     "iopub.status.idle": "2021-12-01T17:33:16.948667Z",
     "shell.execute_reply": "2021-12-01T17:33:16.948469Z",
     "shell.execute_reply.started": "2021-12-01T17:33:16.942301Z"
    },
    "tags": []
   },
   "outputs": [],
   "source": [
    "age_input_df = episode_slices_df.loc[:, [\"episode_slice_id\", \"admission_dt\"]].join(\n",
    "    patients_df.loc[:, [\"episode_slice_id\", \"dob\"]].set_index(\"episode_slice_id\"),\n",
    "    on=\"episode_slice_id\",\n",
    ")"
   ]
  },
  {
   "cell_type": "code",
   "execution_count": null,
   "id": "09f71dce",
   "metadata": {
    "execution": {
     "iopub.execute_input": "2021-12-01T17:33:17.593388Z",
     "iopub.status.busy": "2021-12-01T17:33:17.593211Z",
     "iopub.status.idle": "2021-12-01T17:33:17.602674Z",
     "shell.execute_reply": "2021-12-01T17:33:17.602549Z",
     "shell.execute_reply.started": "2021-12-01T17:33:17.593304Z"
    },
    "tags": []
   },
   "outputs": [],
   "source": [
    "age_df = AdmissionAgeTransformer(ward, horizon_dt, age_input_df).transform()\n",
    "output_df = episode_slices_df.loc[:, [\"episode_slice_id\"]].join(\n",
    "    age_df.set_index(\"episode_slice_id\"), on=\"episode_slice_id\"\n",
    ")"
   ]
  },
  {
   "cell_type": "code",
   "execution_count": null,
   "id": "272c455e",
   "metadata": {
    "execution": {
     "iopub.execute_input": "2021-12-01T17:33:18.118310Z",
     "iopub.status.busy": "2021-12-01T17:33:18.118175Z",
     "iopub.status.idle": "2021-12-01T17:33:18.123441Z",
     "shell.execute_reply": "2021-12-01T17:33:18.123326Z",
     "shell.execute_reply.started": "2021-12-01T17:33:18.118251Z"
    },
    "tags": []
   },
   "outputs": [],
   "source": [
    "age_df"
   ]
  }
 ],
 "metadata": {
  "kernelspec": {
   "display_name": "Python 3.9 (XPython)",
   "language": "python",
   "name": "xpython"
  },
  "language_info": {
   "file_extension": ".py",
   "mimetype": "text/x-python",
   "name": "python",
   "version": "3.9.13"
  },
  "toc": {
   "base_numbering": 1,
   "nav_menu": {},
   "number_sections": true,
   "sideBar": true,
   "skip_h1_title": false,
   "title_cell": "Table of Contents",
   "title_sidebar": "Contents",
   "toc_cell": false,
   "toc_position": {},
   "toc_section_display": true,
   "toc_window_display": true
  }
 },
 "nbformat": 4,
 "nbformat_minor": 5
}
